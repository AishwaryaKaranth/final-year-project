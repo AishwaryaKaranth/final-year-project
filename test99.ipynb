{
  "nbformat": 4,
  "nbformat_minor": 0,
  "metadata": {
    "colab": {
      "name": "test99.ipynb",
      "provenance": []
    },
    "kernelspec": {
      "display_name": "Python 3",
      "name": "python3"
    },
    "language_info": {
      "name": "python"
    }
  },
  "cells": [
    {
      "cell_type": "code",
      "metadata": {
        "colab": {
          "base_uri": "https://localhost:8080/"
        },
        "id": "hXo--1f0hqsD",
        "outputId": "c144335a-f3a1-470e-e116-a3dc9a51fa8e"
      },
      "source": [
        "from google.colab import drive\n",
        "drive.mount('/content/drive')"
      ],
      "execution_count": 1,
      "outputs": [
        {
          "output_type": "stream",
          "text": [
            "Mounted at /content/drive\n"
          ],
          "name": "stdout"
        }
      ]
    },
    {
      "cell_type": "code",
      "metadata": {
        "colab": {
          "base_uri": "https://localhost:8080/"
        },
        "id": "IHzLWmiWhyHF",
        "outputId": "d806bbc1-6a5a-4bb2-8129-dae02061252c"
      },
      "source": [
        "!pip install flask"
      ],
      "execution_count": 12,
      "outputs": [
        {
          "output_type": "stream",
          "text": [
            "Requirement already satisfied: flask in /usr/local/lib/python3.7/dist-packages (1.1.4)\n",
            "Requirement already satisfied: Jinja2<3.0,>=2.10.1 in /usr/local/lib/python3.7/dist-packages (from flask) (2.11.3)\n",
            "Requirement already satisfied: Werkzeug<2.0,>=0.15 in /usr/local/lib/python3.7/dist-packages (from flask) (1.0.1)\n",
            "Requirement already satisfied: itsdangerous<2.0,>=0.24 in /usr/local/lib/python3.7/dist-packages (from flask) (1.1.0)\n",
            "Requirement already satisfied: click<8.0,>=5.1 in /usr/local/lib/python3.7/dist-packages (from flask) (7.1.2)\n",
            "Requirement already satisfied: MarkupSafe>=0.23 in /usr/local/lib/python3.7/dist-packages (from Jinja2<3.0,>=2.10.1->flask) (2.0.1)\n"
          ],
          "name": "stdout"
        }
      ]
    },
    {
      "cell_type": "code",
      "metadata": {
        "colab": {
          "base_uri": "https://localhost:8080/"
        },
        "id": "OpRgVpaIh9so",
        "outputId": "b8d9dd49-d1f6-4fab-d2fa-0e70dfad3db8"
      },
      "source": [
        "!pip install flask-ngrok"
      ],
      "execution_count": 13,
      "outputs": [
        {
          "output_type": "stream",
          "text": [
            "Collecting flask-ngrok\n",
            "  Downloading https://files.pythonhosted.org/packages/af/6c/f54cb686ad1129e27d125d182f90f52b32f284e6c8df58c1bae54fa1adbc/flask_ngrok-0.0.25-py3-none-any.whl\n",
            "Requirement already satisfied: requests in /usr/local/lib/python3.7/dist-packages (from flask-ngrok) (2.23.0)\n",
            "Requirement already satisfied: Flask>=0.8 in /usr/local/lib/python3.7/dist-packages (from flask-ngrok) (1.1.4)\n",
            "Requirement already satisfied: certifi>=2017.4.17 in /usr/local/lib/python3.7/dist-packages (from requests->flask-ngrok) (2020.12.5)\n",
            "Requirement already satisfied: chardet<4,>=3.0.2 in /usr/local/lib/python3.7/dist-packages (from requests->flask-ngrok) (3.0.4)\n",
            "Requirement already satisfied: urllib3!=1.25.0,!=1.25.1,<1.26,>=1.21.1 in /usr/local/lib/python3.7/dist-packages (from requests->flask-ngrok) (1.24.3)\n",
            "Requirement already satisfied: idna<3,>=2.5 in /usr/local/lib/python3.7/dist-packages (from requests->flask-ngrok) (2.10)\n",
            "Requirement already satisfied: Werkzeug<2.0,>=0.15 in /usr/local/lib/python3.7/dist-packages (from Flask>=0.8->flask-ngrok) (1.0.1)\n",
            "Requirement already satisfied: Jinja2<3.0,>=2.10.1 in /usr/local/lib/python3.7/dist-packages (from Flask>=0.8->flask-ngrok) (2.11.3)\n",
            "Requirement already satisfied: click<8.0,>=5.1 in /usr/local/lib/python3.7/dist-packages (from Flask>=0.8->flask-ngrok) (7.1.2)\n",
            "Requirement already satisfied: itsdangerous<2.0,>=0.24 in /usr/local/lib/python3.7/dist-packages (from Flask>=0.8->flask-ngrok) (1.1.0)\n",
            "Requirement already satisfied: MarkupSafe>=0.23 in /usr/local/lib/python3.7/dist-packages (from Jinja2<3.0,>=2.10.1->Flask>=0.8->flask-ngrok) (2.0.1)\n",
            "Installing collected packages: flask-ngrok\n",
            "Successfully installed flask-ngrok-0.0.25\n"
          ],
          "name": "stdout"
        }
      ]
    },
    {
      "cell_type": "code",
      "metadata": {
        "id": "PYII_E2DiDfg"
      },
      "source": [
        "import numpy as np\n",
        "import pandas as pd\n",
        "import matplotlib.pyplot as plt\n",
        "import PIL\n",
        "from PIL import Image,ImageFilter\n",
        "import cv2\n",
        "import keras\n",
        "from keras.models import Sequential, Model\n",
        "from keras.layers.core import Flatten, Dense, Dropout, Lambda, Reshape\n",
        "from keras.layers import Input\n",
        "from keras.layers.convolutional import Convolution2D, MaxPooling2D, ZeroPadding2D\n",
        "from keras.layers import Conv2D, MaxPooling2D, Activation\n",
        "from keras.optimizers import Adam"
      ],
      "execution_count": 96,
      "outputs": []
    },
    {
      "cell_type": "code",
      "metadata": {
        "id": "xxNj38diiSi3"
      },
      "source": [
        "def ConvLayers(layers, model, filters):\n",
        "  for i in range(layers):\n",
        "    model.add(ZeroPadding2D((1,1)))\n",
        "    model.add(Convolution2D(filters, 3,3,activation='relu'))\n",
        "  model.add(MaxPooling2D((2,2),strides=(1,1),padding=\"same\"))\n",
        "def FCLayers(model):\n",
        "  model.add(Dense(4096, activation='relu'))\n",
        "  model.add(Dropout(0.5))\n",
        "def VGG16_arc():\n",
        "  model=Sequential()\n",
        "  ConvLayers(2,model,64)\n",
        "  ConvLayers(2,model,128)\n",
        "  ConvLayers(3,model,256)\n",
        "  ConvLayers(3,model,512)\n",
        "  ConvLayers(3,model,512)\n",
        "  model.add(Flatten())\n",
        "  FCLayers(model)\n",
        "  FCLayers(model)\n",
        "  model.add(Dense(37,activation='sigmoid'))\n",
        "  #model.add(Dense(3,activation='softmax'))\n",
        "  return model"
      ],
      "execution_count": 97,
      "outputs": []
    },
    {
      "cell_type": "code",
      "metadata": {
        "colab": {
          "base_uri": "https://localhost:8080/"
        },
        "id": "JaQE3zY6iWoR",
        "outputId": "d7b8d859-daa6-469c-c783-bfd649a70878"
      },
      "source": [
        "optimizer = Adam(lr=0.001, decay=5e-4)\n",
        "model = VGG16_arc()\n",
        "model.compile(loss='mean_squared_error', optimizer=optimizer, metrics=['accuracy'])"
      ],
      "execution_count": 98,
      "outputs": [
        {
          "output_type": "stream",
          "text": [
            "/usr/local/lib/python3.7/dist-packages/tensorflow/python/keras/optimizer_v2/optimizer_v2.py:375: UserWarning: The `lr` argument is deprecated, use `learning_rate` instead.\n",
            "  \"The `lr` argument is deprecated, use `learning_rate` instead.\")\n"
          ],
          "name": "stderr"
        }
      ]
    },
    {
      "cell_type": "code",
      "metadata": {
        "id": "v2TInrv4iaTa"
      },
      "source": [
        "model.build(input_shape=(None,224,224,3))"
      ],
      "execution_count": 99,
      "outputs": []
    },
    {
      "cell_type": "code",
      "metadata": {
        "id": "jUUN6mJCid71"
      },
      "source": [
        "model.load_weights('/content/drive/MyDrive/flask_test/models/thirdrunweights.hdf5')"
      ],
      "execution_count": 100,
      "outputs": []
    },
    {
      "cell_type": "code",
      "metadata": {
        "id": "V1me8_FJiqaY"
      },
      "source": [
        "def preprocessing(imagepath):\n",
        "  img=Image.open(imagepath)\n",
        "  resized=img.resize((224,224))\n",
        "  medfil=resized.filter(ImageFilter.MedianFilter(size = 3)) \n",
        "  open_cv_image = np.array(medfil) \n",
        "  # Convert RGB to BGR \n",
        "  open_cv_image = open_cv_image[:, :, ::-1].copy() \n",
        "  ycb=cv2.cvtColor(open_cv_image,cv2.COLOR_BGR2LAB) # Converting RGB to LAB colorscale\n",
        "  imgs=cv2.split(ycb)  # Splitting Channels of LAB Colorscale.\n",
        "  clahe=cv2.createCLAHE(clipLimit=2.0,tileGridSize=(3,3)) # Creating CLAHE(Clip limit:sets threshhold for contrast limiting.)\n",
        "  # tilegridesize:used for subimages for applying clahe.\n",
        "  imgs[0]= clahe.apply(imgs[0]) # Applying Clahe on luminescence channel\n",
        "  labimg=cv2.merge(imgs)   # Merging channels of LAB.\n",
        "  labimg=cv2.cvtColor(labimg,cv2.COLOR_LAB2BGR) # Converting back LAB to RGB color scale in BGR format\n",
        "  RGBimage = labimg[...,::-1] #BGR to RGB\n",
        "  return RGBimage"
      ],
      "execution_count": 180,
      "outputs": []
    },
    {
      "cell_type": "code",
      "metadata": {
        "id": "oTfD_VK3iwhB"
      },
      "source": [
        "from keras.preprocessing.image import load_img\n",
        "from keras.preprocessing.image import img_to_array\n",
        "\n",
        "def prediction(image):\n",
        "  img_array = img_to_array(image)\n",
        "  img_batch = np.expand_dims(img_array, axis=0)\n",
        "  predictarray=model.predict(img_batch)\n",
        "  return predictarray\n",
        "\n",
        "predictarray=prediction(image)"
      ],
      "execution_count": 181,
      "outputs": []
    },
    {
      "cell_type": "code",
      "metadata": {
        "id": "Y7BH8ruvizzf"
      },
      "source": [
        "classes = ['Class1.1', 'Class1.2', 'Class1.3', 'Class2.1', 'Class2.2', 'Class3.1','Class3.2', 'Class4.1', 'Class4.2', 'Class5.1', 'Class5.2', 'Class5.3','Class5.4', 'Class6.1', 'Class6.2', 'Class7.1', 'Class7.2', 'Class7.3','Class8.1', 'Class8.2', 'Class8.3', 'Class8.4', 'Class8.5', 'Class8.6', 'Class8.7', 'Class9.1', 'Class9.2', 'Class9.3', 'Class10.1', 'Class10.2', 'Class10.3', 'Class11.1', 'Class11.2', 'Class11.3', 'Class11.4', 'Class11.5', 'Class11.6'\n",
        "]"
      ],
      "execution_count": 182,
      "outputs": []
    },
    {
      "cell_type": "code",
      "metadata": {
        "id": "Mwe3evz5i23l"
      },
      "source": [
        "features=[]\n",
        "def class7(predictdf):\n",
        "  global features\n",
        "  if ((predictdf['Class7.1']>predictdf['Class7.2']) & (predictdf['Class7.1']>predictdf['Class7.3'])).any():\n",
        "    print('The Galaxy Is Completely Round')\n",
        "    features.append('The Galaxy Is Completely Round')\n",
        "    class6(predictdf)\n",
        "  elif ((predictdf['Class7.2']>predictdf['Class7.1']) & (predictdf['Class7.2']>predictdf['Class7.3'])).any():\n",
        "    print('The Galaxy Is Neither Completely Round Nor Cigar Shaped (In Between)')\n",
        "    features.append('The Galaxy Is Neither Completely Round Nor Cigar Shaped (In Between)')\n",
        "    class6(predictdf)\n",
        "  elif ((predictdf['Class7.3']>predictdf['Class7.1']) & (predictdf['Class7.3']>predictdf['Class7.2'])).any():\n",
        "    print('The Galaxy Is Cigar Shaped')\n",
        "    features.append('The Galaxy Is Cigar Shaped')\n",
        "    class6(predictdf)\n",
        "\n",
        "def class6(predictdf):\n",
        "  global features\n",
        "  if (predictdf['Class6.1']>predictdf['Class6.2']).any():\n",
        "    class8(predictdf)\n",
        "  elif (predictdf['Class6.2']>predictdf['Class6.1']).any():\n",
        "    print('The Galaxy Has No Odd Feature')\n",
        "    features.append('The Galaxy Has No Odd Feature')\n",
        "\n",
        "def class8(predictdf):\n",
        "  global features\n",
        "  if ((predictdf['Class8.1']>predictdf['Class8.2']) & (predictdf['Class8.1']>predictdf['Class8.3']) & (predictdf['Class8.1']>predictdf['Class8.4']) & (predictdf['Class8.1']>predictdf['Class8.5']) & (predictdf['Class8.1']>predictdf['Class8.6']) & (predictdf['Class8.1']>predictdf['Class8.7'])).any():\n",
        "    print('Odd Feature - Ring')\n",
        "    features.append('Odd Feature - Ring')\n",
        "  elif ((predictdf['Class8.2']>predictdf['Class8.1']) & (predictdf['Class8.2']>predictdf['Class8.3']) & (predictdf['Class8.2']>predictdf['Class8.4']) & (predictdf['Class8.2']>predictdf['Class8.5']) & (predictdf['Class8.2']>predictdf['Class8.6']) & (predictdf['Class8.2']>predictdf['Class8.7'])).any():\n",
        "    print('Odd Feature - Lens Or Arc')\n",
        "    features.append('Odd Feature - Lens Or Arc')\n",
        "  elif ((predictdf['Class8.3']>predictdf['Class8.1']) & (predictdf['Class8.3']>predictdf['Class8.2']) & (predictdf['Class8.3']>predictdf['Class8.4']) & (predictdf['Class8.3']>predictdf['Class8.5']) & (predictdf['Class8.3']>predictdf['Class8.6']) & (predictdf['Class8.3']>predictdf['Class8.7'])).any():\n",
        "    print('Odd Feature - Disturbed')\n",
        "    features.append('Odd Feature - Disturbed')\n",
        "  elif ((predictdf['Class8.4']>predictdf['Class8.1']) & (predictdf['Class8.4']>predictdf['Class8.2']) & (predictdf['Class8.4']>predictdf['Class8.3']) & (predictdf['Class8.4']>predictdf['Class8.5']) & (predictdf['Class8.4']>predictdf['Class8.6']) & (predictdf['Class8.4']>predictdf['Class8.7'])).any():\n",
        "    print('Odd Feature - Irregular')\n",
        "    features.append('Odd Feature - Irregular')\n",
        "  elif ((predictdf['Class8.5']>predictdf['Class8.1']) & (predictdf['Class8.5']>predictdf['Class8.2']) & (predictdf['Class8.5']>predictdf['Class8.3']) & (predictdf['Class8.5']>predictdf['Class8.4']) & (predictdf['Class8.5']>predictdf['Class8.6']) & (predictdf['Class8.5']>predictdf['Class8.7'])).any():\n",
        "    print('Odd Feature - Other')\n",
        "    features.append('Odd Feature - Other')\n",
        "  elif ((predictdf['Class8.6']>predictdf['Class8.1']) & (predictdf['Class8.6']>predictdf['Class8.2']) & (predictdf['Class8.6']>predictdf['Class8.3']) & (predictdf['Class8.6']>predictdf['Class8.4']) & (predictdf['Class8.6']>predictdf['Class8.5']) & (predictdf['Class8.6']>predictdf['Class8.7'])).any():\n",
        "    print('Odd Feature - Merger')\n",
        "    features.append('Odd Feature - Merger')\n",
        "  elif ((predictdf['Class8.7']>predictdf['Class8.1']) & (predictdf['Class8.7']>predictdf['Class8.2']) & (predictdf['Class8.7']>predictdf['Class8.3']) & (predictdf['Class8.7']>predictdf['Class8.4']) & (predictdf['Class8.7']>predictdf['Class8.5']) & (predictdf['Class8.7']>predictdf['Class8.6'])).any():\n",
        "    print('Odd Feature - Dust Lane')\n",
        "    features.append('Odd Feature - Dust Lane')\n",
        "\n",
        "def class2(predictdf):\n",
        "  global features\n",
        "  if (predictdf['Class2.1']>predictdf['Class2.2']).any():\n",
        "    print('The Disk Can Be Viewed Edge-on')\n",
        "    features.append('The Disk Can Be Viewed Edge-on')\n",
        "    class9(predictdf)\n",
        "  elif (predictdf['Class2.2']>predictdf['Class2.1']).any():\n",
        "    print('The Disk Cannot Be Viewed Edge-on')\n",
        "    features.append('The Disk Cannot Be Viewed Edge-on')\n",
        "    class3(predictdf)\n",
        "\n",
        "def class9(predictdf):\n",
        "  global features\n",
        "  if ((predictdf['Class9.1']>predictdf['Class9.2']) & (predictdf['Class9.1']>predictdf['Class9.3'])).any():\n",
        "    print('The Galaxy Has A Rounded Bulge At Its Centre')\n",
        "    features.append('The Galaxy Has A Rounded Bulge At Its Centre')\n",
        "    class6(predictdf)\n",
        "  elif ((predictdf['Class9.2']>predictdf['Class9.1']) & (predictdf['Class9.2']>predictdf['Class9.3'])).any():\n",
        "    print('The Galaxy Has A Boxy Bulge At Its Centre')\n",
        "    features.append('The Galaxy Has A Boxy Bulge At Its Centre')\n",
        "    class6(predictdf)\n",
        "  elif ((predictdf['Class9.3']>predictdf['Class9.1']) & (predictdf['Class9.3']>predictdf['Class9.2'])).any():\n",
        "    print('The Galaxy Has No Bulge At Its Centre ')\n",
        "    features.append('The Galaxy Has No Bulge At Its Centre ')\n",
        "    class6(predictdf)\n",
        "  \n",
        "def class3(predictdf):\n",
        "  global features\n",
        "  if (predictdf['Class3.1']>predictdf['Class3.2']).any():\n",
        "    print('There Is A Sign Of A Bar Feature Through The Centre Of The Galaxy')\n",
        "    features.append('There Is A Sign Of A Bar Feature Through The Centre Of The Galaxy')\n",
        "    class4(predictdf)\n",
        "  elif (predictdf['Class3.2']>predictdf['Class3.1']).any():\n",
        "    print('There Is No Sign Of A Bar Feature Through The Centre Of The Galaxy')\n",
        "    features.append('There Is No Sign Of A Bar Feature Through The Centre Of The Galaxy')\n",
        "    class4(predictdf)\n",
        "  \n",
        "def class4(predictdf):\n",
        "  global features\n",
        "  if (predictdf['Class4.1']>predictdf['Class4.2']).any():\n",
        "    print('There Is A Sign Of A Spiral Arm Pattern')\n",
        "    features.append('There Is A Sign Of A Spiral Arm Pattern')\n",
        "    class10(predictdf)\n",
        "  elif (predictdf['Class4.2']>predictdf['Class4.1']).any():\n",
        "    print('There Is No Sign Of A Spiral Arm Pattern')\n",
        "    features.append('There Is No Sign Of A Spiral Arm Pattern')\n",
        "    class5(predictdf)\n",
        "\n",
        "def class10(predictdf):\n",
        "  global features\n",
        "  if ((predictdf['Class10.1']>predictdf['Class10.2']) & (predictdf['Class10.1']>predictdf['Class10.3'])).any():\n",
        "    print('The Spiral Arms Appear To Be Tightly Wound')\n",
        "    features.append('The Spiral Arms Appear To Be Tightly Wound')\n",
        "    class11(predictdf)\n",
        "  elif ((predictdf['Class10.2']>predictdf['Class10.1']) & (predictdf['Class10.2']>predictdf['Class10.3'])).any():\n",
        "    print('The Spiral Arms Appear To Be Neither Tightly Nor Loosely Wound (Medium)')\n",
        "    features.append('The Spiral Arms Appear To Be Neither Tightly Nor Loosely Wound (Medium)')\n",
        "    class11(predictdf)\n",
        "  elif ((predictdf['Class10.3']>predictdf['Class10.1']) & (predictdf['Class10.3']>predictdf['Class10.2'])).any():\n",
        "    print('The Spiral Arms Appear To Be Loosely Wound')\n",
        "    features.append('The Spiral Arms Appear To Be Loosely Wound')\n",
        "    class11(predictdf)\n",
        "\n",
        "def class5(predictdf):\n",
        "  global features\n",
        "  if ((predictdf['Class5.1']>predictdf['Class5.2']) & (predictdf['Class5.1']>predictdf['Class5.3']) & (predictdf['Class5.1']>predictdf['Class5.4'])).any():\n",
        "    print('The Galaxy Has No Central Bulge')\n",
        "    features.append('The Galaxy Has No Central Bulge')\n",
        "    class6(predictdf)\n",
        "  elif ((predictdf['Class5.2']>predictdf['Class5.1']) & (predictdf['Class5.2']>predictdf['Class5.3']) & (predictdf['Class5.2']>predictdf['Class5.4'])).any():\n",
        "    print('The Galaxy Has A Central Bulge That Is Just Noticeable')\n",
        "    features.append('The Galaxy Has A Central Bulge That Is Just Noticeable')\n",
        "    class6(predictdf)\n",
        "  elif ((predictdf['Class5.3']>predictdf['Class5.1']) & (predictdf['Class5.3']>predictdf['Class5.2']) & (predictdf['Class5.3']>predictdf['Class5.4'])).any():\n",
        "    print('The Galaxy Has An Obvious Central Bulge')\n",
        "    features.append('The Galaxy Has An Obvious Central Bulge')\n",
        "    class6(predictdf)\n",
        "  elif ((predictdf['Class5.4']>predictdf['Class5.1']) & (predictdf['Class5.4']>predictdf['Class5.2']) & (predictdf['Class5.4']>predictdf['Class5.3'])).any():\n",
        "    print('The Galaxy Has A Dominant Central Bulge')\n",
        "    features.append('The Galaxy Has A Dominant Central Bulge')\n",
        "    class6(predictdf)\n",
        "\n",
        "def class11(predictdf):\n",
        "  global features\n",
        "  if ((predictdf['Class11.1']>predictdf['Class11.2']) & (predictdf['Class11.1']>predictdf['Class11.3']) & (predictdf['Class11.1']>predictdf['Class11.4']) & (predictdf['Class11.1']>predictdf['Class11.5']) & (predictdf['Class11.1']>predictdf['Class11.6'])).any():\n",
        "    print('The Galaxy Has 1 Spiral Arm')\n",
        "    features.append('The Galaxy Has 1 Spiral Arm')\n",
        "  elif ((predictdf['Class11.2']>predictdf['Class11.1']) & (predictdf['Class11.2']>predictdf['Class11.3']) & (predictdf['Class11.2']>predictdf['Class11.4']) & (predictdf['Class11.2']>predictdf['Class11.5']) & (predictdf['Class11.2']>predictdf['Class11.6'])).any():\n",
        "    print('The Galaxy Has 2 Spiral Arms')\n",
        "    features.append('The Galaxy Has 2 Spiral Arms')\n",
        "  elif ((predictdf['Class11.3']>predictdf['Class11.1']) & (predictdf['Class11.3']>predictdf['Class11.2']) & (predictdf['Class11.3']>predictdf['Class11.4']) & (predictdf['Class11.3']>predictdf['Class11.5']) & (predictdf['Class11.3']>predictdf['Class11.6'])).any():\n",
        "    print('The Galaxy Has 3 Spiral Arms')\n",
        "    features.append('The Galaxy Has 3 Spiral Arms')\n",
        "  elif ((predictdf['Class11.4']>predictdf['Class11.1']) & (predictdf['Class11.4']>predictdf['Class11.2']) & (predictdf['Class11.4']>predictdf['Class11.3']) & (predictdf['Class11.4']>predictdf['Class11.5']) & (predictdf['Class11.4']>predictdf['Class11.6'])).any():\n",
        "    print('The Galaxy Has 4 Spiral Arms')\n",
        "    features.append('The Galaxy Has 4 Spiral Arms')\n",
        "  elif ((predictdf['Class11.5']>predictdf['Class11.1']) & (predictdf['Class11.5']>predictdf['Class11.2']) & (predictdf['Class11.5']>predictdf['Class11.3']) & (predictdf['Class11.5']>predictdf['Class11.4']) & (predictdf['Class11.5']>predictdf['Class11.6'])).any():\n",
        "    print('The Galaxy Has More Than 4 Spiral Arms')\n",
        "    features.append('The Galaxy Has More Than 4 Spiral Arms')\n",
        "  elif ((predictdf['Class11.6']>predictdf['Class11.1']) & (predictdf['Class11.6']>predictdf['Class11.2']) & (predictdf['Class11.6']>predictdf['Class11.3']) & (predictdf['Class11.6']>predictdf['Class11.4']) & (predictdf['Class11.6']>predictdf['Class11.5'])).any():\n",
        "    print('The Number Of Spiral Arms That The Galaxy Has Is Indeterminable')\n",
        "    features.append('The Number Of Spiral Arms That The Galaxy Has Is Indeterminable')\n",
        "  \n",
        "def getfeatures(predictdf):\n",
        "  global features\n",
        "  features=[]\n",
        "  print(\"The predicted features of the image are - \\n\")\n",
        "  if ((predictdf['Class1.1']>predictdf['Class1.2']) & (predictdf['Class1.1']>predictdf['Class1.3'])).any():\n",
        "    print('The Galaxy Is Smooth')\n",
        "    features.append('The Galaxy Is Smooth')\n",
        "    class7(predictdf)\n",
        "  elif ((predictdf['Class1.2']>predictdf['Class1.1']) & (predictdf['Class1.2']>predictdf['Class1.3'])).any():\n",
        "    print('The Galaxy Has Features/Disk')\n",
        "    features.append('The Galaxy Has Features/Disk')\n",
        "    class2(predictdf)\n",
        "  elif ((predictdf['Class1.3']>predictdf['Class1.1']) & (predictdf['Class1.3']>predictdf['Class1.2'])).any():\n",
        "    print('The Image Is Of A Star/Artifact')\n",
        "    features.append('The Image Is Of A Star/Artifact')\n",
        "  return features"
      ],
      "execution_count": 189,
      "outputs": []
    },
    {
      "cell_type": "code",
      "metadata": {
        "colab": {
          "base_uri": "https://localhost:8080/",
          "height": 52
        },
        "id": "IZzwVr5ki-8M",
        "outputId": "7a36a113-2844-4bd6-eb22-75ef4a4efb96"
      },
      "source": [
        "from flask import Flask,url_for,render_template,request,redirect\n",
        "from PIL import Image,ImageFilter\n",
        "from flask_ngrok import run_with_ngrok\n",
        "import io\n",
        "import base64\n",
        "import os\n",
        "arr=[]\n",
        "#UPLOAD_FOLDER = '/content/drive/MyDrive/flask_test/static/uploads'\n",
        "\n",
        "app = Flask(__name__, template_folder='/content/drive/MyDrive/flask_test/templates/')\n",
        "#app.secret_key = \"secret key\"\n",
        "#app.config['UPLOAD_FOLDER'] = UPLOAD_FOLDER\n",
        "run_with_ngrok(app)\n",
        "\n",
        "\n",
        "'''ALLOWED_EXTENSIONS = set(['png', 'jpg', 'jpeg', 'gif'])\n",
        "\n",
        "def allowed_file(filename):\n",
        "\treturn '.' in filename and filename.rsplit('.', 1)[1].lower() in ALLOWED_EXTENSIONS'''"
      ],
      "execution_count": 190,
      "outputs": [
        {
          "output_type": "execute_result",
          "data": {
            "application/vnd.google.colaboratory.intrinsic+json": {
              "type": "string"
            },
            "text/plain": [
              "\"ALLOWED_EXTENSIONS = set(['png', 'jpg', 'jpeg', 'gif'])\\n\\ndef allowed_file(filename):\\n\\treturn '.' in filename and filename.rsplit('.', 1)[1].lower() in ALLOWED_EXTENSIONS\""
            ]
          },
          "metadata": {
            "tags": []
          },
          "execution_count": 190
        }
      ]
    },
    {
      "cell_type": "markdown",
      "metadata": {
        "id": "JCnq0kmTMa-l"
      },
      "source": [
        "tried to store images using app.config(UPLOAD_FOLDER) didnt work :/ , images are being stored but not getting displayed."
      ]
    },
    {
      "cell_type": "code",
      "metadata": {
        "id": "zK3-ILxTjlUu"
      },
      "source": [
        "@app.route('/')\n",
        "def upload_image():\n",
        "  return render_template('index.html')"
      ],
      "execution_count": 191,
      "outputs": []
    },
    {
      "cell_type": "code",
      "metadata": {
        "id": "OmWaK95qOTcX"
      },
      "source": [
        "\n",
        "@app.route(\"/upload\",methods=['GET','POST'])\n",
        "def upload():                                        \n",
        "        if request.method == 'POST':\n",
        "                f = request.files['file']\n",
        "                #print(f.filename)\n",
        "                #f.save(secure_filename(f.filename))\n",
        "                #filename = secure_filename(f.filename)\n",
        "                img=f.read()\n",
        "                p=Image.open(f)\n",
        "                pred=prediction(p)\n",
        "                predictdf=pd.DataFrame(data= pred, columns=classes) \n",
        "                global features\n",
        "                features=[]\n",
        "                features=getfeatures(predictdf)\n",
        "                x=Image.open(f)\n",
        "                data=io.BytesIO()\n",
        "                x.save(data, \"JPEG\")\n",
        "                encoded=base64.b64encode(data.getvalue())\n",
        "                return render_template('display.html', value=encoded.decode('utf-8'), length=len(features), features=features)"
      ],
      "execution_count": 192,
      "outputs": []
    },
    {
      "cell_type": "code",
      "metadata": {
        "colab": {
          "base_uri": "https://localhost:8080/"
        },
        "id": "7HYv-0gfi4Ct",
        "outputId": "3b0bca25-b68f-4cf7-aa09-0d6af618ac68"
      },
      "source": [
        "features"
      ],
      "execution_count": 193,
      "outputs": [
        {
          "output_type": "execute_result",
          "data": {
            "text/plain": [
              "[]"
            ]
          },
          "metadata": {
            "tags": []
          },
          "execution_count": 193
        }
      ]
    },
    {
      "cell_type": "code",
      "metadata": {
        "colab": {
          "base_uri": "https://localhost:8080/"
        },
        "id": "_5EvdzgC-rQv",
        "outputId": "816d4cd6-b2b4-4608-e05c-257ad37d354a"
      },
      "source": [
        "app.run()\n",
        "\n"
      ],
      "execution_count": 194,
      "outputs": [
        {
          "output_type": "stream",
          "text": [
            " * Serving Flask app \"__main__\" (lazy loading)\n",
            " * Environment: production\n",
            "\u001b[31m   WARNING: This is a development server. Do not use it in a production deployment.\u001b[0m\n",
            "\u001b[2m   Use a production WSGI server instead.\u001b[0m\n",
            " * Debug mode: off\n"
          ],
          "name": "stdout"
        },
        {
          "output_type": "stream",
          "text": [
            " * Running on http://127.0.0.1:5000/ (Press CTRL+C to quit)\n"
          ],
          "name": "stderr"
        },
        {
          "output_type": "stream",
          "text": [
            " * Running on http://cf31418aad9d.ngrok.io\n",
            " * Traffic stats available on http://127.0.0.1:4040\n"
          ],
          "name": "stdout"
        },
        {
          "output_type": "stream",
          "text": [
            "127.0.0.1 - - [10/Jun/2021 04:36:26] \"\u001b[37mGET / HTTP/1.1\u001b[0m\" 200 -\n",
            "127.0.0.1 - - [10/Jun/2021 04:36:27] \"\u001b[33mGET /css/styles.css?v=1.0 HTTP/1.1\u001b[0m\" 404 -\n",
            "127.0.0.1 - - [10/Jun/2021 04:36:27] \"\u001b[33mGET /js/scripts.js HTTP/1.1\u001b[0m\" 404 -\n",
            "127.0.0.1 - - [10/Jun/2021 04:36:27] \"\u001b[33mGET /favicon.ico HTTP/1.1\u001b[0m\" 404 -\n",
            "127.0.0.1 - - [10/Jun/2021 04:36:39] \"\u001b[37mPOST /upload HTTP/1.1\u001b[0m\" 200 -\n"
          ],
          "name": "stderr"
        },
        {
          "output_type": "stream",
          "text": [
            "The predicted features of the image are - \n",
            "\n",
            "The Galaxy Has Features/Disk\n",
            "The Disk Cannot Be Viewed Edge-on\n",
            "There Is No Sign Of A Bar Feature Through The Centre Of The Galaxy\n",
            "There Is No Sign Of A Spiral Arm Pattern\n",
            "The Galaxy Has No Central Bulge\n",
            "The Galaxy Has No Odd Feature\n"
          ],
          "name": "stdout"
        },
        {
          "output_type": "stream",
          "text": [
            "[2021-06-10 04:36:41,489] ERROR in app: Exception on /upload [GET]\n",
            "Traceback (most recent call last):\n",
            "  File \"/usr/local/lib/python3.7/dist-packages/flask/app.py\", line 2447, in wsgi_app\n",
            "    response = self.full_dispatch_request()\n",
            "  File \"/usr/local/lib/python3.7/dist-packages/flask/app.py\", line 1953, in full_dispatch_request\n",
            "    return self.finalize_request(rv)\n",
            "  File \"/usr/local/lib/python3.7/dist-packages/flask/app.py\", line 1968, in finalize_request\n",
            "    response = self.make_response(rv)\n",
            "  File \"/usr/local/lib/python3.7/dist-packages/flask/app.py\", line 2098, in make_response\n",
            "    \"The view function did not return a valid response. The\"\n",
            "TypeError: The view function did not return a valid response. The function either returned None or ended without a return statement.\n",
            "127.0.0.1 - - [10/Jun/2021 04:36:41] \"\u001b[35m\u001b[1mGET /upload HTTP/1.1\u001b[0m\" 500 -\n"
          ],
          "name": "stderr"
        }
      ]
    },
    {
      "cell_type": "code",
      "metadata": {
        "colab": {
          "base_uri": "https://localhost:8080/",
          "height": 100
        },
        "id": "KLPBaEYhmAGt",
        "outputId": "a0722c6e-e857-49fd-be46-0ae32211ff0f"
      },
      "source": [
        "image=load_img('/content/drive/MyDrive/flask_test/static/uploads/bg.jpg')\n",
        "image=img_to_array(image)\n",
        "predictarray=prediction(image)\n",
        "predictdf = pd.DataFrame(data = predictarray,columns = classes)\n",
        "predictdf"
      ],
      "execution_count": 135,
      "outputs": [
        {
          "output_type": "execute_result",
          "data": {
            "text/html": [
              "<div>\n",
              "<style scoped>\n",
              "    .dataframe tbody tr th:only-of-type {\n",
              "        vertical-align: middle;\n",
              "    }\n",
              "\n",
              "    .dataframe tbody tr th {\n",
              "        vertical-align: top;\n",
              "    }\n",
              "\n",
              "    .dataframe thead th {\n",
              "        text-align: right;\n",
              "    }\n",
              "</style>\n",
              "<table border=\"1\" class=\"dataframe\">\n",
              "  <thead>\n",
              "    <tr style=\"text-align: right;\">\n",
              "      <th></th>\n",
              "      <th>Class1.1</th>\n",
              "      <th>Class1.2</th>\n",
              "      <th>Class1.3</th>\n",
              "      <th>Class2.1</th>\n",
              "      <th>Class2.2</th>\n",
              "      <th>Class3.1</th>\n",
              "      <th>Class3.2</th>\n",
              "      <th>Class4.1</th>\n",
              "      <th>Class4.2</th>\n",
              "      <th>Class5.1</th>\n",
              "      <th>Class5.2</th>\n",
              "      <th>Class5.3</th>\n",
              "      <th>Class5.4</th>\n",
              "      <th>Class6.1</th>\n",
              "      <th>Class6.2</th>\n",
              "      <th>Class7.1</th>\n",
              "      <th>Class7.2</th>\n",
              "      <th>Class7.3</th>\n",
              "      <th>Class8.1</th>\n",
              "      <th>Class8.2</th>\n",
              "      <th>Class8.3</th>\n",
              "      <th>Class8.4</th>\n",
              "      <th>Class8.5</th>\n",
              "      <th>Class8.6</th>\n",
              "      <th>Class8.7</th>\n",
              "      <th>Class9.1</th>\n",
              "      <th>Class9.2</th>\n",
              "      <th>Class9.3</th>\n",
              "      <th>Class10.1</th>\n",
              "      <th>Class10.2</th>\n",
              "      <th>Class10.3</th>\n",
              "      <th>Class11.1</th>\n",
              "      <th>Class11.2</th>\n",
              "      <th>Class11.3</th>\n",
              "      <th>Class11.4</th>\n",
              "      <th>Class11.5</th>\n",
              "      <th>Class11.6</th>\n",
              "    </tr>\n",
              "  </thead>\n",
              "  <tbody>\n",
              "    <tr>\n",
              "      <th>0</th>\n",
              "      <td>0.742251</td>\n",
              "      <td>0.191138</td>\n",
              "      <td>0.069667</td>\n",
              "      <td>0.010441</td>\n",
              "      <td>0.177414</td>\n",
              "      <td>0.018113</td>\n",
              "      <td>0.157539</td>\n",
              "      <td>0.030714</td>\n",
              "      <td>0.147438</td>\n",
              "      <td>0.010131</td>\n",
              "      <td>0.041932</td>\n",
              "      <td>0.090104</td>\n",
              "      <td>0.031597</td>\n",
              "      <td>0.240104</td>\n",
              "      <td>0.759837</td>\n",
              "      <td>0.401176</td>\n",
              "      <td>0.338155</td>\n",
              "      <td>0.003645</td>\n",
              "      <td>0.008384</td>\n",
              "      <td>0.02544</td>\n",
              "      <td>0.024866</td>\n",
              "      <td>0.01859</td>\n",
              "      <td>0.107872</td>\n",
              "      <td>0.052407</td>\n",
              "      <td>0.001826</td>\n",
              "      <td>0.008279</td>\n",
              "      <td>0.001131</td>\n",
              "      <td>0.001339</td>\n",
              "      <td>0.013592</td>\n",
              "      <td>0.010536</td>\n",
              "      <td>0.006058</td>\n",
              "      <td>0.003647</td>\n",
              "      <td>0.006172</td>\n",
              "      <td>0.000362</td>\n",
              "      <td>0.000342</td>\n",
              "      <td>0.00133</td>\n",
              "      <td>0.016744</td>\n",
              "    </tr>\n",
              "  </tbody>\n",
              "</table>\n",
              "</div>"
            ],
            "text/plain": [
              "   Class1.1  Class1.2  Class1.3  ...  Class11.4  Class11.5  Class11.6\n",
              "0  0.742251  0.191138  0.069667  ...   0.000342    0.00133   0.016744\n",
              "\n",
              "[1 rows x 37 columns]"
            ]
          },
          "metadata": {
            "tags": []
          },
          "execution_count": 135
        }
      ]
    },
    {
      "cell_type": "code",
      "metadata": {
        "id": "wPF0THIFzvAN",
        "colab": {
          "base_uri": "https://localhost:8080/"
        },
        "outputId": "84bcc44f-097f-42d1-e723-53ec0183fdda"
      },
      "source": [
        "features=getfeatures(predictdf)"
      ],
      "execution_count": 136,
      "outputs": [
        {
          "output_type": "stream",
          "text": [
            "The predicted features of the image are - \n",
            "\n",
            "The Galaxy Is Smooth\n",
            "The Galaxy Is Completely Round\n",
            "The Galaxy Has No Odd Feature\n"
          ],
          "name": "stdout"
        }
      ]
    },
    {
      "cell_type": "code",
      "metadata": {
        "id": "NHlZ-ivA8c1T",
        "colab": {
          "base_uri": "https://localhost:8080/"
        },
        "outputId": "8b509b48-6253-483a-a08d-43ea3a268b7c"
      },
      "source": [
        "print(type(features))"
      ],
      "execution_count": 137,
      "outputs": [
        {
          "output_type": "stream",
          "text": [
            "<class 'list'>\n"
          ],
          "name": "stdout"
        }
      ]
    },
    {
      "cell_type": "code",
      "metadata": {
        "id": "4Lk6E1eHj9Ej",
        "colab": {
          "base_uri": "https://localhost:8080/"
        },
        "outputId": "5b6cbc98-214f-4e66-d39b-6297e8351c5f"
      },
      "source": [
        "features"
      ],
      "execution_count": 138,
      "outputs": [
        {
          "output_type": "execute_result",
          "data": {
            "text/plain": [
              "['The Galaxy Is Smooth',\n",
              " 'The Galaxy Is Completely Round',\n",
              " 'The Galaxy Has No Odd Feature']"
            ]
          },
          "metadata": {
            "tags": []
          },
          "execution_count": 138
        }
      ]
    },
    {
      "cell_type": "code",
      "metadata": {
        "id": "8WUHYgiakCzy"
      },
      "source": [
        ""
      ],
      "execution_count": null,
      "outputs": []
    },
    {
      "cell_type": "code",
      "metadata": {
        "id": "Lgomj7WboTA7"
      },
      "source": [
        ""
      ],
      "execution_count": null,
      "outputs": []
    }
  ]
}