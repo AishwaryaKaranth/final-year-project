{
  "nbformat": 4,
  "nbformat_minor": 0,
  "metadata": {
    "colab": {
      "name": "Model_4.ipynb",
      "provenance": [],
      "authorship_tag": "ABX9TyPydrKEX69JxsNU+sgKBG9e",
      "include_colab_link": true
    },
    "kernelspec": {
      "name": "python3",
      "display_name": "Python 3"
    },
    "language_info": {
      "name": "python"
    }
  },
  "cells": [
    {
      "cell_type": "markdown",
      "metadata": {
        "id": "view-in-github",
        "colab_type": "text"
      },
      "source": [
        "<a href=\"https://colab.research.google.com/github/AishwaryaKaranth/final-year-project/blob/master/All%20Models/Model_4.ipynb\" target=\"_parent\"><img src=\"https://colab.research.google.com/assets/colab-badge.svg\" alt=\"Open In Colab\"/></a>"
      ]
    },
    {
      "cell_type": "code",
      "metadata": {
        "colab": {
          "base_uri": "https://localhost:8080/"
        },
        "id": "aYSGAnb2WsB5",
        "outputId": "fa55b2e2-5807-4208-9005-525b5bcaa284"
      },
      "source": [
        "pip install git+https://github.com/keras-team/keras-preprocessing.git"
      ],
      "execution_count": null,
      "outputs": [
        {
          "output_type": "stream",
          "text": [
            "Collecting git+https://github.com/keras-team/keras-preprocessing.git\n",
            "  Cloning https://github.com/keras-team/keras-preprocessing.git to /tmp/pip-req-build-pm1gvyi5\n",
            "  Running command git clone -q https://github.com/keras-team/keras-preprocessing.git /tmp/pip-req-build-pm1gvyi5\n",
            "Requirement already satisfied (use --upgrade to upgrade): Keras-Preprocessing==1.1.2 from git+https://github.com/keras-team/keras-preprocessing.git in /usr/local/lib/python3.7/dist-packages\n",
            "Requirement already satisfied: numpy>=1.9.1 in /usr/local/lib/python3.7/dist-packages (from Keras-Preprocessing==1.1.2) (1.19.5)\n",
            "Building wheels for collected packages: Keras-Preprocessing\n",
            "  Building wheel for Keras-Preprocessing (setup.py) ... \u001b[?25l\u001b[?25hdone\n",
            "  Created wheel for Keras-Preprocessing: filename=Keras_Preprocessing-1.1.2-cp37-none-any.whl size=43617 sha256=bf67215dd35d2045f5b6f127a409f176b9c6272f07f24ee212d9f4feb2cb2c65\n",
            "  Stored in directory: /tmp/pip-ephem-wheel-cache-saxdguo3/wheels/03/a0/39/171f6040d36f36c71168dc69afa81334351b20955dc36ce932\n",
            "Successfully built Keras-Preprocessing\n"
          ],
          "name": "stdout"
        }
      ]
    },
    {
      "cell_type": "code",
      "metadata": {
        "id": "_a__GtZkW8BH"
      },
      "source": [
        "from google.colab import drive\n",
        "drive.mount('/content/drive')"
      ],
      "execution_count": null,
      "outputs": []
    },
    {
      "cell_type": "code",
      "metadata": {
        "id": "cl_as_ROXkMO"
      },
      "source": [
        "!unzip \"/content/drive/MyDrive/Dataset/train/images_training_rev1.zip\" -d \"/content/drive/MyDrive/Dataset/\""
      ],
      "execution_count": null,
      "outputs": []
    },
    {
      "cell_type": "code",
      "metadata": {
        "id": "YiVPZL9uXsbL"
      },
      "source": [
        "import keras\n",
        "from keras.models import Sequential, Model\n",
        "from keras.layers.core import Flatten, Dense, Dropout, Lambda, Reshape\n",
        "from keras.layers import Input\n",
        "from keras.layers.convolutional import Convolution2D, MaxPooling2D, ZeroPadding2D\n",
        "from keras.layers import Conv2D, MaxPooling2D, Activation\n",
        "from keras.optimizers import RMSprop\n",
        "import pandas as pd\n",
        "import keras,os\n",
        "from keras.models import Sequential\n",
        "from keras.layers import Dense, Conv2D, MaxPool2D , Flatten\n",
        "from keras.preprocessing.image import ImageDataGenerator\n",
        "import numpy as np\n",
        "from keras.applications.vgg16 import VGG16, preprocess_input\n",
        "from keras.preprocessing.image import load_img,img_to_array\n",
        "from keras.models import Model\n",
        "import matplotlib.pyplot as plt\n",
        "import numpy as np\n",
        "from sklearn.model_selection import train_test_split\n",
        "from keras_preprocessing.image import ImageDataGenerator"
      ],
      "execution_count": null,
      "outputs": []
    },
    {
      "cell_type": "code",
      "metadata": {
        "id": "EVdEVWOyXxqr"
      },
      "source": [
        "from sklearn.model_selection import train_test_split"
      ],
      "execution_count": null,
      "outputs": []
    },
    {
      "cell_type": "code",
      "metadata": {
        "id": "ajmftYQsX4Xo"
      },
      "source": [
        "from keras.preprocessing.image import ImageDataGenerator"
      ],
      "execution_count": null,
      "outputs": []
    },
    {
      "cell_type": "code",
      "metadata": {
        "id": "gQlXr3A6X8IM"
      },
      "source": [
        "!unzip '/content/training_solutions_rev1.zip'"
      ],
      "execution_count": null,
      "outputs": []
    },
    {
      "cell_type": "code",
      "metadata": {
        "id": "RFBb9LkVYFYP"
      },
      "source": [
        "df=pd.read_csv('training_solutions_rev1.csv')"
      ],
      "execution_count": null,
      "outputs": []
    },
    {
      "cell_type": "code",
      "metadata": {
        "id": "KbtXTRzSYO3t"
      },
      "source": [
        "df"
      ],
      "execution_count": null,
      "outputs": []
    },
    {
      "cell_type": "code",
      "metadata": {
        "id": "nKW_pi7BYQxv"
      },
      "source": [
        "\n",
        "classes = [\n",
        "    'Class1.1', 'Class1.2', 'Class1.3', 'Class2.1', 'Class2.2', 'Class3.1','Class3.2', 'Class4.1', 'Class4.2', 'Class5.1', 'Class5.2', 'Class5.3','Class5.4', 'Class6.1', 'Class6.2', 'Class7.1', 'Class7.2', 'Class7.3',\n",
        "    'Class8.1', 'Class8.2', 'Class8.3', 'Class8.4', 'Class8.5', 'Class8.6','Class8.7', 'Class9.1', 'Class9.2', 'Class9.3', 'Class10.1', 'Class10.2','Class10.3', 'Class11.1', 'Class11.2', 'Class11.3', 'Class11.4',\n",
        "    'Class11.5', 'Class11.6'\n",
        "]"
      ],
      "execution_count": null,
      "outputs": []
    },
    {
      "cell_type": "code",
      "metadata": {
        "id": "gkI4AktfYWZc"
      },
      "source": [
        "def apply_jpg(f):\n",
        "  return f+'.jpg'"
      ],
      "execution_count": null,
      "outputs": []
    },
    {
      "cell_type": "code",
      "metadata": {
        "id": "CkzZe3OzYa9b"
      },
      "source": [
        "df['GalaxyID']=df['GalaxyID'].astype(str).apply(apply_jpg)"
      ],
      "execution_count": null,
      "outputs": []
    },
    {
      "cell_type": "code",
      "metadata": {
        "id": "TBJqQv_aYhU0"
      },
      "source": [
        "d=ImageDataGenerator(\n",
        "    fill_mode='nearest',\n",
        "    cval=0,\n",
        "    rescale=1. / 255,\n",
        "    rotation_range=90,\n",
        "    width_shift_range=0.1,\n",
        "    height_shift_range=0.1,\n",
        "    horizontal_flip=True,\n",
        "    vertical_flip=True,\n",
        "    validation_split=0.02\n",
        ")"
      ],
      "execution_count": null,
      "outputs": []
    },
    {
      "cell_type": "code",
      "metadata": {
        "id": "KfEP2KvpaULN"
      },
      "source": [
        "train_generator = d.flow_from_dataframe(\n",
        "    dataframe=df,\n",
        "    directory=\"/content/drive/MyDrive/Dataset/he1\",\n",
        "    x_col=\"GalaxyID\",\n",
        "    y_col=classes,\n",
        "    subset=\"training\",\n",
        "    batch_size=64,\n",
        "    seed=123,\n",
        "    shuffle=True,\n",
        "    class_mode=\"raw\",\n",
        "    target_size=(224, 224))"
      ],
      "execution_count": null,
      "outputs": []
    },
    {
      "cell_type": "code",
      "metadata": {
        "id": "98_wT1HogXzo"
      },
      "source": [
        "valid_generator = d.flow_from_dataframe(\n",
        "    dataframe=df,\n",
        "    directory=\"/content/drive/MyDrive/Dataset/he1\",\n",
        "    x_col=\"GalaxyID\",\n",
        "    y_col=classes,\n",
        "    subset=\"validation\",\n",
        "    batch_size=64,\n",
        "    seed=123,\n",
        "    shuffle=True,\n",
        "    class_mode=\"raw\",\n",
        "    target_size=(224, 224))"
      ],
      "execution_count": null,
      "outputs": []
    },
    {
      "cell_type": "code",
      "metadata": {
        "id": "XT6Tpwmqgcfe"
      },
      "source": [
        "train_size=train_generator.n // train_generator.batch_size\n",
        "valid_size=valid_generator.n // valid_generator.batch_size"
      ],
      "execution_count": null,
      "outputs": []
    },
    {
      "cell_type": "code",
      "metadata": {
        "id": "QW3vbj0OghGi"
      },
      "source": [
        "train_size, valid_size"
      ],
      "execution_count": null,
      "outputs": []
    },
    {
      "cell_type": "code",
      "metadata": {
        "id": "fHiYhP_vgk4Z"
      },
      "source": [
        "def ConvLayers(layers, model, filters):\n",
        "  for i in range(layers):\n",
        "    model.add(ZeroPadding2D((1,1)))\n",
        "    model.add(Convolution2D(filters, 3,3,activation='relu'))\n",
        "  model.add(MaxPooling2D((2,2),strides=(1,1),padding=\"same\"))"
      ],
      "execution_count": null,
      "outputs": []
    },
    {
      "cell_type": "code",
      "metadata": {
        "id": "WsgjSmBfgoji"
      },
      "source": [
        "def FCLayers(model):\n",
        "  model.add(Dense(4096, activation='relu'))\n",
        "  model.add(Dropout(0.5))"
      ],
      "execution_count": null,
      "outputs": []
    },
    {
      "cell_type": "code",
      "metadata": {
        "id": "NDuEqMKhgs6T"
      },
      "source": [
        "def VGG16_arc():\n",
        "  model=Sequential()\n",
        "  ConvLayers(2,model,64)\n",
        "  ConvLayers(2,model,128)\n",
        "  ConvLayers(3,model,256)\n",
        "  ConvLayers(3,model,512)\n",
        "  ConvLayers(3,model,512)\n",
        "  model.add(Flatten())\n",
        "  FCLayers(model)\n",
        "  FCLayers(model)\n",
        "  model.add(Dense(37,activation='sigmoid'))\n",
        "  #model.add(Dense(3,activation='softmax'))\n",
        "  return model"
      ],
      "execution_count": null,
      "outputs": []
    },
    {
      "cell_type": "code",
      "metadata": {
        "id": "nugcTgGJgwJw"
      },
      "source": [
        "optimizer = keras.optimizers.Adam(lr=0.001, decay=5e-4)\n",
        "model=VGG16_arc()\n",
        "model.compile(loss='mean_squared_error',optimizer=optimizer,metrics=['accuracy'])"
      ],
      "execution_count": null,
      "outputs": []
    },
    {
      "cell_type": "code",
      "metadata": {
        "id": "GbKV74MRg1Jk"
      },
      "source": [
        "model.build(input_shape=(None,224,224,3))\n",
        "model.summary()"
      ],
      "execution_count": null,
      "outputs": []
    },
    {
      "cell_type": "code",
      "metadata": {
        "id": "-JuxpCxag4CF"
      },
      "source": [
        "from keras.callbacks import Callback\n",
        "from keras.callbacks import ModelCheckpoint, Callback, EarlyStopping\n",
        "\n",
        "\n",
        "\n",
        "checkpoint_path='weights.hdf5'\n",
        "checkpoint_callback=ModelCheckpoint(filepath=checkpoint_path, save_weights_only=True, monitor='accuracy',mode='max',save_freq='epoch',save_best_only=True)"
      ],
      "execution_count": null,
      "outputs": []
    },
    {
      "cell_type": "code",
      "metadata": {
        "id": "adVqm6sOhXAn"
      },
      "source": [
        "hist = model.fit_generator(\n",
        "    train_generator,\n",
        "    steps_per_epoch=train_size,\n",
        "    validation_data=valid_generator,\n",
        "    validation_steps=valid_size,\n",
        "    epochs=10,\n",
        "    callbacks=[checkpoint_callback])"
      ],
      "execution_count": null,
      "outputs": []
    }
  ]
}