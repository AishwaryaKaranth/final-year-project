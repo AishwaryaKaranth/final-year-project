{
  "nbformat": 4,
  "nbformat_minor": 0,
  "metadata": {
    "colab": {
      "name": "final_year_project.ipynb",
      "provenance": [],
      "toc_visible": true,
      "include_colab_link": true
    },
    "kernelspec": {
      "name": "python3",
      "display_name": "Python 3"
    }
  },
  "cells": [
    {
      "cell_type": "markdown",
      "metadata": {
        "id": "view-in-github",
        "colab_type": "text"
      },
      "source": [
        "<a href=\"https://colab.research.google.com/github/AishwaryaKaranth/final-year-project/blob/master/final_year_project.ipynb\" target=\"_parent\"><img src=\"https://colab.research.google.com/assets/colab-badge.svg\" alt=\"Open In Colab\"/></a>"
      ]
    },
    {
      "cell_type": "markdown",
      "metadata": {
        "id": "RxGxh_kDnew3"
      },
      "source": [
        "\n",
        "##Resizing"
      ]
    },
    {
      "cell_type": "code",
      "metadata": {
        "id": "eN7OVUiVvhHY"
      },
      "source": [
        "from google.colab import drive\n",
        "\n",
        "drive.mount('/content/gdrive')"
      ],
      "execution_count": null,
      "outputs": []
    },
    {
      "cell_type": "code",
      "metadata": {
        "id": "Vd9J3oiUvoMm"
      },
      "source": [
        "!unzip '/content/gdrive/MyDrive/Final year Project/Galaxy Classification/Dataset/images_training_rev1.zip' -d '/content/gdrive/MyDrive/Final year Project/Galaxy Classification/Dataset/Training set/'"
      ],
      "execution_count": null,
      "outputs": []
    },
    {
      "cell_type": "code",
      "metadata": {
        "id": "e1K3wcZ6voPM"
      },
      "source": [
        "!pip install Pillow"
      ],
      "execution_count": null,
      "outputs": []
    },
    {
      "cell_type": "code",
      "metadata": {
        "id": "6cmgcjDETeoU"
      },
      "source": [
        "from google.colab import drive\n",
        "drive.mount('/content/gdrive')"
      ],
      "execution_count": null,
      "outputs": []
    },
    {
      "cell_type": "code",
      "metadata": {
        "id": "UXGepv6AvoTF"
      },
      "source": [
        "import PIL\n",
        "from PIL import Image\n",
        "import os"
      ],
      "execution_count": null,
      "outputs": []
    },
    {
      "cell_type": "code",
      "metadata": {
        "id": "RKxs3pUcLQfJ"
      },
      "source": [
        "def Resizing(path1,currentpath):\n",
        "  for im in os.listdir(path1):\n",
        "    try:\n",
        "      img=Image.open(os.path.join(path1,im))\n",
        "      resized=img.resize((224,224))\n",
        "      resized.save(currentpath+'Resized/'+im[:-4]+'resized.jpg', 'JPEG',quality=90)\n",
        "      print('resizing')\n",
        "    except Exception as e:\n",
        "      print(str(e))"
      ],
      "execution_count": null,
      "outputs": []
    },
    {
      "cell_type": "code",
      "metadata": {
        "id": "qbY5d7dzvoVd"
      },
      "source": [
        "currentpath='/content/gdrive/MyDrive/Final year Project/Galaxy Classification/Dataset/'\n",
        "path1=currentpath+'Training set/images_training_rev1/'"
      ],
      "execution_count": null,
      "outputs": []
    },
    {
      "cell_type": "code",
      "metadata": {
        "id": "4Ezq5qDDoCOr"
      },
      "source": [
        "Resizing(path1,currentpath)"
      ],
      "execution_count": null,
      "outputs": []
    },
    {
      "cell_type": "code",
      "metadata": {
        "id": "t1jVK0OBMhMz"
      },
      "source": [
        "from google.colab import drive\n",
        "drive.mount('/content/gdrive')"
      ],
      "execution_count": null,
      "outputs": []
    },
    {
      "cell_type": "code",
      "metadata": {
        "id": "Oq1Tw6l9nsC0",
        "colab": {
          "base_uri": "https://localhost:8080/"
        },
        "outputId": "f58bc035-2075-46a2-9120-c76851394f96"
      },
      "source": [
        "import os\n",
        "tr=os.listdir(path1)\n",
        "re=os.listdir(currentpath+'Resized/Resized_Training/')\n",
        "print(len(tr),' , ',len(re))"
      ],
      "execution_count": null,
      "outputs": [
        {
          "output_type": "stream",
          "text": [
            "61578  ,  61578\n"
          ],
          "name": "stdout"
        }
      ]
    },
    {
      "cell_type": "markdown",
      "metadata": {
        "id": "KFNmRdRU1vGK"
      },
      "source": [
        "All the 61578 images in the training set have been resized to 224*224"
      ]
    },
    {
      "cell_type": "markdown",
      "metadata": {
        "id": "C2el3x-XSH8Y"
      },
      "source": [
        "\n",
        "##Data Augmentation by Rotation"
      ]
    },
    {
      "cell_type": "code",
      "metadata": {
        "id": "8XQzMk1ISJN9"
      },
      "source": [
        "currentpath='/content/gdrive/MyDrive/Final year Project/Galaxy Classification/Dataset/'\n",
        "path1=currentpath+'Resized/Resized_Training/'"
      ],
      "execution_count": null,
      "outputs": []
    },
    {
      "cell_type": "code",
      "metadata": {
        "id": "GuM9Uj1iSnCa"
      },
      "source": [
        "import PIL\n",
        "from PIL import Image\n",
        "import os\n",
        "import random"
      ],
      "execution_count": null,
      "outputs": []
    },
    {
      "cell_type": "code",
      "metadata": {
        "id": "SJ3zfk4HUZtk"
      },
      "source": [
        "def DA(path1,currentpath):\n",
        "  for im1 in os.listdir(path1):\n",
        "    img=Image.open(os.path.join(path1,im1))\n",
        "    for i in range(1,5):\n",
        "      try:\n",
        "        angle=random.uniform(1,360)\n",
        "        rot = img.rotate(angle)\n",
        "        rot.save(currentpath+'/Rotation/'+im1[:-4]+str(i)+'rotated.jpg', 'JPEG',quality=90)\n",
        "        print('rotating')\n",
        "      except Exception as e:\n",
        "        print(str(e))"
      ],
      "execution_count": null,
      "outputs": []
    },
    {
      "cell_type": "code",
      "metadata": {
        "id": "2FuNZNqHWiXM"
      },
      "source": [
        "DA(path1,currentpath)"
      ],
      "execution_count": null,
      "outputs": []
    },
    {
      "cell_type": "code",
      "metadata": {
        "id": "DwnuGGZ-kjp2"
      },
      "source": [
        "from google.colab import drive\n",
        "drive.mount('/content/gdrive')"
      ],
      "execution_count": null,
      "outputs": []
    },
    {
      "cell_type": "code",
      "metadata": {
        "id": "lcx4tDMVmxa7"
      },
      "source": [
        "import os\n",
        "path2='/content/gdrive/MyDrive/Galaxy Classification Code/Rotation/'\n",
        "rot=os.listdir(path2)\n",
        "print(61578*4,' , ',len(rot))"
      ],
      "execution_count": null,
      "outputs": []
    },
    {
      "cell_type": "markdown",
      "metadata": {
        "id": "E2xkHy9A3c7g"
      },
      "source": [
        "There are 61578*4=246312 images now in the dataset\n"
      ]
    },
    {
      "cell_type": "markdown",
      "metadata": {
        "id": "04zTsYmqgR-K"
      },
      "source": [
        "# Median Filtering"
      ]
    },
    {
      "cell_type": "code",
      "metadata": {
        "id": "z42YUxeFgT_z"
      },
      "source": [
        "import PIL\n",
        "from PIL import Image,ImageFilter\n",
        "import os"
      ],
      "execution_count": null,
      "outputs": []
    },
    {
      "cell_type": "code",
      "metadata": {
        "id": "ZqgljHJ4gcDd"
      },
      "source": [
        "def median_cal(path1,path2):\n",
        "    images=os.listdir(path1)\n",
        "    for image in images:\n",
        "        full_path=os.path.join(path1,image)\n",
        "        try :\n",
        "            print(full_path)\n",
        "            I=Image.open(full_path)\n",
        "            modified= I.filter(ImageFilter.MedianFilter(size = 3))  \n",
        "            destn=os.path.join(path2,str(image[:-4]))\n",
        "            destn+='_md.jpg'\n",
        "            print(destn)\n",
        "            modified.save(destn,\"JPEG\",quality=90)\n",
        "        except Exception as e:\n",
        "            print(str(e))\n"
      ],
      "execution_count": null,
      "outputs": []
    },
    {
      "cell_type": "code",
      "metadata": {
        "id": "8IF-mTlYgfoV"
      },
      "source": [
        "path1='./Rotation'\n",
        "len(os.listdir(path1))\n",
        "path2='./Median'\n",
        "median_cal(path1,path2)\n"
      ],
      "execution_count": null,
      "outputs": []
    },
    {
      "cell_type": "markdown",
      "metadata": {
        "id": "PZh19oNk_bpK"
      },
      "source": [
        "#Contrast Limited Adaptive Histogram Equalization(CLAHE)"
      ]
    },
    {
      "cell_type": "code",
      "metadata": {
        "id": "QXPBacxF_kWO"
      },
      "source": [
        "import os    \r\n",
        "import cv2\r\n",
        "import numpy as np"
      ],
      "execution_count": null,
      "outputs": []
    },
    {
      "cell_type": "code",
      "metadata": {
        "id": "uMnmrjxaAal_"
      },
      "source": [
        "def he_Equ(path1,path2):\r\n",
        "    images=os.listdir(path1)\r\n",
        "    for image in images:\r\n",
        "        full_path=os.path.join(path1,image)\r\n",
        "        try :\r\n",
        "            orig=cv2.imread(full_path)               # Loading Source File images.\r\n",
        "            ycb=cv2.cvtColor(orig,cv2.COLOR_BGR2LAB) # Converting RGB to LAB colorscale\r\n",
        "            imgs=cv2.split(ycb)                      # Splitting Channels of LAB Colorscale. \r\n",
        "            clahe=cv2.createCLAHE(clipLimit=2.0,tileGridSize=(3,3))  # Creating CLAHE(Clip limit:sets threshhold for contrast limiting.tilegrid size:used for subimages.)\r\n",
        "            imgs[0]= clahe.apply(imgs[0])            # Applying Clahe on luminescence channel\r\n",
        "            lab=cv2.merge(imgs)                      # Merging channels of LAB.\r\n",
        "            lab=cv2.cvtColor(lab,cv2.COLOR_LAB2BGR)  # Converting back LAB to RGB color scale.\r\n",
        "            destn=os.path.join(path2,str(image[:-4]))\r\n",
        "            destn=destn+'_he.jpg'              \r\n",
        "            print(destn)\r\n",
        "            cv2.imwrite(destn,lab)                   # Storing the HE images in Destination Folder.\r\n",
        "        except Exception as e:\r\n",
        "            print(str(e)) "
      ],
      "execution_count": null,
      "outputs": []
    },
    {
      "cell_type": "code",
      "metadata": {
        "id": "geBarcbAApVB"
      },
      "source": [
        "path1='./MedianFilter'\r\n",
        "len(os.listdir(path1))\r\n",
        "path2='./he1'\r\n",
        "he_Equ(path1,path2)"
      ],
      "execution_count": null,
      "outputs": []
    },
    {
      "cell_type": "markdown",
      "metadata": {
        "id": "vuuYaxTJJGAl"
      },
      "source": [
        "# VGG16 Architecture"
      ]
    },
    {
      "cell_type": "code",
      "metadata": {
        "id": "p8KWJxL-JNZx"
      },
      "source": [
        "import keras\r\n",
        "from keras.models import Sequential, Model\r\n",
        "from keras.layers.core import Flatten, Dense, Dropout, Lambda, Reshape\r\n",
        "from keras.layers import Input\r\n",
        "from keras.layers.convolutional import Convolution2D, MaxPooling2D, ZeroPadding2D\r\n",
        "from keras.layers import Conv2D, MaxPooling2D, Activation\r\n",
        "from keras.optimizers import RMSprop"
      ],
      "execution_count": null,
      "outputs": []
    },
    {
      "cell_type": "code",
      "metadata": {
        "id": "RCivjrcbL0eN"
      },
      "source": [
        "def ConvLayers(layers, model, filters):\r\n",
        "  for i in range(layers):\r\n",
        "    model.add(ZeroPadding2D((1,1)))\r\n",
        "    model.add(Convolution2D(filters, 3,3,activation='relu'))\r\n",
        "  model.add(MaxPooling2D((2,2),strides=(1,1),padding=\"same\"))"
      ],
      "execution_count": null,
      "outputs": []
    },
    {
      "cell_type": "code",
      "metadata": {
        "id": "NqWnf6DIVIel"
      },
      "source": [
        "def FCLayers(model):\r\n",
        "  model.add(Dense(4096, activation='relu'))\r\n",
        "  model.add(Dropout(0.5))"
      ],
      "execution_count": null,
      "outputs": []
    },
    {
      "cell_type": "code",
      "metadata": {
        "id": "ZXbpXyoUWiLO"
      },
      "source": [
        "def VGG16_arc():\r\n",
        "  model=Sequential()\r\n",
        "  ConvLayers(2,model,64)\r\n",
        "  ConvLayers(2,model,128)\r\n",
        "  ConvLayers(3,model,256)\r\n",
        "  ConvLayers(3,model,512)\r\n",
        "  ConvLayers(3,model,512)\r\n",
        "  model.add(Flatten())\r\n",
        "  FCLayers(model)\r\n",
        "  FCLayers(model)\r\n",
        "  model.add(Dense(37,activation='sigmoid'))\r\n",
        "  #model.add(Dense(3,activation='softmax'))\r\n",
        "  return model"
      ],
      "execution_count": null,
      "outputs": []
    },
    {
      "cell_type": "code",
      "metadata": {
        "id": "Yb-3I83jxPMC"
      },
      "source": [
        "#Model compilation\r\n",
        "optimizer = RMSprop(lr=1e-6)#can be later tweaked\r\n",
        "model = VGG16_arc()\r\n",
        "model.compile(loss='mean_squared_error', optimizer=optimizer) \r\n",
        "#model.compile(loss='categorical_crossentropy', optimizer=optimizer)\r\n"
      ],
      "execution_count": null,
      "outputs": []
    },
    {
      "cell_type": "code",
      "metadata": {
        "id": "r4c6uKsbnTAX"
      },
      "source": [
        ""
      ],
      "execution_count": null,
      "outputs": []
    }
  ]
}