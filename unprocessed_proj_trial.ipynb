{
  "nbformat": 4,
  "nbformat_minor": 0,
  "metadata": {
    "colab": {
      "name": "unprocessed proj_trial.ipynb",
      "provenance": [],
      "collapsed_sections": [],
      "toc_visible": true,
      "machine_shape": "hm",
      "include_colab_link": true
    },
    "kernelspec": {
      "display_name": "Python 3",
      "name": "python3"
    },
    "language_info": {
      "name": "python"
    },
    "accelerator": "GPU"
  },
  "cells": [
    {
      "cell_type": "markdown",
      "metadata": {
        "id": "view-in-github",
        "colab_type": "text"
      },
      "source": [
        "<a href=\"https://colab.research.google.com/github/AishwaryaKaranth/final-year-project/blob/adhishreya/unprocessed_proj_trial.ipynb\" target=\"_parent\"><img src=\"https://colab.research.google.com/assets/colab-badge.svg\" alt=\"Open In Colab\"/></a>"
      ]
    },
    {
      "cell_type": "code",
      "metadata": {
        "colab": {
          "base_uri": "https://localhost:8080/"
        },
        "id": "3zn0KG0cdZtU",
        "outputId": "9e866b5f-e758-4974-e42d-f1faa7de0b45"
      },
      "source": [
        "from google.colab import drive\n",
        "drive.mount('/content/drive')"
      ],
      "execution_count": null,
      "outputs": [
        {
          "output_type": "stream",
          "text": [
            "Mounted at /content/drive\n"
          ],
          "name": "stdout"
        }
      ]
    },
    {
      "cell_type": "code",
      "metadata": {
        "id": "r_1sMCsPasi5"
      },
      "source": [
        "!unzip -o /content/drive/MyDrive/Rotation.zip"
      ],
      "execution_count": null,
      "outputs": []
    },
    {
      "cell_type": "markdown",
      "metadata": {
        "id": "OAyl8KH64Jrx"
      },
      "source": [
        "# Libraries"
      ]
    },
    {
      "cell_type": "code",
      "metadata": {
        "id": "QD8t6-1-nAxB"
      },
      "source": [
        "import keras\n",
        "from keras.models import Sequential, Model\n",
        "from keras.layers.core import Flatten, Dense, Dropout, Lambda, Reshape\n",
        "from keras.callbacks import EarlyStopping\n",
        "from keras.layers import Input\n",
        "from keras.models import load_model\n",
        "from keras.layers.convolutional import Convolution2D, MaxPooling2D, ZeroPadding2D\n",
        "from keras.layers import Conv2D, MaxPooling2D, Activation\n",
        "from keras.optimizers import RMSprop\n",
        "from keras.applications.vgg16 import VGG16, preprocess_input\n",
        "from keras.preprocessing.image import load_img,img_to_array\n",
        "from keras.models import Model\n",
        "import matplotlib.pyplot as plt\n",
        "import numpy as np\n",
        "import pandas as pd\n",
        "import cv2\n",
        "import os\n",
        "import matplotlib.pyplot as plt\n",
        "%matplotlib inline\n",
        "import csv\n",
        "from sklearn.model_selection import train_test_split"
      ],
      "execution_count": null,
      "outputs": []
    },
    {
      "cell_type": "markdown",
      "metadata": {
        "id": "Pj5WqRB5sXV5"
      },
      "source": [
        "# generating extra data pints in excel"
      ]
    },
    {
      "cell_type": "code",
      "metadata": {
        "id": "wPpmQfQ5uXb1"
      },
      "source": [
        "# data=pd.read_csv('/content/training_solutions_rev1.csv')\n",
        "# size=data.shape[0]\n",
        "# columns=data.columns\n",
        "# size"
      ],
      "execution_count": null,
      "outputs": []
    },
    {
      "cell_type": "code",
      "metadata": {
        "id": "vyibXFxfudcW"
      },
      "source": [
        "# data['GalaxyID']=data['GalaxyID'].astype('str')"
      ],
      "execution_count": null,
      "outputs": []
    },
    {
      "cell_type": "code",
      "metadata": {
        "id": "v0RENTSRsV2V"
      },
      "source": [
        "# with open('modified.csv','w') as f1:\n",
        "#     writer=csv.writer(f1, delimiter=',',lineterminator='\\n',)\n",
        "#     writer.writerow(columns.values)\n",
        "#     result=[]\n",
        "#     for i in range(0,size):\n",
        "#         d=data.iloc[i]\n",
        "#         p=d[0]\n",
        "#         for j in range(1,5):\n",
        "#             name=p+'resized'+str(j)+'rotated'\n",
        "#             d.values[0]=name\n",
        "#             writer.writerow(d)"
      ],
      "execution_count": null,
      "outputs": []
    },
    {
      "cell_type": "code",
      "metadata": {
        "id": "SgJJxMnWu8Jp"
      },
      "source": [
        "# data=pd.read_csv('modified.csv')\n",
        "# size=data.shape[0]\n",
        "# columns=data.columns\n",
        "# size"
      ],
      "execution_count": null,
      "outputs": []
    },
    {
      "cell_type": "code",
      "metadata": {
        "colab": {
          "base_uri": "https://localhost:8080/",
          "height": 219
        },
        "id": "qAl51xpSu_N9",
        "outputId": "2be3bd44-5ba7-4cef-c67f-015ce10af4e1"
      },
      "source": [
        "# data.head()"
      ],
      "execution_count": null,
      "outputs": [
        {
          "output_type": "execute_result",
          "data": {
            "text/html": [
              "<div>\n",
              "<style scoped>\n",
              "    .dataframe tbody tr th:only-of-type {\n",
              "        vertical-align: middle;\n",
              "    }\n",
              "\n",
              "    .dataframe tbody tr th {\n",
              "        vertical-align: top;\n",
              "    }\n",
              "\n",
              "    .dataframe thead th {\n",
              "        text-align: right;\n",
              "    }\n",
              "</style>\n",
              "<table border=\"1\" class=\"dataframe\">\n",
              "  <thead>\n",
              "    <tr style=\"text-align: right;\">\n",
              "      <th></th>\n",
              "      <th>GalaxyID</th>\n",
              "      <th>Class1.1</th>\n",
              "      <th>Class1.2</th>\n",
              "      <th>Class1.3</th>\n",
              "      <th>Class2.1</th>\n",
              "      <th>Class2.2</th>\n",
              "      <th>Class3.1</th>\n",
              "      <th>Class3.2</th>\n",
              "      <th>Class4.1</th>\n",
              "      <th>Class4.2</th>\n",
              "      <th>Class5.1</th>\n",
              "      <th>Class5.2</th>\n",
              "      <th>Class5.3</th>\n",
              "      <th>Class5.4</th>\n",
              "      <th>Class6.1</th>\n",
              "      <th>Class6.2</th>\n",
              "      <th>Class7.1</th>\n",
              "      <th>Class7.2</th>\n",
              "      <th>Class7.3</th>\n",
              "      <th>Class8.1</th>\n",
              "      <th>Class8.2</th>\n",
              "      <th>Class8.3</th>\n",
              "      <th>Class8.4</th>\n",
              "      <th>Class8.5</th>\n",
              "      <th>Class8.6</th>\n",
              "      <th>Class8.7</th>\n",
              "      <th>Class9.1</th>\n",
              "      <th>Class9.2</th>\n",
              "      <th>Class9.3</th>\n",
              "      <th>Class10.1</th>\n",
              "      <th>Class10.2</th>\n",
              "      <th>Class10.3</th>\n",
              "      <th>Class11.1</th>\n",
              "      <th>Class11.2</th>\n",
              "      <th>Class11.3</th>\n",
              "      <th>Class11.4</th>\n",
              "      <th>Class11.5</th>\n",
              "      <th>Class11.6</th>\n",
              "    </tr>\n",
              "  </thead>\n",
              "  <tbody>\n",
              "    <tr>\n",
              "      <th>0</th>\n",
              "      <td>100008resized1rotated</td>\n",
              "      <td>0.383147</td>\n",
              "      <td>0.616853</td>\n",
              "      <td>0.000000</td>\n",
              "      <td>0.000000</td>\n",
              "      <td>0.616853</td>\n",
              "      <td>0.038452</td>\n",
              "      <td>0.578401</td>\n",
              "      <td>0.418398</td>\n",
              "      <td>0.198455</td>\n",
              "      <td>0.0</td>\n",
              "      <td>0.104752</td>\n",
              "      <td>0.512101</td>\n",
              "      <td>0.000000</td>\n",
              "      <td>0.054453</td>\n",
              "      <td>0.945547</td>\n",
              "      <td>0.201463</td>\n",
              "      <td>0.181684</td>\n",
              "      <td>0.000000</td>\n",
              "      <td>0.0</td>\n",
              "      <td>0.027227</td>\n",
              "      <td>0.000000</td>\n",
              "      <td>0.027227</td>\n",
              "      <td>0.000000</td>\n",
              "      <td>0.0</td>\n",
              "      <td>0.0</td>\n",
              "      <td>0.000000</td>\n",
              "      <td>0.0</td>\n",
              "      <td>0.000000</td>\n",
              "      <td>0.279952</td>\n",
              "      <td>0.138445</td>\n",
              "      <td>0.00000</td>\n",
              "      <td>0.0</td>\n",
              "      <td>0.092886</td>\n",
              "      <td>0.0</td>\n",
              "      <td>0.0</td>\n",
              "      <td>0.0</td>\n",
              "      <td>0.325512</td>\n",
              "    </tr>\n",
              "    <tr>\n",
              "      <th>1</th>\n",
              "      <td>100008resized2rotated</td>\n",
              "      <td>0.383147</td>\n",
              "      <td>0.616853</td>\n",
              "      <td>0.000000</td>\n",
              "      <td>0.000000</td>\n",
              "      <td>0.616853</td>\n",
              "      <td>0.038452</td>\n",
              "      <td>0.578401</td>\n",
              "      <td>0.418398</td>\n",
              "      <td>0.198455</td>\n",
              "      <td>0.0</td>\n",
              "      <td>0.104752</td>\n",
              "      <td>0.512101</td>\n",
              "      <td>0.000000</td>\n",
              "      <td>0.054453</td>\n",
              "      <td>0.945547</td>\n",
              "      <td>0.201463</td>\n",
              "      <td>0.181684</td>\n",
              "      <td>0.000000</td>\n",
              "      <td>0.0</td>\n",
              "      <td>0.027227</td>\n",
              "      <td>0.000000</td>\n",
              "      <td>0.027227</td>\n",
              "      <td>0.000000</td>\n",
              "      <td>0.0</td>\n",
              "      <td>0.0</td>\n",
              "      <td>0.000000</td>\n",
              "      <td>0.0</td>\n",
              "      <td>0.000000</td>\n",
              "      <td>0.279952</td>\n",
              "      <td>0.138445</td>\n",
              "      <td>0.00000</td>\n",
              "      <td>0.0</td>\n",
              "      <td>0.092886</td>\n",
              "      <td>0.0</td>\n",
              "      <td>0.0</td>\n",
              "      <td>0.0</td>\n",
              "      <td>0.325512</td>\n",
              "    </tr>\n",
              "    <tr>\n",
              "      <th>2</th>\n",
              "      <td>100008resized3rotated</td>\n",
              "      <td>0.383147</td>\n",
              "      <td>0.616853</td>\n",
              "      <td>0.000000</td>\n",
              "      <td>0.000000</td>\n",
              "      <td>0.616853</td>\n",
              "      <td>0.038452</td>\n",
              "      <td>0.578401</td>\n",
              "      <td>0.418398</td>\n",
              "      <td>0.198455</td>\n",
              "      <td>0.0</td>\n",
              "      <td>0.104752</td>\n",
              "      <td>0.512101</td>\n",
              "      <td>0.000000</td>\n",
              "      <td>0.054453</td>\n",
              "      <td>0.945547</td>\n",
              "      <td>0.201463</td>\n",
              "      <td>0.181684</td>\n",
              "      <td>0.000000</td>\n",
              "      <td>0.0</td>\n",
              "      <td>0.027227</td>\n",
              "      <td>0.000000</td>\n",
              "      <td>0.027227</td>\n",
              "      <td>0.000000</td>\n",
              "      <td>0.0</td>\n",
              "      <td>0.0</td>\n",
              "      <td>0.000000</td>\n",
              "      <td>0.0</td>\n",
              "      <td>0.000000</td>\n",
              "      <td>0.279952</td>\n",
              "      <td>0.138445</td>\n",
              "      <td>0.00000</td>\n",
              "      <td>0.0</td>\n",
              "      <td>0.092886</td>\n",
              "      <td>0.0</td>\n",
              "      <td>0.0</td>\n",
              "      <td>0.0</td>\n",
              "      <td>0.325512</td>\n",
              "    </tr>\n",
              "    <tr>\n",
              "      <th>3</th>\n",
              "      <td>100008resized4rotated</td>\n",
              "      <td>0.383147</td>\n",
              "      <td>0.616853</td>\n",
              "      <td>0.000000</td>\n",
              "      <td>0.000000</td>\n",
              "      <td>0.616853</td>\n",
              "      <td>0.038452</td>\n",
              "      <td>0.578401</td>\n",
              "      <td>0.418398</td>\n",
              "      <td>0.198455</td>\n",
              "      <td>0.0</td>\n",
              "      <td>0.104752</td>\n",
              "      <td>0.512101</td>\n",
              "      <td>0.000000</td>\n",
              "      <td>0.054453</td>\n",
              "      <td>0.945547</td>\n",
              "      <td>0.201463</td>\n",
              "      <td>0.181684</td>\n",
              "      <td>0.000000</td>\n",
              "      <td>0.0</td>\n",
              "      <td>0.027227</td>\n",
              "      <td>0.000000</td>\n",
              "      <td>0.027227</td>\n",
              "      <td>0.000000</td>\n",
              "      <td>0.0</td>\n",
              "      <td>0.0</td>\n",
              "      <td>0.000000</td>\n",
              "      <td>0.0</td>\n",
              "      <td>0.000000</td>\n",
              "      <td>0.279952</td>\n",
              "      <td>0.138445</td>\n",
              "      <td>0.00000</td>\n",
              "      <td>0.0</td>\n",
              "      <td>0.092886</td>\n",
              "      <td>0.0</td>\n",
              "      <td>0.0</td>\n",
              "      <td>0.0</td>\n",
              "      <td>0.325512</td>\n",
              "    </tr>\n",
              "    <tr>\n",
              "      <th>4</th>\n",
              "      <td>100023resized1rotated</td>\n",
              "      <td>0.327001</td>\n",
              "      <td>0.663777</td>\n",
              "      <td>0.009222</td>\n",
              "      <td>0.031178</td>\n",
              "      <td>0.632599</td>\n",
              "      <td>0.467370</td>\n",
              "      <td>0.165229</td>\n",
              "      <td>0.591328</td>\n",
              "      <td>0.041271</td>\n",
              "      <td>0.0</td>\n",
              "      <td>0.236781</td>\n",
              "      <td>0.160941</td>\n",
              "      <td>0.234877</td>\n",
              "      <td>0.189149</td>\n",
              "      <td>0.810851</td>\n",
              "      <td>0.000000</td>\n",
              "      <td>0.135082</td>\n",
              "      <td>0.191919</td>\n",
              "      <td>0.0</td>\n",
              "      <td>0.000000</td>\n",
              "      <td>0.140353</td>\n",
              "      <td>0.000000</td>\n",
              "      <td>0.048796</td>\n",
              "      <td>0.0</td>\n",
              "      <td>0.0</td>\n",
              "      <td>0.012414</td>\n",
              "      <td>0.0</td>\n",
              "      <td>0.018764</td>\n",
              "      <td>0.000000</td>\n",
              "      <td>0.131378</td>\n",
              "      <td>0.45995</td>\n",
              "      <td>0.0</td>\n",
              "      <td>0.591328</td>\n",
              "      <td>0.0</td>\n",
              "      <td>0.0</td>\n",
              "      <td>0.0</td>\n",
              "      <td>0.000000</td>\n",
              "    </tr>\n",
              "  </tbody>\n",
              "</table>\n",
              "</div>"
            ],
            "text/plain": [
              "                GalaxyID  Class1.1  Class1.2  ...  Class11.4  Class11.5  Class11.6\n",
              "0  100008resized1rotated  0.383147  0.616853  ...        0.0        0.0   0.325512\n",
              "1  100008resized2rotated  0.383147  0.616853  ...        0.0        0.0   0.325512\n",
              "2  100008resized3rotated  0.383147  0.616853  ...        0.0        0.0   0.325512\n",
              "3  100008resized4rotated  0.383147  0.616853  ...        0.0        0.0   0.325512\n",
              "4  100023resized1rotated  0.327001  0.663777  ...        0.0        0.0   0.000000\n",
              "\n",
              "[5 rows x 38 columns]"
            ]
          },
          "metadata": {
            "tags": []
          },
          "execution_count": 21
        }
      ]
    },
    {
      "cell_type": "code",
      "metadata": {
        "colab": {
          "base_uri": "https://localhost:8080/"
        },
        "id": "kTgi2Yw8vUV-",
        "outputId": "a983145c-f299-432a-a74b-f9600559dd41"
      },
      "source": [
        "# shuf=data.sample(frac=1)\n",
        "# with open('unprocessed.csv','w') as f1:\n",
        "#     writer=csv.writer(f1, delimiter=',',lineterminator='\\n',)\n",
        "#     writer.writerow(columns.values)\n",
        "#     writer.writerows(shuf.values) \n",
        "# val=len(shuf)\n",
        "# val"
      ],
      "execution_count": null,
      "outputs": [
        {
          "output_type": "execute_result",
          "data": {
            "text/plain": [
              "246312"
            ]
          },
          "metadata": {
            "tags": []
          },
          "execution_count": 22
        }
      ]
    },
    {
      "cell_type": "code",
      "metadata": {
        "colab": {
          "base_uri": "https://localhost:8080/",
          "height": 219
        },
        "id": "bHLwNEs4wVe7",
        "outputId": "ef2d2bac-75fb-4624-de41-a597ffd535e5"
      },
      "source": [
        "# shuf.head()"
      ],
      "execution_count": null,
      "outputs": [
        {
          "output_type": "execute_result",
          "data": {
            "text/html": [
              "<div>\n",
              "<style scoped>\n",
              "    .dataframe tbody tr th:only-of-type {\n",
              "        vertical-align: middle;\n",
              "    }\n",
              "\n",
              "    .dataframe tbody tr th {\n",
              "        vertical-align: top;\n",
              "    }\n",
              "\n",
              "    .dataframe thead th {\n",
              "        text-align: right;\n",
              "    }\n",
              "</style>\n",
              "<table border=\"1\" class=\"dataframe\">\n",
              "  <thead>\n",
              "    <tr style=\"text-align: right;\">\n",
              "      <th></th>\n",
              "      <th>GalaxyID</th>\n",
              "      <th>Class1.1</th>\n",
              "      <th>Class1.2</th>\n",
              "      <th>Class1.3</th>\n",
              "      <th>Class2.1</th>\n",
              "      <th>Class2.2</th>\n",
              "      <th>Class3.1</th>\n",
              "      <th>Class3.2</th>\n",
              "      <th>Class4.1</th>\n",
              "      <th>Class4.2</th>\n",
              "      <th>Class5.1</th>\n",
              "      <th>Class5.2</th>\n",
              "      <th>Class5.3</th>\n",
              "      <th>Class5.4</th>\n",
              "      <th>Class6.1</th>\n",
              "      <th>Class6.2</th>\n",
              "      <th>Class7.1</th>\n",
              "      <th>Class7.2</th>\n",
              "      <th>Class7.3</th>\n",
              "      <th>Class8.1</th>\n",
              "      <th>Class8.2</th>\n",
              "      <th>Class8.3</th>\n",
              "      <th>Class8.4</th>\n",
              "      <th>Class8.5</th>\n",
              "      <th>Class8.6</th>\n",
              "      <th>Class8.7</th>\n",
              "      <th>Class9.1</th>\n",
              "      <th>Class9.2</th>\n",
              "      <th>Class9.3</th>\n",
              "      <th>Class10.1</th>\n",
              "      <th>Class10.2</th>\n",
              "      <th>Class10.3</th>\n",
              "      <th>Class11.1</th>\n",
              "      <th>Class11.2</th>\n",
              "      <th>Class11.3</th>\n",
              "      <th>Class11.4</th>\n",
              "      <th>Class11.5</th>\n",
              "      <th>Class11.6</th>\n",
              "    </tr>\n",
              "  </thead>\n",
              "  <tbody>\n",
              "    <tr>\n",
              "      <th>233037</th>\n",
              "      <td>951320resized2rotated</td>\n",
              "      <td>0.852225</td>\n",
              "      <td>0.144623</td>\n",
              "      <td>0.003152</td>\n",
              "      <td>0.000000</td>\n",
              "      <td>0.144623</td>\n",
              "      <td>0.000000</td>\n",
              "      <td>0.144623</td>\n",
              "      <td>0.000000</td>\n",
              "      <td>0.144623</td>\n",
              "      <td>0.0</td>\n",
              "      <td>0.144623</td>\n",
              "      <td>0.000000</td>\n",
              "      <td>0.000000</td>\n",
              "      <td>0.000000</td>\n",
              "      <td>1.000000</td>\n",
              "      <td>0.606114</td>\n",
              "      <td>0.246111</td>\n",
              "      <td>0.000000</td>\n",
              "      <td>0.000000</td>\n",
              "      <td>0.000000</td>\n",
              "      <td>0.000000</td>\n",
              "      <td>0.0</td>\n",
              "      <td>0.000000</td>\n",
              "      <td>0.000000</td>\n",
              "      <td>0.000000</td>\n",
              "      <td>0.000000</td>\n",
              "      <td>0.000000</td>\n",
              "      <td>0.000000</td>\n",
              "      <td>0.000000</td>\n",
              "      <td>0.00000</td>\n",
              "      <td>0.0</td>\n",
              "      <td>0.0</td>\n",
              "      <td>0.000000</td>\n",
              "      <td>0.0</td>\n",
              "      <td>0.0</td>\n",
              "      <td>0.0</td>\n",
              "      <td>0.000000</td>\n",
              "    </tr>\n",
              "    <tr>\n",
              "      <th>170449</th>\n",
              "      <td>721954resized2rotated</td>\n",
              "      <td>0.835000</td>\n",
              "      <td>0.141000</td>\n",
              "      <td>0.024000</td>\n",
              "      <td>0.046953</td>\n",
              "      <td>0.094047</td>\n",
              "      <td>0.000000</td>\n",
              "      <td>0.094047</td>\n",
              "      <td>0.000000</td>\n",
              "      <td>0.094047</td>\n",
              "      <td>0.0</td>\n",
              "      <td>0.070535</td>\n",
              "      <td>0.023512</td>\n",
              "      <td>0.000000</td>\n",
              "      <td>0.324000</td>\n",
              "      <td>0.676000</td>\n",
              "      <td>0.001670</td>\n",
              "      <td>0.621240</td>\n",
              "      <td>0.212090</td>\n",
              "      <td>0.001944</td>\n",
              "      <td>0.081000</td>\n",
              "      <td>0.023976</td>\n",
              "      <td>0.0</td>\n",
              "      <td>0.120528</td>\n",
              "      <td>0.096552</td>\n",
              "      <td>0.000000</td>\n",
              "      <td>0.046953</td>\n",
              "      <td>0.000000</td>\n",
              "      <td>0.000000</td>\n",
              "      <td>0.000000</td>\n",
              "      <td>0.00000</td>\n",
              "      <td>0.0</td>\n",
              "      <td>0.0</td>\n",
              "      <td>0.000000</td>\n",
              "      <td>0.0</td>\n",
              "      <td>0.0</td>\n",
              "      <td>0.0</td>\n",
              "      <td>0.000000</td>\n",
              "    </tr>\n",
              "    <tr>\n",
              "      <th>238017</th>\n",
              "      <td>968893resized2rotated</td>\n",
              "      <td>0.107345</td>\n",
              "      <td>0.892655</td>\n",
              "      <td>0.000000</td>\n",
              "      <td>0.622711</td>\n",
              "      <td>0.269944</td>\n",
              "      <td>0.064103</td>\n",
              "      <td>0.205842</td>\n",
              "      <td>0.215602</td>\n",
              "      <td>0.054342</td>\n",
              "      <td>0.0</td>\n",
              "      <td>0.269944</td>\n",
              "      <td>0.000000</td>\n",
              "      <td>0.000000</td>\n",
              "      <td>0.172388</td>\n",
              "      <td>0.827612</td>\n",
              "      <td>0.000000</td>\n",
              "      <td>0.000000</td>\n",
              "      <td>0.107345</td>\n",
              "      <td>0.000000</td>\n",
              "      <td>0.000000</td>\n",
              "      <td>0.000000</td>\n",
              "      <td>0.0</td>\n",
              "      <td>0.043097</td>\n",
              "      <td>0.043097</td>\n",
              "      <td>0.086194</td>\n",
              "      <td>0.244725</td>\n",
              "      <td>0.041099</td>\n",
              "      <td>0.336887</td>\n",
              "      <td>0.215602</td>\n",
              "      <td>0.00000</td>\n",
              "      <td>0.0</td>\n",
              "      <td>0.0</td>\n",
              "      <td>0.065135</td>\n",
              "      <td>0.0</td>\n",
              "      <td>0.0</td>\n",
              "      <td>0.0</td>\n",
              "      <td>0.150467</td>\n",
              "    </tr>\n",
              "    <tr>\n",
              "      <th>193744</th>\n",
              "      <td>805563resized1rotated</td>\n",
              "      <td>0.862111</td>\n",
              "      <td>0.137889</td>\n",
              "      <td>0.000000</td>\n",
              "      <td>0.000000</td>\n",
              "      <td>0.137889</td>\n",
              "      <td>0.000000</td>\n",
              "      <td>0.137889</td>\n",
              "      <td>0.000000</td>\n",
              "      <td>0.137889</td>\n",
              "      <td>0.0</td>\n",
              "      <td>0.045640</td>\n",
              "      <td>0.037330</td>\n",
              "      <td>0.054919</td>\n",
              "      <td>0.146929</td>\n",
              "      <td>0.853071</td>\n",
              "      <td>0.119685</td>\n",
              "      <td>0.742426</td>\n",
              "      <td>0.000000</td>\n",
              "      <td>0.000000</td>\n",
              "      <td>0.029386</td>\n",
              "      <td>0.000000</td>\n",
              "      <td>0.0</td>\n",
              "      <td>0.088157</td>\n",
              "      <td>0.029386</td>\n",
              "      <td>0.000000</td>\n",
              "      <td>0.000000</td>\n",
              "      <td>0.000000</td>\n",
              "      <td>0.000000</td>\n",
              "      <td>0.000000</td>\n",
              "      <td>0.00000</td>\n",
              "      <td>0.0</td>\n",
              "      <td>0.0</td>\n",
              "      <td>0.000000</td>\n",
              "      <td>0.0</td>\n",
              "      <td>0.0</td>\n",
              "      <td>0.0</td>\n",
              "      <td>0.000000</td>\n",
              "    </tr>\n",
              "    <tr>\n",
              "      <th>71482</th>\n",
              "      <td>363175resized3rotated</td>\n",
              "      <td>0.238665</td>\n",
              "      <td>0.723998</td>\n",
              "      <td>0.037337</td>\n",
              "      <td>0.034625</td>\n",
              "      <td>0.689373</td>\n",
              "      <td>0.062990</td>\n",
              "      <td>0.626383</td>\n",
              "      <td>0.311351</td>\n",
              "      <td>0.378022</td>\n",
              "      <td>0.0</td>\n",
              "      <td>0.209596</td>\n",
              "      <td>0.295701</td>\n",
              "      <td>0.184076</td>\n",
              "      <td>0.197081</td>\n",
              "      <td>0.802919</td>\n",
              "      <td>0.000000</td>\n",
              "      <td>0.224810</td>\n",
              "      <td>0.013855</td>\n",
              "      <td>0.095595</td>\n",
              "      <td>0.000000</td>\n",
              "      <td>0.000000</td>\n",
              "      <td>0.0</td>\n",
              "      <td>0.054525</td>\n",
              "      <td>0.046961</td>\n",
              "      <td>0.000000</td>\n",
              "      <td>0.034625</td>\n",
              "      <td>0.000000</td>\n",
              "      <td>0.000000</td>\n",
              "      <td>0.177672</td>\n",
              "      <td>0.13368</td>\n",
              "      <td>0.0</td>\n",
              "      <td>0.0</td>\n",
              "      <td>0.103455</td>\n",
              "      <td>0.0</td>\n",
              "      <td>0.0</td>\n",
              "      <td>0.0</td>\n",
              "      <td>0.207896</td>\n",
              "    </tr>\n",
              "  </tbody>\n",
              "</table>\n",
              "</div>"
            ],
            "text/plain": [
              "                     GalaxyID  Class1.1  ...  Class11.5  Class11.6\n",
              "233037  951320resized2rotated  0.852225  ...        0.0   0.000000\n",
              "170449  721954resized2rotated  0.835000  ...        0.0   0.000000\n",
              "238017  968893resized2rotated  0.107345  ...        0.0   0.150467\n",
              "193744  805563resized1rotated  0.862111  ...        0.0   0.000000\n",
              "71482   363175resized3rotated  0.238665  ...        0.0   0.207896\n",
              "\n",
              "[5 rows x 38 columns]"
            ]
          },
          "metadata": {
            "tags": []
          },
          "execution_count": 23
        }
      ]
    },
    {
      "cell_type": "markdown",
      "metadata": {
        "id": "1BpVba904VkY"
      },
      "source": [
        "# Model architecture"
      ]
    },
    {
      "cell_type": "code",
      "metadata": {
        "id": "FfPWOwAHpCPM"
      },
      "source": [
        "def ConvLayers(layers, model, filters):\n",
        "    for i in range(layers):\n",
        "        model.add(ZeroPadding2D((1,1)))\n",
        "        model.add(Convolution2D(filters, 3,3,activation='relu'))\n",
        "    model.add(MaxPooling2D((2,2),strides=(1,1),padding=\"same\"))"
      ],
      "execution_count": null,
      "outputs": []
    },
    {
      "cell_type": "code",
      "metadata": {
        "id": "-KcY1Rb8pFog"
      },
      "source": [
        "def FCLayers(model):\n",
        "    model.add(Dense(4096, activation='relu'))\n",
        "    model.add(Dropout(0.5))"
      ],
      "execution_count": null,
      "outputs": []
    },
    {
      "cell_type": "code",
      "metadata": {
        "id": "emrBHKoEpGiG"
      },
      "source": [
        "def VGG16_arc():\n",
        "    model=Sequential()\n",
        "    ConvLayers(2,model,64)\n",
        "    ConvLayers(2,model,128)\n",
        "    ConvLayers(3,model,256)\n",
        "    ConvLayers(3,model,512)\n",
        "    ConvLayers(3,model,512)\n",
        "    model.add(Flatten())\n",
        "    FCLayers(model)\n",
        "    FCLayers(model)\n",
        "    model.add(Dense(37,activation='sigmoid'))\n",
        "    #model.add(Dense(3,activation='softmax'))\n",
        "    return model"
      ],
      "execution_count": null,
      "outputs": []
    },
    {
      "cell_type": "code",
      "metadata": {
        "id": "_xP3OxbPpJuQ"
      },
      "source": [
        "#Model compilation\n",
        "optimizer = RMSprop(lr=1e-4) #can be later tweaked\n",
        "model = VGG16_arc()\n",
        "model.compile(loss='mean_squared_error', optimizer=optimizer, metrics=['accuracy']) \n",
        "#model.compile(loss='categorical_crossentropy', optimizer=optimizer)"
      ],
      "execution_count": null,
      "outputs": []
    },
    {
      "cell_type": "code",
      "metadata": {
        "id": "fLx6jkdcpMN9"
      },
      "source": [
        "shuf=pd.read_csv('/content/drive/MyDrive/unprocessed.csv')\n",
        "shuf.head()\n",
        "cols=shuf.columns[1:]"
      ],
      "execution_count": null,
      "outputs": []
    },
    {
      "cell_type": "code",
      "metadata": {
        "colab": {
          "base_uri": "https://localhost:8080/"
        },
        "id": "paviVK3c60E1",
        "outputId": "9d681354-303b-43f9-a974-f3bdf729e372"
      },
      "source": [
        "shuf.shape"
      ],
      "execution_count": null,
      "outputs": [
        {
          "output_type": "execute_result",
          "data": {
            "text/plain": [
              "(246312, 38)"
            ]
          },
          "metadata": {
            "tags": []
          },
          "execution_count": 14
        }
      ]
    },
    {
      "cell_type": "code",
      "metadata": {
        "id": "RTtkykMbpRSd"
      },
      "source": [
        "X=shuf['GalaxyID'].values.tolist()\n",
        "Y=shuf[cols].values.tolist()\n",
        "# x_train,x_test,y_train,y_test=train_test_split(X,Y,test_size=0.2, random_state=42)\n",
        "x_train,x_test,y_train,y_test=train_test_split(X,Y,test_size=0.2,random_state=0)\n",
        "path='/content/Rotation/'\n",
        "sam=len(y_train)"
      ],
      "execution_count": null,
      "outputs": []
    },
    {
      "cell_type": "markdown",
      "metadata": {
        "id": "Nq2gr4A04Zac"
      },
      "source": [
        "# Generator Function"
      ]
    },
    {
      "cell_type": "code",
      "metadata": {
        "id": "U8aVoXTVpUVg"
      },
      "source": [
        "def Generate_train(x_train,y_train,bs):\n",
        "    while(True):\n",
        "        b_start=0\n",
        "        b_end=bs\n",
        "        L=len(y_train)\n",
        "        while b_start<L:            \n",
        "            limit=min(b_end,L)\n",
        "            x_samp=x_train[b_start:limit]\n",
        "            y_samp=y_train[b_start:limit]\n",
        "            X_train=[]\n",
        "            Y_train=[]\n",
        "            for i in range(0,len(x_samp)):\n",
        "#                 print(i)\n",
        "                X_train.append(cv2.cvtColor(cv2.imread(path+str(x_samp[i])+'.jpg') ,cv2.COLOR_BGR2RGB))\n",
        "                Y_train.append(y_samp[i])\n",
        "            X_train=np.array(X_train)\n",
        "            Y_train=np.array(Y_train)\n",
        "            yield X_train,Y_train\n",
        "            b_start+=bs\n",
        "            b_end+=bs         "
      ],
      "execution_count": null,
      "outputs": []
    },
    {
      "cell_type": "code",
      "metadata": {
        "id": "98x7wUo1pXuO"
      },
      "source": [
        "batch_size=32\n",
        "train_gen=Generate_train(x_train,y_train,batch_size)"
      ],
      "execution_count": null,
      "outputs": []
    },
    {
      "cell_type": "code",
      "metadata": {
        "id": "Mtj-RRFdpYXh"
      },
      "source": [
        "optimizer = RMSprop(lr=1e-4) #can be later tweaked\n",
        "model = VGG16_arc()\n",
        "model.compile(loss='mean_squared_error', optimizer=optimizer, metrics=['accuracy']) \n",
        "steps=len(x_train)//batch_size"
      ],
      "execution_count": null,
      "outputs": []
    },
    {
      "cell_type": "code",
      "metadata": {
        "id": "NVbC2mO_K8fL"
      },
      "source": [
        "def Generate_test(x_test,y_test,bs):\n",
        "    while(True):\n",
        "        b_start=0\n",
        "        b_end=bs\n",
        "        L=len(y_test)\n",
        "        while b_start<L:            \n",
        "            limit=min(b_end,L)\n",
        "            x_samp=x_test[b_start:limit]\n",
        "            y_samp=y_test[b_start:limit]\n",
        "            X_test=[]\n",
        "            Y_test=[]\n",
        "            for i in range(0,len(x_samp)):\n",
        "#                 print(i)\n",
        "                X_test.append(cv2.cvtColor(cv2.imread(path+str(x_samp[i])+'.jpg') ,cv2.COLOR_BGR2RGB))\n",
        "                Y_test.append(y_samp[i])\n",
        "            X_test=np.array(X_test)\n",
        "            Y_test=np.array(Y_test)\n",
        "            yield X_test,Y_test\n",
        "            b_start+=bs\n",
        "\n",
        "            b_end+=bs         "
      ],
      "execution_count": null,
      "outputs": []
    },
    {
      "cell_type": "code",
      "metadata": {
        "id": "NgITY05q0mqM"
      },
      "source": [
        "# stop=EarlyStopping(monitor='val_loss',min_delta=0,patience=3)\n",
        "stop=EarlyStopping(monitor='val_loss',verbose=1,min_delta=0,patience=5)\n",
        "batch_size=32\n",
        "test_gen=Generate_test(x_test,y_test,batch_size)\n",
        "val_steps=len(x_test)//batch_size"
      ],
      "execution_count": null,
      "outputs": []
    },
    {
      "cell_type": "code",
      "metadata": {
        "colab": {
          "base_uri": "https://localhost:8080/"
        },
        "id": "GhRxF1yVpZyM",
        "outputId": "ccc7f0a9-1725-4caa-a0cc-a6f51e8084c9"
      },
      "source": [
        "model.build(input_shape=(None,224,224,3))\n",
        "\n",
        "checkpoint_filepath = 'weight.hdf5'\n",
        "cp_callback =keras.callbacks.ModelCheckpoint(\n",
        "    filepath=checkpoint_filepath,\n",
        "    save_weights_only=True,\n",
        "    monitor='accuracy',\n",
        "    mode='max',\n",
        "    save_freq='epoch',\n",
        "    save_best_only=True)\n",
        "\n",
        "model.fit(train_gen,epochs=50,verbose=1,batch_size=None,steps_per_epoch=steps,callbacks=[cp_callback],validation_data=test_gen,validation_steps=val_steps)\n",
        "# model.fit(x=img_train, y=y_train, batch_size = 32, epochs = 50)"
      ],
      "execution_count": null,
      "outputs": [
        {
          "output_type": "stream",
          "text": [
            "Epoch 1/50\n",
            "6157/6157 [==============================] - 255s 39ms/step - loss: 0.0240 - accuracy: 0.6225 - val_loss: 0.0154 - val_accuracy: 0.6836\n",
            "Epoch 2/50\n",
            "6157/6157 [==============================] - 235s 38ms/step - loss: 0.0154 - accuracy: 0.6856 - val_loss: 0.0151 - val_accuracy: 0.6849\n",
            "Epoch 3/50\n",
            "6157/6157 [==============================] - 237s 38ms/step - loss: 0.0140 - accuracy: 0.7103 - val_loss: 0.0130 - val_accuracy: 0.7313\n",
            "Epoch 4/50\n",
            "6157/6157 [==============================] - 237s 39ms/step - loss: 0.0126 - accuracy: 0.7329 - val_loss: 0.0139 - val_accuracy: 0.7070\n",
            "Epoch 5/50\n",
            "6157/6157 [==============================] - 235s 38ms/step - loss: 0.0119 - accuracy: 0.7441 - val_loss: 0.0119 - val_accuracy: 0.7530\n",
            "Epoch 6/50\n",
            "6157/6157 [==============================] - 236s 38ms/step - loss: 0.0113 - accuracy: 0.7533 - val_loss: 0.0114 - val_accuracy: 0.7560\n",
            "Epoch 7/50\n",
            "6157/6157 [==============================] - 236s 38ms/step - loss: 0.0107 - accuracy: 0.7594 - val_loss: 0.0112 - val_accuracy: 0.7462\n",
            "Epoch 8/50\n",
            "6157/6157 [==============================] - 237s 38ms/step - loss: 0.0103 - accuracy: 0.7641 - val_loss: 0.0108 - val_accuracy: 0.7630\n",
            "Epoch 9/50\n",
            "6157/6157 [==============================] - 236s 38ms/step - loss: 0.0100 - accuracy: 0.7699 - val_loss: 0.0109 - val_accuracy: 0.7592\n",
            "Epoch 10/50\n",
            "6157/6157 [==============================] - 236s 38ms/step - loss: 0.0097 - accuracy: 0.7741 - val_loss: 0.0110 - val_accuracy: 0.7629\n",
            "Epoch 11/50\n",
            "6157/6157 [==============================] - 236s 38ms/step - loss: 0.0095 - accuracy: 0.7775 - val_loss: 0.0112 - val_accuracy: 0.7581\n",
            "Epoch 12/50\n",
            "6157/6157 [==============================] - 236s 38ms/step - loss: 0.0093 - accuracy: 0.7793 - val_loss: 0.0114 - val_accuracy: 0.7495\n",
            "Epoch 13/50\n",
            "6157/6157 [==============================] - 237s 38ms/step - loss: 0.0091 - accuracy: 0.7835 - val_loss: 0.0109 - val_accuracy: 0.7573\n",
            "Epoch 14/50\n",
            "6157/6157 [==============================] - 236s 38ms/step - loss: 0.0090 - accuracy: 0.7844 - val_loss: 0.0111 - val_accuracy: 0.7602\n",
            "Epoch 15/50\n",
            "6157/6157 [==============================] - 236s 38ms/step - loss: 0.0088 - accuracy: 0.7887 - val_loss: 0.0113 - val_accuracy: 0.7627\n",
            "Epoch 16/50\n",
            "6157/6157 [==============================] - 237s 39ms/step - loss: 0.0086 - accuracy: 0.7908 - val_loss: 0.0110 - val_accuracy: 0.7612\n",
            "Epoch 17/50\n",
            "6157/6157 [==============================] - 237s 38ms/step - loss: 0.0085 - accuracy: 0.7935 - val_loss: 0.0115 - val_accuracy: 0.7511\n",
            "Epoch 18/50\n",
            "6157/6157 [==============================] - 237s 38ms/step - loss: 0.0083 - accuracy: 0.7933 - val_loss: 0.0111 - val_accuracy: 0.7595\n",
            "Epoch 19/50\n",
            "6157/6157 [==============================] - 237s 38ms/step - loss: 0.0082 - accuracy: 0.7964 - val_loss: 0.0109 - val_accuracy: 0.7663\n",
            "Epoch 20/50\n",
            "6157/6157 [==============================] - 236s 38ms/step - loss: 0.0081 - accuracy: 0.7975 - val_loss: 0.0110 - val_accuracy: 0.7632\n",
            "Epoch 21/50\n",
            "6157/6157 [==============================] - 237s 38ms/step - loss: 0.0080 - accuracy: 0.7994 - val_loss: 0.0111 - val_accuracy: 0.7651\n",
            "Epoch 22/50\n",
            "6157/6157 [==============================] - 236s 38ms/step - loss: 0.0078 - accuracy: 0.7993 - val_loss: 0.0110 - val_accuracy: 0.7543\n",
            "Epoch 23/50\n",
            "6157/6157 [==============================] - 236s 38ms/step - loss: 0.0077 - accuracy: 0.7999 - val_loss: 0.0114 - val_accuracy: 0.7543\n",
            "Epoch 24/50\n",
            "6157/6157 [==============================] - 236s 38ms/step - loss: 0.0076 - accuracy: 0.8016 - val_loss: 0.0117 - val_accuracy: 0.7357\n",
            "Epoch 25/50\n",
            "6157/6157 [==============================] - 236s 38ms/step - loss: 0.0075 - accuracy: 0.8026 - val_loss: 0.0111 - val_accuracy: 0.7563\n",
            "Epoch 26/50\n",
            "6157/6157 [==============================] - 238s 39ms/step - loss: 0.0075 - accuracy: 0.8033 - val_loss: 0.0115 - val_accuracy: 0.7347\n",
            "Epoch 27/50\n",
            "6157/6157 [==============================] - 237s 39ms/step - loss: 0.0073 - accuracy: 0.8048 - val_loss: 0.0113 - val_accuracy: 0.7587\n",
            "Epoch 28/50\n",
            "6157/6157 [==============================] - 237s 38ms/step - loss: 0.0073 - accuracy: 0.8064 - val_loss: 0.0113 - val_accuracy: 0.7540\n",
            "Epoch 29/50\n",
            "6157/6157 [==============================] - 238s 39ms/step - loss: 0.0072 - accuracy: 0.8075 - val_loss: 0.0118 - val_accuracy: 0.7477\n",
            "Epoch 30/50\n",
            "6157/6157 [==============================] - 238s 39ms/step - loss: 0.0071 - accuracy: 0.8076 - val_loss: 0.0115 - val_accuracy: 0.7510\n",
            "Epoch 31/50\n",
            "6157/6157 [==============================] - 237s 39ms/step - loss: 0.0070 - accuracy: 0.8084 - val_loss: 0.0113 - val_accuracy: 0.7590\n",
            "Epoch 32/50\n",
            "6157/6157 [==============================] - 237s 39ms/step - loss: 0.0069 - accuracy: 0.8095 - val_loss: 0.0113 - val_accuracy: 0.7597\n",
            "Epoch 33/50\n",
            "6157/6157 [==============================] - 237s 38ms/step - loss: 0.0069 - accuracy: 0.8115 - val_loss: 0.0114 - val_accuracy: 0.7587\n",
            "Epoch 34/50\n",
            "6157/6157 [==============================] - 237s 38ms/step - loss: 0.0068 - accuracy: 0.8111 - val_loss: 0.0114 - val_accuracy: 0.7593\n",
            "Epoch 35/50\n",
            "6157/6157 [==============================] - 236s 38ms/step - loss: 0.0067 - accuracy: 0.8118 - val_loss: 0.0114 - val_accuracy: 0.7585\n",
            "Epoch 36/50\n",
            "6157/6157 [==============================] - 236s 38ms/step - loss: 0.0067 - accuracy: 0.8123 - val_loss: 0.0114 - val_accuracy: 0.7637\n",
            "Epoch 37/50\n",
            "6157/6157 [==============================] - 237s 38ms/step - loss: 0.0066 - accuracy: 0.8137 - val_loss: 0.0114 - val_accuracy: 0.7629\n",
            "Epoch 38/50\n",
            "6157/6157 [==============================] - 237s 38ms/step - loss: 0.0065 - accuracy: 0.8144 - val_loss: 0.0113 - val_accuracy: 0.7659\n",
            "Epoch 39/50\n",
            "6157/6157 [==============================] - 236s 38ms/step - loss: 0.0065 - accuracy: 0.8149 - val_loss: 0.0123 - val_accuracy: 0.7524\n",
            "Epoch 40/50\n",
            "6157/6157 [==============================] - 238s 39ms/step - loss: 0.0064 - accuracy: 0.8173 - val_loss: 0.0117 - val_accuracy: 0.7574\n",
            "Epoch 41/50\n",
            "6157/6157 [==============================] - 237s 39ms/step - loss: 0.0064 - accuracy: 0.8171 - val_loss: 0.0116 - val_accuracy: 0.7553\n",
            "Epoch 42/50\n",
            "6157/6157 [==============================] - 237s 38ms/step - loss: 0.0063 - accuracy: 0.8183 - val_loss: 0.0121 - val_accuracy: 0.7406\n",
            "Epoch 43/50\n",
            "6157/6157 [==============================] - 237s 38ms/step - loss: 0.0063 - accuracy: 0.8183 - val_loss: 0.0123 - val_accuracy: 0.7447\n",
            "Epoch 44/50\n",
            "6157/6157 [==============================] - 236s 38ms/step - loss: 0.0062 - accuracy: 0.8198 - val_loss: 0.0122 - val_accuracy: 0.7473\n",
            "Epoch 45/50\n",
            "6157/6157 [==============================] - 237s 38ms/step - loss: 0.0062 - accuracy: 0.8200 - val_loss: 0.0118 - val_accuracy: 0.7629\n",
            "Epoch 46/50\n",
            "6157/6157 [==============================] - 236s 38ms/step - loss: 0.0061 - accuracy: 0.8195 - val_loss: 0.0123 - val_accuracy: 0.7535\n",
            "Epoch 47/50\n",
            "6157/6157 [==============================] - 235s 38ms/step - loss: 0.0061 - accuracy: 0.8213 - val_loss: 0.0121 - val_accuracy: 0.7517\n",
            "Epoch 48/50\n",
            "6157/6157 [==============================] - 235s 38ms/step - loss: 0.0060 - accuracy: 0.8218 - val_loss: 0.0119 - val_accuracy: 0.7593\n",
            "Epoch 49/50\n",
            "6157/6157 [==============================] - 236s 38ms/step - loss: 0.0060 - accuracy: 0.8222 - val_loss: 0.0118 - val_accuracy: 0.7584\n",
            "Epoch 50/50\n",
            "6157/6157 [==============================] - 235s 38ms/step - loss: 0.0059 - accuracy: 0.8222 - val_loss: 0.0119 - val_accuracy: 0.7577\n"
          ],
          "name": "stdout"
        },
        {
          "output_type": "execute_result",
          "data": {
            "text/plain": [
              "<tensorflow.python.keras.callbacks.History at 0x7f1040149e90>"
            ]
          },
          "metadata": {
            "tags": []
          },
          "execution_count": 21
        }
      ]
    },
    {
      "cell_type": "code",
      "metadata": {
        "id": "44LsR2E8HiO1"
      },
      "source": [
        "model.save('unpros_trial.hdf5')"
      ],
      "execution_count": null,
      "outputs": []
    },
    {
      "cell_type": "code",
      "metadata": {
        "id": "-tH3nDzaxgoN"
      },
      "source": [
        "key=model.history.history.keys()\n",
        "values=model.history.history"
      ],
      "execution_count": null,
      "outputs": []
    },
    {
      "cell_type": "code",
      "metadata": {
        "colab": {
          "base_uri": "https://localhost:8080/"
        },
        "id": "hOTXRQIQ4Y58",
        "outputId": "db7db100-d575-4d3b-96a4-dd59e834d3bf"
      },
      "source": [
        "key"
      ],
      "execution_count": null,
      "outputs": [
        {
          "output_type": "execute_result",
          "data": {
            "text/plain": [
              "dict_keys(['loss', 'accuracy', 'val_loss', 'val_accuracy'])"
            ]
          },
          "metadata": {
            "tags": []
          },
          "execution_count": 24
        }
      ]
    },
    {
      "cell_type": "code",
      "metadata": {
        "colab": {
          "base_uri": "https://localhost:8080/",
          "height": 296
        },
        "id": "1Odr8vHv2kZk",
        "outputId": "559f7ae7-d5c9-42a0-ac03-109c59ec392b"
      },
      "source": [
        "plt.plot(values['accuracy'])\n",
        "plt.plot(values['val_accuracy'])\n",
        "plt.xlabel('epoch')\n",
        "plt.ylabel('accuracies')\n",
        "plt.legend(['train', 'test'], loc='upper left')"
      ],
      "execution_count": null,
      "outputs": [
        {
          "output_type": "execute_result",
          "data": {
            "text/plain": [
              "<matplotlib.legend.Legend at 0x7f100e5714d0>"
            ]
          },
          "metadata": {
            "tags": []
          },
          "execution_count": 25
        },
        {
          "output_type": "display_data",
          "data": {
            "image/png": "[encoded data removed]",
            "text/plain": [
              "<Figure size 432x288 with 1 Axes>"
            ]
          },
          "metadata": {
            "tags": [],
            "needs_background": "light"
          }
        }
      ]
    },
    {
      "cell_type": "code",
      "metadata": {
        "colab": {
          "base_uri": "https://localhost:8080/",
          "height": 297
        },
        "id": "0YtGj_2x4XCw",
        "outputId": "453c438f-f19a-4cdc-eb1a-3ec957d74420"
      },
      "source": [
        "plt.plot(values['loss'])\n",
        "plt.plot(values['val_loss'])\n",
        "plt.xlabel('epoch')\n",
        "plt.ylabel('losses')\n",
        "plt.legend(['train', 'test'], loc='upper left')"
      ],
      "execution_count": null,
      "outputs": [
        {
          "output_type": "execute_result",
          "data": {
            "text/plain": [
              "<matplotlib.legend.Legend at 0x7f100e4df110>"
            ]
          },
          "metadata": {
            "tags": []
          },
          "execution_count": 26
        },
        {
          "output_type": "display_data",
          "data": {
            "image/png": "[encoded data removed]",
            "text/plain": [
              "<Figure size 432x288 with 1 Axes>"
            ]
          },
          "metadata": {
            "tags": [],
            "needs_background": "light"
          }
        }
      ]
    },
    {
      "cell_type": "code",
      "metadata": {
        "id": "Kv_xcOLO5BCO"
      },
      "source": [
        ""
      ],
      "execution_count": null,
      "outputs": []
    }
  ]
}