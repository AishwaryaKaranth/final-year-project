{
  "nbformat": 4,
  "nbformat_minor": 0,
  "metadata": {
    "colab": {
      "name": "Model_3.ipynb",
      "provenance": [],
      "collapsed_sections": [],
      "toc_visible": true,
      "machine_shape": "hm",
      "include_colab_link": true
    },
    "kernelspec": {
      "display_name": "Python 3",
      "name": "python3"
    },
    "language_info": {
      "name": "python"
    },
    "accelerator": "GPU"
  },
  "cells": [
    {
      "cell_type": "markdown",
      "metadata": {
        "id": "view-in-github",
        "colab_type": "text"
      },
      "source": [
        "<a href=\"https://colab.research.google.com/github/AishwaryaKaranth/final-year-project/blob/master/All%20Models/Model_3.ipynb\" target=\"_parent\"><img src=\"https://colab.research.google.com/assets/colab-badge.svg\" alt=\"Open In Colab\"/></a>"
      ]
    },
    {
      "cell_type": "code",
      "metadata": {
        "colab": {
          "base_uri": "https://localhost:8080/"
        },
        "id": "3zn0KG0cdZtU",
        "outputId": "e8516e96-16ab-4dfd-b094-6e6299a683ed"
      },
      "source": [
        "from google.colab import drive\n",
        "drive.mount('/content/drive')"
      ],
      "execution_count": null,
      "outputs": [
        {
          "output_type": "stream",
          "text": [
            "Mounted at /content/drive\n"
          ],
          "name": "stdout"
        }
      ]
    },
    {
      "cell_type": "code",
      "metadata": {
        "id": "r_1sMCsPasi5"
      },
      "source": [
        "!unzip -o /content/drive/MyDrive/he1.zip"
      ],
      "execution_count": null,
      "outputs": []
    },
    {
      "cell_type": "markdown",
      "metadata": {
        "id": "OAyl8KH64Jrx"
      },
      "source": [
        "# Libraries"
      ]
    },
    {
      "cell_type": "code",
      "metadata": {
        "id": "QD8t6-1-nAxB"
      },
      "source": [
        "import keras\n",
        "from keras.models import Sequential, Model\n",
        "from keras.layers.core import Flatten, Dense, Dropout, Lambda, Reshape\n",
        "from keras.callbacks import EarlyStopping\n",
        "from keras.layers import Input\n",
        "from keras.models import load_model\n",
        "from keras.layers.convolutional import Convolution2D, MaxPooling2D, ZeroPadding2D\n",
        "from keras.layers import Conv2D, MaxPooling2D, Activation\n",
        "from keras.optimizers import RMSprop\n",
        "from keras.applications.vgg16 import VGG16, preprocess_input\n",
        "from keras.preprocessing.image import load_img,img_to_array\n",
        "from keras.models import Model\n",
        "import matplotlib.pyplot as plt\n",
        "import numpy as np\n",
        "import pandas as pd\n",
        "import cv2\n",
        "import os\n",
        "import matplotlib.pyplot as plt\n",
        "%matplotlib inline\n",
        "from sklearn.model_selection import train_test_split"
      ],
      "execution_count": null,
      "outputs": []
    },
    {
      "cell_type": "markdown",
      "metadata": {
        "id": "1BpVba904VkY"
      },
      "source": [
        "# Model architecture"
      ]
    },
    {
      "cell_type": "code",
      "metadata": {
        "id": "FfPWOwAHpCPM"
      },
      "source": [
        "def ConvLayers(layers, model, filters):\n",
        "    for i in range(layers):\n",
        "        model.add(ZeroPadding2D((1,1)))\n",
        "        model.add(Convolution2D(filters, 3,3,activation='relu'))\n",
        "    model.add(MaxPooling2D((2,2),strides=(1,1),padding=\"same\"))"
      ],
      "execution_count": null,
      "outputs": []
    },
    {
      "cell_type": "code",
      "metadata": {
        "id": "-KcY1Rb8pFog"
      },
      "source": [
        "def FCLayers(model):\n",
        "    model.add(Dense(4096, activation='relu'))\n",
        "    model.add(Dropout(0.5))"
      ],
      "execution_count": null,
      "outputs": []
    },
    {
      "cell_type": "code",
      "metadata": {
        "id": "emrBHKoEpGiG"
      },
      "source": [
        "def VGG16_arc():\n",
        "    model=Sequential()\n",
        "    ConvLayers(2,model,64)\n",
        "    ConvLayers(2,model,128)\n",
        "    ConvLayers(3,model,256)\n",
        "    ConvLayers(3,model,512)\n",
        "    ConvLayers(3,model,512)\n",
        "    model.add(Flatten())\n",
        "    FCLayers(model)\n",
        "    FCLayers(model)\n",
        "    model.add(Dense(37,activation='sigmoid'))\n",
        "    #model.add(Dense(3,activation='softmax'))\n",
        "    return model"
      ],
      "execution_count": null,
      "outputs": []
    },
    {
      "cell_type": "code",
      "metadata": {
        "id": "_xP3OxbPpJuQ"
      },
      "source": [
        "#Model compilation\n",
        "optimizer = RMSprop(lr=1e-4) #can be later tweaked\n",
        "model = VGG16_arc()\n",
        "model.compile(loss='mean_squared_error', optimizer=optimizer, metrics=['accuracy']) \n",
        "#model.compile(loss='categorical_crossentropy', optimizer=optimizer)"
      ],
      "execution_count": null,
      "outputs": []
    },
    {
      "cell_type": "code",
      "metadata": {
        "id": "fLx6jkdcpMN9"
      },
      "source": [
        "shuf=pd.read_csv('/content/drive/MyDrive/shuffled.csv')\n",
        "shuf.head()\n",
        "cols=shuf.columns[1:]"
      ],
      "execution_count": null,
      "outputs": []
    },
    {
      "cell_type": "code",
      "metadata": {
        "colab": {
          "base_uri": "https://localhost:8080/"
        },
        "id": "paviVK3c60E1",
        "outputId": "1780a51b-d07a-41d9-cbdd-e95e543d93e9"
      },
      "source": [
        "shuf.shape"
      ],
      "execution_count": null,
      "outputs": [
        {
          "output_type": "execute_result",
          "data": {
            "text/plain": [
              "(246312, 38)"
            ]
          },
          "metadata": {
            "tags": []
          },
          "execution_count": 9
        }
      ]
    },
    {
      "cell_type": "code",
      "metadata": {
        "id": "RTtkykMbpRSd"
      },
      "source": [
        "X=shuf['GalaxyID'].values.tolist()\n",
        "Y=shuf[cols].values.tolist()\n",
        "# x_train,x_test,y_train,y_test=train_test_split(X,Y,test_size=0.2, random_state=42)\n",
        "x_train,x_test,y_train,y_test=train_test_split(X,Y,test_size=0.2,random_state=0)\n",
        "path='/content/he1/'\n",
        "sam=len(y_train)"
      ],
      "execution_count": null,
      "outputs": []
    },
    {
      "cell_type": "markdown",
      "metadata": {
        "id": "Nq2gr4A04Zac"
      },
      "source": [
        "# Generator Function"
      ]
    },
    {
      "cell_type": "code",
      "metadata": {
        "id": "U8aVoXTVpUVg"
      },
      "source": [
        "def Generate_train(x_train,y_train,bs):\n",
        "    while(True):\n",
        "        b_start=0\n",
        "        b_end=bs\n",
        "        L=len(y_train)\n",
        "        while b_start<L:            \n",
        "            limit=min(b_end,L)\n",
        "            x_samp=x_train[b_start:limit]\n",
        "            y_samp=y_train[b_start:limit]\n",
        "            X_train=[]\n",
        "            Y_train=[]\n",
        "            for i in range(0,len(x_samp)):\n",
        "#                 print(i)\n",
        "                X_train.append(cv2.cvtColor(cv2.imread(path+str(x_samp[i])+'.jpg') ,cv2.COLOR_BGR2RGB))\n",
        "                Y_train.append(y_samp[i])\n",
        "            X_train=np.array(X_train)\n",
        "            Y_train=np.array(Y_train)\n",
        "            yield X_train,Y_train\n",
        "            b_start+=bs\n",
        "            b_end+=bs         "
      ],
      "execution_count": null,
      "outputs": []
    },
    {
      "cell_type": "code",
      "metadata": {
        "id": "98x7wUo1pXuO"
      },
      "source": [
        "batch_size=32\n",
        "train_gen=Generate_train(x_train,y_train,batch_size)"
      ],
      "execution_count": null,
      "outputs": []
    },
    {
      "cell_type": "code",
      "metadata": {
        "id": "Mtj-RRFdpYXh"
      },
      "source": [
        "optimizer = RMSprop(lr=1e-4) #can be later tweaked\n",
        "model = VGG16_arc()\n",
        "model.compile(loss='mean_squared_error', optimizer=optimizer, metrics=['accuracy']) \n",
        "steps=len(x_train)//batch_size"
      ],
      "execution_count": null,
      "outputs": []
    },
    {
      "cell_type": "code",
      "metadata": {
        "id": "NVbC2mO_K8fL"
      },
      "source": [
        "def Generate_test(x_test,y_test,bs):\n",
        "    while(True):\n",
        "        b_start=0\n",
        "        b_end=bs\n",
        "        L=len(y_test)\n",
        "        while b_start<L:            \n",
        "            limit=min(b_end,L)\n",
        "            x_samp=x_test[b_start:limit]\n",
        "            y_samp=y_test[b_start:limit]\n",
        "            X_test=[]\n",
        "            Y_test=[]\n",
        "            for i in range(0,len(x_samp)):\n",
        "#                 print(i)\n",
        "                X_test.append(cv2.cvtColor(cv2.imread(path+str(x_samp[i])+'.jpg') ,cv2.COLOR_BGR2RGB))\n",
        "                Y_test.append(y_samp[i])\n",
        "            X_test=np.array(X_test)\n",
        "            Y_test=np.array(Y_test)\n",
        "            yield X_test,Y_test\n",
        "            b_start+=bs\n",
        "\n",
        "            b_end+=bs         "
      ],
      "execution_count": null,
      "outputs": []
    },
    {
      "cell_type": "code",
      "metadata": {
        "id": "NgITY05q0mqM"
      },
      "source": [
        "# stop=EarlyStopping(monitor='val_loss',min_delta=0,patience=3)\n",
        "stop=EarlyStopping(monitor='val_loss',verbose=1,min_delta=0,patience=5)\n",
        "batch_size=32\n",
        "test_gen=Generate_test(x_test,y_test,batch_size)\n",
        "val_steps=len(x_test)//batch_size"
      ],
      "execution_count": null,
      "outputs": []
    },
    {
      "cell_type": "code",
      "metadata": {
        "colab": {
          "base_uri": "https://localhost:8080/"
        },
        "id": "GhRxF1yVpZyM",
        "outputId": "fea607ee-ee5c-44d5-e4f5-3696b84067e1"
      },
      "source": [
        "model.build(input_shape=(None,224,224,3))\n",
        "\n",
        "checkpoint_filepath = 'weight.hdf5'\n",
        "cp_callback =keras.callbacks.ModelCheckpoint(\n",
        "    filepath=checkpoint_filepath,\n",
        "    save_weights_only=True,\n",
        "    monitor='accuracy',\n",
        "    mode='max',\n",
        "    save_freq='epoch',\n",
        "    save_best_only=True)\n",
        "\n",
        "model.fit(train_gen,epochs=50,verbose=1,batch_size=None,steps_per_epoch=steps,callbacks=[cp_callback],validation_data=test_gen,validation_steps=val_steps)\n",
        "# model.fit(x=img_train, y=y_train, batch_size = 32, epochs = 50)"
      ],
      "execution_count": null,
      "outputs": [
        {
          "output_type": "stream",
          "text": [
            "Epoch 1/50\n",
            "6157/6157 [==============================] - 291s 44ms/step - loss: 0.0241 - accuracy: 0.6164 - val_loss: 0.0159 - val_accuracy: 0.6850\n",
            "Epoch 2/50\n",
            "6157/6157 [==============================] - 270s 44ms/step - loss: 0.0159 - accuracy: 0.6775 - val_loss: 0.0166 - val_accuracy: 0.6617\n",
            "Epoch 3/50\n",
            "6157/6157 [==============================] - 269s 44ms/step - loss: 0.0142 - accuracy: 0.7042 - val_loss: 0.0129 - val_accuracy: 0.7291\n",
            "Epoch 4/50\n",
            "6157/6157 [==============================] - 269s 44ms/step - loss: 0.0129 - accuracy: 0.7284 - val_loss: 0.0129 - val_accuracy: 0.7176\n",
            "Epoch 5/50\n",
            "6157/6157 [==============================] - 269s 44ms/step - loss: 0.0121 - accuracy: 0.7416 - val_loss: 0.0122 - val_accuracy: 0.7332\n",
            "Epoch 6/50\n",
            "6157/6157 [==============================] - 270s 44ms/step - loss: 0.0117 - accuracy: 0.7493 - val_loss: 0.0117 - val_accuracy: 0.7503\n",
            "Epoch 7/50\n",
            "6157/6157 [==============================] - 269s 44ms/step - loss: 0.0112 - accuracy: 0.7552 - val_loss: 0.0113 - val_accuracy: 0.7512\n",
            "Epoch 8/50\n",
            "6157/6157 [==============================] - 268s 44ms/step - loss: 0.0108 - accuracy: 0.7591 - val_loss: 0.0111 - val_accuracy: 0.7523\n",
            "Epoch 9/50\n",
            "6157/6157 [==============================] - 269s 44ms/step - loss: 0.0104 - accuracy: 0.7640 - val_loss: 0.0108 - val_accuracy: 0.7552\n",
            "Epoch 10/50\n",
            "6157/6157 [==============================] - 268s 43ms/step - loss: 0.0101 - accuracy: 0.7688 - val_loss: 0.0110 - val_accuracy: 0.7537\n",
            "Epoch 11/50\n",
            "6157/6157 [==============================] - 268s 44ms/step - loss: 0.0099 - accuracy: 0.7726 - val_loss: 0.0107 - val_accuracy: 0.7579\n",
            "Epoch 12/50\n",
            "6157/6157 [==============================] - 268s 43ms/step - loss: 0.0096 - accuracy: 0.7755 - val_loss: 0.0108 - val_accuracy: 0.7507\n",
            "Epoch 13/50\n",
            "6157/6157 [==============================] - 268s 43ms/step - loss: 0.0094 - accuracy: 0.7793 - val_loss: 0.0110 - val_accuracy: 0.7579\n",
            "Epoch 14/50\n",
            "6157/6157 [==============================] - 267s 43ms/step - loss: 0.0092 - accuracy: 0.7806 - val_loss: 0.0107 - val_accuracy: 0.7641\n",
            "Epoch 15/50\n",
            "6157/6157 [==============================] - 269s 44ms/step - loss: 0.0091 - accuracy: 0.7828 - val_loss: 0.0112 - val_accuracy: 0.7592\n",
            "Epoch 16/50\n",
            "6157/6157 [==============================] - 269s 44ms/step - loss: 0.0089 - accuracy: 0.7868 - val_loss: 0.0110 - val_accuracy: 0.7609\n",
            "Epoch 17/50\n",
            "6157/6157 [==============================] - 269s 44ms/step - loss: 0.0088 - accuracy: 0.7884 - val_loss: 0.0111 - val_accuracy: 0.7598\n",
            "Epoch 18/50\n",
            "6157/6157 [==============================] - 270s 44ms/step - loss: 0.0086 - accuracy: 0.7899 - val_loss: 0.0112 - val_accuracy: 0.7566\n",
            "Epoch 19/50\n",
            "6157/6157 [==============================] - 268s 44ms/step - loss: 0.0085 - accuracy: 0.7921 - val_loss: 0.0109 - val_accuracy: 0.7621\n",
            "Epoch 20/50\n",
            "6157/6157 [==============================] - 268s 44ms/step - loss: 0.0084 - accuracy: 0.7948 - val_loss: 0.0115 - val_accuracy: 0.7474\n",
            "Epoch 21/50\n",
            "6157/6157 [==============================] - 269s 44ms/step - loss: 0.0082 - accuracy: 0.7949 - val_loss: 0.0112 - val_accuracy: 0.7525\n",
            "Epoch 22/50\n",
            "6157/6157 [==============================] - 266s 43ms/step - loss: 0.0081 - accuracy: 0.7963 - val_loss: 0.0113 - val_accuracy: 0.7457\n",
            "Epoch 23/50\n",
            "6157/6157 [==============================] - 266s 43ms/step - loss: 0.0080 - accuracy: 0.7975 - val_loss: 0.0112 - val_accuracy: 0.7521\n",
            "Epoch 24/50\n",
            "6157/6157 [==============================] - 267s 43ms/step - loss: 0.0079 - accuracy: 0.7982 - val_loss: 0.0115 - val_accuracy: 0.7441\n",
            "Epoch 25/50\n",
            "6157/6157 [==============================] - 267s 43ms/step - loss: 0.0078 - accuracy: 0.8001 - val_loss: 0.0116 - val_accuracy: 0.7363\n",
            "Epoch 26/50\n",
            "6157/6157 [==============================] - 268s 44ms/step - loss: 0.0077 - accuracy: 0.7992 - val_loss: 0.0114 - val_accuracy: 0.7604\n",
            "Epoch 27/50\n",
            "6157/6157 [==============================] - 265s 43ms/step - loss: 0.0076 - accuracy: 0.8007 - val_loss: 0.0124 - val_accuracy: 0.7457\n",
            "Epoch 28/50\n",
            "6157/6157 [==============================] - 266s 43ms/step - loss: 0.0075 - accuracy: 0.8031 - val_loss: 0.0121 - val_accuracy: 0.7418\n",
            "Epoch 29/50\n",
            "6157/6157 [==============================] - 266s 43ms/step - loss: 0.0074 - accuracy: 0.8036 - val_loss: 0.0125 - val_accuracy: 0.7328\n",
            "Epoch 30/50\n",
            "6157/6157 [==============================] - 267s 43ms/step - loss: 0.0074 - accuracy: 0.8050 - val_loss: 0.0118 - val_accuracy: 0.7522\n",
            "Epoch 31/50\n",
            "6157/6157 [==============================] - 269s 44ms/step - loss: 0.0073 - accuracy: 0.8052 - val_loss: 0.0119 - val_accuracy: 0.7527\n",
            "Epoch 32/50\n",
            "6157/6157 [==============================] - 269s 44ms/step - loss: 0.0072 - accuracy: 0.8048 - val_loss: 0.0115 - val_accuracy: 0.7506\n",
            "Epoch 33/50\n",
            "6157/6157 [==============================] - 268s 43ms/step - loss: 0.0071 - accuracy: 0.8067 - val_loss: 0.0116 - val_accuracy: 0.7577\n",
            "Epoch 34/50\n",
            "6157/6157 [==============================] - 268s 43ms/step - loss: 0.0071 - accuracy: 0.8087 - val_loss: 0.0116 - val_accuracy: 0.7565\n",
            "Epoch 35/50\n",
            "6157/6157 [==============================] - 268s 44ms/step - loss: 0.0070 - accuracy: 0.8086 - val_loss: 0.0115 - val_accuracy: 0.7558\n",
            "Epoch 36/50\n",
            "6157/6157 [==============================] - 268s 44ms/step - loss: 0.0069 - accuracy: 0.8101 - val_loss: 0.0116 - val_accuracy: 0.7594\n",
            "Epoch 37/50\n",
            "6157/6157 [==============================] - 268s 44ms/step - loss: 0.0069 - accuracy: 0.8093 - val_loss: 0.0119 - val_accuracy: 0.7563\n",
            "Epoch 38/50\n",
            "6157/6157 [==============================] - 268s 43ms/step - loss: 0.0068 - accuracy: 0.8114 - val_loss: 0.0116 - val_accuracy: 0.7578\n",
            "Epoch 39/50\n",
            "6157/6157 [==============================] - 268s 44ms/step - loss: 0.0067 - accuracy: 0.8120 - val_loss: 0.0116 - val_accuracy: 0.7575\n",
            "Epoch 40/50\n",
            "6157/6157 [==============================] - 269s 44ms/step - loss: 0.0067 - accuracy: 0.8132 - val_loss: 0.0118 - val_accuracy: 0.7513\n",
            "Epoch 41/50\n",
            "6157/6157 [==============================] - 269s 44ms/step - loss: 0.0066 - accuracy: 0.8134 - val_loss: 0.0118 - val_accuracy: 0.7571\n",
            "Epoch 42/50\n",
            "6157/6157 [==============================] - 270s 44ms/step - loss: 0.0066 - accuracy: 0.8149 - val_loss: 0.0120 - val_accuracy: 0.7532\n",
            "Epoch 43/50\n",
            "6157/6157 [==============================] - 269s 44ms/step - loss: 0.0065 - accuracy: 0.8166 - val_loss: 0.0122 - val_accuracy: 0.7510\n",
            "Epoch 44/50\n",
            "6157/6157 [==============================] - 267s 43ms/step - loss: 0.0065 - accuracy: 0.8164 - val_loss: 0.0119 - val_accuracy: 0.7533\n",
            "Epoch 45/50\n",
            "6157/6157 [==============================] - 269s 44ms/step - loss: 0.0064 - accuracy: 0.8165 - val_loss: 0.0122 - val_accuracy: 0.7488\n",
            "Epoch 46/50\n",
            "6157/6157 [==============================] - 267s 43ms/step - loss: 0.0063 - accuracy: 0.8167 - val_loss: 0.0125 - val_accuracy: 0.7412\n",
            "Epoch 47/50\n",
            "6157/6157 [==============================] - 268s 44ms/step - loss: 0.0063 - accuracy: 0.8175 - val_loss: 0.0118 - val_accuracy: 0.7565\n",
            "Epoch 48/50\n",
            "6157/6157 [==============================] - 268s 43ms/step - loss: 0.0063 - accuracy: 0.8187 - val_loss: 0.0120 - val_accuracy: 0.7520\n",
            "Epoch 49/50\n",
            "6157/6157 [==============================] - 267s 43ms/step - loss: 0.0062 - accuracy: 0.8182 - val_loss: 0.0119 - val_accuracy: 0.7565\n",
            "Epoch 50/50\n",
            "6157/6157 [==============================] - 267s 43ms/step - loss: 0.0062 - accuracy: 0.8187 - val_loss: 0.0119 - val_accuracy: 0.7546\n"
          ],
          "name": "stdout"
        },
        {
          "output_type": "execute_result",
          "data": {
            "text/plain": [
              "<tensorflow.python.keras.callbacks.History at 0x7f1c53348450>"
            ]
          },
          "metadata": {
            "tags": []
          },
          "execution_count": 16
        }
      ]
    },
    {
      "cell_type": "code",
      "metadata": {
        "id": "44LsR2E8HiO1"
      },
      "source": [
        "model.save('final_trial.hdf5')"
      ],
      "execution_count": null,
      "outputs": []
    },
    {
      "cell_type": "code",
      "metadata": {
        "id": "-tH3nDzaxgoN"
      },
      "source": [
        "key=model.history.history.keys()\n",
        "values=model.history.history"
      ],
      "execution_count": null,
      "outputs": []
    },
    {
      "cell_type": "code",
      "metadata": {
        "colab": {
          "base_uri": "https://localhost:8080/"
        },
        "id": "hOTXRQIQ4Y58",
        "outputId": "6a9aa5a5-a8a5-4de1-825a-f30ea06946e2"
      },
      "source": [
        "key"
      ],
      "execution_count": null,
      "outputs": [
        {
          "output_type": "execute_result",
          "data": {
            "text/plain": [
              "dict_keys(['loss', 'accuracy', 'val_loss', 'val_accuracy'])"
            ]
          },
          "metadata": {
            "tags": []
          },
          "execution_count": 26
        }
      ]
    },
    {
      "cell_type": "code",
      "metadata": {
        "colab": {
          "base_uri": "https://localhost:8080/",
          "height": 297
        },
        "id": "1Odr8vHv2kZk",
        "outputId": "88832be6-b553-4d35-f271-9c9be80bc811"
      },
      "source": [
        "plt.plot(values['accuracy'])\n",
        "plt.plot(values['val_accuracy'])\n",
        "plt.xlabel('epoch')\n",
        "plt.ylabel('accuracies')\n",
        "plt.legend(['train', 'test'], loc='upper left')"
      ],
      "execution_count": null,
      "outputs": [
        {
          "output_type": "execute_result",
          "data": {
            "text/plain": [
              "<matplotlib.legend.Legend at 0x7f1b9cff8f50>"
            ]
          },
          "metadata": {
            "tags": []
          },
          "execution_count": 29
        },
        {
          "output_type": "display_data",
          "data": {
            "image/png": "[encoded data removed]",
            "text/plain": [
              "<Figure size 432x288 with 1 Axes>"
            ]
          },
          "metadata": {
            "tags": [],
            "needs_background": "light"
          }
        }
      ]
    },
    {
      "cell_type": "code",
      "metadata": {
        "colab": {
          "base_uri": "https://localhost:8080/",
          "height": 296
        },
        "id": "0YtGj_2x4XCw",
        "outputId": "6ad28fc6-6c5f-4cd6-8111-61549924d6c3"
      },
      "source": [
        "plt.plot(values['loss'])\n",
        "plt.plot(values['val_loss'])\n",
        "plt.xlabel('epoch')\n",
        "plt.ylabel('losses')\n",
        "plt.legend(['train', 'test'], loc='upper left')"
      ],
      "execution_count": null,
      "outputs": [
        {
          "output_type": "execute_result",
          "data": {
            "text/plain": [
              "<matplotlib.legend.Legend at 0x7f1b9cebdb90>"
            ]
          },
          "metadata": {
            "tags": []
          },
          "execution_count": 30
        },
        {
          "output_type": "display_data",
          "data": {
            "image/png": "[encoded data removed]",
            "text/plain": [
              "<Figure size 432x288 with 1 Axes>"
            ]
          },
          "metadata": {
            "tags": [],
            "needs_background": "light"
          }
        }
      ]
    },
    {
      "cell_type": "code",
      "metadata": {
        "id": "Kv_xcOLO5BCO"
      },
      "source": [
        ""
      ],
      "execution_count": null,
      "outputs": []
    }
  ]
}