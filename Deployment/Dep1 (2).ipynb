{
  "nbformat": 4,
  "nbformat_minor": 0,
  "metadata": {
    "colab": {
      "name": "Dep1.ipynb",
      "provenance": [],
      "collapsed_sections": []
    },
    "kernelspec": {
      "name": "python3",
      "display_name": "Python 3"
    },
    "language_info": {
      "name": "python"
    }
  },
  "cells": [
    {
      "cell_type": "code",
      "metadata": {
        "colab": {
          "base_uri": "https://localhost:8080/"
        },
        "id": "eKX4aGROZzIO",
        "outputId": "a1f75c33-3c77-4fba-fba3-fd8c083bbd38"
      },
      "source": [
        "!pip install flask-ngrok"
      ],
      "execution_count": 1,
      "outputs": [
        {
          "output_type": "stream",
          "text": [
            "Collecting flask-ngrok\n",
            "  Downloading https://files.pythonhosted.org/packages/af/6c/f54cb686ad1129e27d125d182f90f52b32f284e6c8df58c1bae54fa1adbc/flask_ngrok-0.0.25-py3-none-any.whl\n",
            "Requirement already satisfied: requests in /usr/local/lib/python3.7/dist-packages (from flask-ngrok) (2.23.0)\n",
            "Requirement already satisfied: Flask>=0.8 in /usr/local/lib/python3.7/dist-packages (from flask-ngrok) (1.1.4)\n",
            "Requirement already satisfied: certifi>=2017.4.17 in /usr/local/lib/python3.7/dist-packages (from requests->flask-ngrok) (2020.12.5)\n",
            "Requirement already satisfied: idna<3,>=2.5 in /usr/local/lib/python3.7/dist-packages (from requests->flask-ngrok) (2.10)\n",
            "Requirement already satisfied: urllib3!=1.25.0,!=1.25.1,<1.26,>=1.21.1 in /usr/local/lib/python3.7/dist-packages (from requests->flask-ngrok) (1.24.3)\n",
            "Requirement already satisfied: chardet<4,>=3.0.2 in /usr/local/lib/python3.7/dist-packages (from requests->flask-ngrok) (3.0.4)\n",
            "Requirement already satisfied: Jinja2<3.0,>=2.10.1 in /usr/local/lib/python3.7/dist-packages (from Flask>=0.8->flask-ngrok) (2.11.3)\n",
            "Requirement already satisfied: itsdangerous<2.0,>=0.24 in /usr/local/lib/python3.7/dist-packages (from Flask>=0.8->flask-ngrok) (1.1.0)\n",
            "Requirement already satisfied: Werkzeug<2.0,>=0.15 in /usr/local/lib/python3.7/dist-packages (from Flask>=0.8->flask-ngrok) (1.0.1)\n",
            "Requirement already satisfied: click<8.0,>=5.1 in /usr/local/lib/python3.7/dist-packages (from Flask>=0.8->flask-ngrok) (7.1.2)\n",
            "Requirement already satisfied: MarkupSafe>=0.23 in /usr/local/lib/python3.7/dist-packages (from Jinja2<3.0,>=2.10.1->Flask>=0.8->flask-ngrok) (2.0.1)\n",
            "Installing collected packages: flask-ngrok\n",
            "Successfully installed flask-ngrok-0.0.25\n"
          ],
          "name": "stdout"
        }
      ]
    },
    {
      "cell_type": "code",
      "metadata": {
        "id": "A_es5EVoZ455"
      },
      "source": [
        "import numpy as np\n",
        "import pandas as pd\n",
        "import matplotlib.pyplot as plt\n",
        "import PIL\n",
        "from PIL import Image,ImageFilter\n",
        "import cv2\n",
        "import keras\n",
        "from keras.models import Sequential, Model\n",
        "from keras.layers.core import Flatten, Dense, Dropout, Lambda, Reshape\n",
        "from keras.layers import Input\n",
        "from keras.layers.convolutional import Convolution2D, MaxPooling2D, ZeroPadding2D\n",
        "from keras.layers import Conv2D, MaxPooling2D, Activation\n",
        "from keras.optimizers import Adam\n",
        "import sys\n",
        "import os \n",
        "import re\n",
        "import io\n",
        "import base64\n",
        "import glob\n",
        "from flask import Flask, redirect, url_for, request, render_template\n",
        "from flask_ngrok import run_with_ngrok"
      ],
      "execution_count": 2,
      "outputs": []
    },
    {
      "cell_type": "code",
      "metadata": {
        "colab": {
          "base_uri": "https://localhost:8080/"
        },
        "id": "knz2w492gOYN",
        "outputId": "7f462bc8-3e2f-47ea-80b9-b4e9400a1a8c"
      },
      "source": [
        "from google.colab import drive\n",
        "\n",
        "drive.mount('/content/gdrive')"
      ],
      "execution_count": 3,
      "outputs": [
        {
          "output_type": "stream",
          "text": [
            "Mounted at /content/gdrive\n"
          ],
          "name": "stdout"
        }
      ]
    },
    {
      "cell_type": "code",
      "metadata": {
        "id": "QMe2AUlCn3jf"
      },
      "source": [
        "def preprocessing(imagepath):\n",
        "  img=Image.open(imagepath)\n",
        "  resized=img.resize((224,224))\n",
        "  medfil=resized.filter(ImageFilter.MedianFilter(size = 3)) \n",
        "  open_cv_image = np.array(medfil) \n",
        "  # Convert RGB to BGR \n",
        "  open_cv_image = open_cv_image[:, :, ::-1].copy() \n",
        "  ycb=cv2.cvtColor(open_cv_image,cv2.COLOR_BGR2LAB) # Converting RGB to LAB colorscale\n",
        "  imgs=cv2.split(ycb)  # Splitting Channels of LAB Colorscale.\n",
        "  clahe=cv2.createCLAHE(clipLimit=2.0,tileGridSize=(3,3)) # Creating CLAHE(Clip limit:sets threshhold for contrast limiting.)\n",
        "  # tilegridesize:used for subimages for applying clahe.\n",
        "  imgs[0]= clahe.apply(imgs[0]) # Applying Clahe on luminescence channel\n",
        "  labimg=cv2.merge(imgs)   # Merging channels of LAB.\n",
        "  labimg=cv2.cvtColor(labimg,cv2.COLOR_LAB2BGR) # Converting back LAB to RGB color scale in BGR format\n",
        "  RGBimage = labimg[...,::-1] #BGR to RGB\n",
        "  return RGBimage"
      ],
      "execution_count": 4,
      "outputs": []
    },
    {
      "cell_type": "code",
      "metadata": {
        "id": "7tbfgbffn4TC"
      },
      "source": [
        "from keras.preprocessing.image import load_img\n",
        "from keras.preprocessing.image import img_to_array\n",
        "\n",
        "def prediction(imge):\n",
        "  img_array = img_to_array(imge)\n",
        "  img_batch = np.expand_dims(img_array, axis=0)\n",
        "  predictarray=model.predict(img_batch)\n",
        "  return predictarray"
      ],
      "execution_count": 5,
      "outputs": []
    },
    {
      "cell_type": "code",
      "metadata": {
        "id": "2e3Jm-mKoCbm"
      },
      "source": [
        "classes = ['Class1.1', 'Class1.2', 'Class1.3', 'Class2.1', 'Class2.2', 'Class3.1','Class3.2', 'Class4.1', 'Class4.2', 'Class5.1', 'Class5.2', 'Class5.3','Class5.4', 'Class6.1', 'Class6.2', 'Class7.1', 'Class7.2', 'Class7.3','Class8.1', 'Class8.2', 'Class8.3', 'Class8.4', 'Class8.5', 'Class8.6', 'Class8.7', 'Class9.1', 'Class9.2', 'Class9.3', 'Class10.1', 'Class10.2', 'Class10.3', 'Class11.1', 'Class11.2', 'Class11.3', 'Class11.4', 'Class11.5', 'Class11.6'\n",
        "]"
      ],
      "execution_count": 6,
      "outputs": []
    },
    {
      "cell_type": "code",
      "metadata": {
        "id": "hfQmNY_XoChv"
      },
      "source": [
        "def class7(predictdf):\n",
        "  if ((predictdf['Class7.1']>predictdf['Class7.2']) & (predictdf['Class7.1']>predictdf['Class7.3'])).any():\n",
        "    s4='The Galaxy Is Completely Round'\n",
        "    features.append(s4)\n",
        "    class6(predictdf)\n",
        "  elif ((predictdf['Class7.2']>predictdf['Class7.1']) & (predictdf['Class7.2']>predictdf['Class7.3'])).any():\n",
        "    s5='The Galaxy Is Neither Completely Round Nor Cigar Shaped (In Between)'\n",
        "    features.append(s5)\n",
        "    class6(predictdf)\n",
        "  elif ((predictdf['Class7.3']>predictdf['Class7.1']) & (predictdf['Class7.3']>predictdf['Class7.2'])).any():\n",
        "    s6='The Galaxy Is Cigar Shaped'\n",
        "    features.append(s6)\n",
        "    class6(predictdf)\n",
        "\n",
        "def class6(predictdf):\n",
        "  if (predictdf['Class6.1']>predictdf['Class6.2']).any():\n",
        "    class8(predictdf)\n",
        "  elif (predictdf['Class6.2']>predictdf['Class6.1']).any():\n",
        "    s7='The Galaxy Has No Odd Feature'\n",
        "    features.append(s7)\n",
        "def class8(predictdf):\n",
        "  if ((predictdf['Class8.1']>predictdf['Class8.2']) & (predictdf['Class8.1']>predictdf['Class8.3']) & (predictdf['Class8.1']>predictdf['Class8.4']) & (predictdf['Class8.1']>predictdf['Class8.5']) & (predictdf['Class8.1']>predictdf['Class8.6']) & (predictdf['Class8.1']>predictdf['Class8.7'])).any():\n",
        "    s8='Odd Feature - Ring'\n",
        "    features.append(s8)\n",
        "  elif ((predictdf['Class8.2']>predictdf['Class8.1']) & (predictdf['Class8.2']>predictdf['Class8.3']) & (predictdf['Class8.2']>predictdf['Class8.4']) & (predictdf['Class8.2']>predictdf['Class8.5']) & (predictdf['Class8.2']>predictdf['Class8.6']) & (predictdf['Class8.2']>predictdf['Class8.7'])).any():\n",
        "    s9='Odd Feature - Lens Or Arc'\n",
        "    features.append(s9)\n",
        "  elif ((predictdf['Class8.3']>predictdf['Class8.1']) & (predictdf['Class8.3']>predictdf['Class8.2']) & (predictdf['Class8.3']>predictdf['Class8.4']) & (predictdf['Class8.3']>predictdf['Class8.5']) & (predictdf['Class8.3']>predictdf['Class8.6']) & (predictdf['Class8.3']>predictdf['Class8.7'])).any():\n",
        "    s10='Odd Feature - Disturbed'\n",
        "    features.append(s10)\n",
        "  elif ((predictdf['Class8.4']>predictdf['Class8.1']) & (predictdf['Class8.4']>predictdf['Class8.2']) & (predictdf['Class8.4']>predictdf['Class8.3']) & (predictdf['Class8.4']>predictdf['Class8.5']) & (predictdf['Class8.4']>predictdf['Class8.6']) & (predictdf['Class8.4']>predictdf['Class8.7'])).any():\n",
        "    s11='Odd Feature - Irregular'\n",
        "    features.append(s11)\n",
        "  elif ((predictdf['Class8.5']>predictdf['Class8.1']) & (predictdf['Class8.5']>predictdf['Class8.2']) & (predictdf['Class8.5']>predictdf['Class8.3']) & (predictdf['Class8.5']>predictdf['Class8.4']) & (predictdf['Class8.5']>predictdf['Class8.6']) & (predictdf['Class8.5']>predictdf['Class8.7'])).any():\n",
        "    s12='Odd Feature - Other'\n",
        "    features.append(s12)\n",
        "  elif ((predictdf['Class8.6']>predictdf['Class8.1']) & (predictdf['Class8.6']>predictdf['Class8.2']) & (predictdf['Class8.6']>predictdf['Class8.3']) & (predictdf['Class8.6']>predictdf['Class8.4']) & (predictdf['Class8.6']>predictdf['Class8.5']) & (predictdf['Class8.6']>predictdf['Class8.7'])).any():\n",
        "    s13='Odd Feature - Merger'\n",
        "    features.append(s13)\n",
        "  elif ((predictdf['Class8.7']>predictdf['Class8.1']) & (predictdf['Class8.7']>predictdf['Class8.2']) & (predictdf['Class8.7']>predictdf['Class8.3']) & (predictdf['Class8.7']>predictdf['Class8.4']) & (predictdf['Class8.7']>predictdf['Class8.5']) & (predictdf['Class8.7']>predictdf['Class8.6'])).any():\n",
        "    s14='Odd Feature - Dust Lane'\n",
        "    features.append(s14)\n",
        "\n",
        "def class2(predictdf):\n",
        "  if (predictdf['Class2.1']>predictdf['Class2.2']).any():\n",
        "    s15='The Disk Can Be Viewed Edge-on'\n",
        "    features.append(s15)\n",
        "    class9(predictdf)\n",
        "  elif (predictdf['Class2.2']>predictdf['Class2.1']).any():\n",
        "    s16='The Disk Cannot Be Viewed Edge-on'\n",
        "    features.append(s16)\n",
        "    class3(predictdf)\n",
        "\n",
        "def class9(predictdf):\n",
        "  if ((predictdf['Class9.1']>predictdf['Class9.2']) & (predictdf['Class9.1']>predictdf['Class9.3'])).any():\n",
        "    s17='The Galaxy Has A Rounded Bulge At Its Centre'\n",
        "    features.append(s17)\n",
        "    class6(predictdf)\n",
        "  elif ((predictdf['Class9.2']>predictdf['Class9.1']) & (predictdf['Class9.2']>predictdf['Class9.3'])).any():\n",
        "    s18='The Galaxy Has A Boxy Bulge At Its Centre'\n",
        "    features.append(s18)\n",
        "    class6(predictdf)\n",
        "  elif ((predictdf['Class9.3']>predictdf['Class9.1']) & (predictdf['Class9.3']>predictdf['Class9.2'])).any():\n",
        "    s19='The Galaxy Has No Bulge At Its Centre '\n",
        "    features.append(s19)\n",
        "    class6(predictdf)\n",
        "  \n",
        "def class3(predictdf):\n",
        "  if (predictdf['Class3.1']>predictdf['Class3.2']).any():\n",
        "    s20='There Is A Sign Of A Bar Feature Through The Centre Of The Galaxy'\n",
        "    features.append(s20)\n",
        "    class4(predictdf)\n",
        "  elif (predictdf['Class3.2']>predictdf['Class3.1']).any():\n",
        "    s21='There Is No Sign Of A Bar Feature Through The Centre Of The Galaxy'\n",
        "    features.append(s21)\n",
        "    class4(predictdf)\n",
        "  \n",
        "def class4(predictdf):\n",
        "  if (predictdf['Class4.1']>predictdf['Class4.2']).any():\n",
        "    s22='There Is A Sign Of A Spiral Arm Pattern'\n",
        "    features.append(s22)\n",
        "    class10(predictdf)\n",
        "  elif (predictdf['Class4.2']>predictdf['Class4.1']).any():\n",
        "    s23='There Is No Sign Of A Spiral Arm Pattern'\n",
        "    features.append(s23)\n",
        "    class5(predictdf)\n",
        "\n",
        "def class10(predictdf):\n",
        "  if ((predictdf['Class10.1']>predictdf['Class10.2']) & (predictdf['Class10.1']>predictdf['Class10.3'])).any():\n",
        "    s24='The Spiral Arms Appear To Be Tightly Wound'\n",
        "    features.append(s24)\n",
        "    class11(predictdf)\n",
        "  elif ((predictdf['Class10.2']>predictdf['Class10.1']) & (predictdf['Class10.2']>predictdf['Class10.3'])).any():\n",
        "    s25='The Spiral Arms Appear To Be Neither Tightly Nor Loosely Wound (Medium)'\n",
        "    features.append(s25)\n",
        "    class11(predictdf)\n",
        "  elif ((predictdf['Class10.3']>predictdf['Class10.1']) & (predictdf['Class10.3']>predictdf['Class10.2'])).any():\n",
        "    s26='The Spiral Arms Appear To Be Loosely Wound'\n",
        "    features.append(s26)\n",
        "    class11(predictdf)\n",
        "\n",
        "def class5(predictdf):\n",
        "  if ((predictdf['Class5.1']>predictdf['Class5.2']) & (predictdf['Class5.1']>predictdf['Class5.3']) & (predictdf['Class5.1']>predictdf['Class5.4'])).any():\n",
        "    s27='The Galaxy Has No Central Bulge'\n",
        "    features.append(s27)\n",
        "    class6(predictdf)\n",
        "  elif ((predictdf['Class5.2']>predictdf['Class5.1']) & (predictdf['Class5.2']>predictdf['Class5.3']) & (predictdf['Class5.2']>predictdf['Class5.4'])).any():\n",
        "    s28='The Galaxy Has A Central Bulge That Is Just Noticeable'\n",
        "    features.append(s28)\n",
        "    class6(predictdf)\n",
        "  elif ((predictdf['Class5.3']>predictdf['Class5.1']) & (predictdf['Class5.3']>predictdf['Class5.2']) & (predictdf['Class5.3']>predictdf['Class5.4'])).any():\n",
        "    s29='The Galaxy Has An Obvious Central Bulge'\n",
        "    features.append(s29)\n",
        "    class6(predictdf)\n",
        "  elif ((predictdf['Class5.4']>predictdf['Class5.1']) & (predictdf['Class5.4']>predictdf['Class5.2']) & (predictdf['Class5.4']>predictdf['Class5.3'])).any():\n",
        "    s30='The Galaxy Has A Dominant Central Bulge'\n",
        "    features.append(s30)\n",
        "    class6(predictdf)\n",
        "\n",
        "def class11(predictdf):\n",
        "  if ((predictdf['Class11.1']>predictdf['Class11.2']) & (predictdf['Class11.1']>predictdf['Class11.3']) & (predictdf['Class11.1']>predictdf['Class11.4']) & (predictdf['Class11.1']>predictdf['Class11.5']) & (predictdf['Class11.1']>predictdf['Class11.6'])).any():\n",
        "    s31='The Galaxy Has 1 Spiral Arm'\n",
        "    features.append(s31)\n",
        "  elif ((predictdf['Class11.2']>predictdf['Class11.1']) & (predictdf['Class11.2']>predictdf['Class11.3']) & (predictdf['Class11.2']>predictdf['Class11.4']) & (predictdf['Class11.2']>predictdf['Class11.5']) & (predictdf['Class11.2']>predictdf['Class11.6'])).any():\n",
        "    s32='The Galaxy Has 2 Spiral Arms'\n",
        "    features.append(s32)\n",
        "  elif ((predictdf['Class11.3']>predictdf['Class11.1']) & (predictdf['Class11.3']>predictdf['Class11.2']) & (predictdf['Class11.3']>predictdf['Class11.4']) & (predictdf['Class11.3']>predictdf['Class11.5']) & (predictdf['Class11.3']>predictdf['Class11.6'])).any():\n",
        "    s33='The Galaxy Has 3 Spiral Arms'\n",
        "    features.append(s33)\n",
        "  elif ((predictdf['Class11.4']>predictdf['Class11.1']) & (predictdf['Class11.4']>predictdf['Class11.2']) & (predictdf['Class11.4']>predictdf['Class11.3']) & (predictdf['Class11.4']>predictdf['Class11.5']) & (predictdf['Class11.4']>predictdf['Class11.6'])).any():\n",
        "    s34='The Galaxy Has 4 Spiral Arms'\n",
        "    features.append(s34)\n",
        "  elif ((predictdf['Class11.5']>predictdf['Class11.1']) & (predictdf['Class11.5']>predictdf['Class11.2']) & (predictdf['Class11.5']>predictdf['Class11.3']) & (predictdf['Class11.5']>predictdf['Class11.4']) & (predictdf['Class11.5']>predictdf['Class11.6'])).any():\n",
        "    s35='The Galaxy Has More Than 4 Spiral Arms'\n",
        "    features.append(s35)\n",
        "  elif ((predictdf['Class11.6']>predictdf['Class11.1']) & (predictdf['Class11.6']>predictdf['Class11.2']) & (predictdf['Class11.6']>predictdf['Class11.3']) & (predictdf['Class11.6']>predictdf['Class11.4']) & (predictdf['Class11.6']>predictdf['Class11.5'])).any():\n",
        "    s36='The Number Of Spiral Arms That The Galaxy Has Is Indeterminable'\n",
        "    features.append(s36)\n",
        "  \n",
        "def getfeatures(predictdf):\n",
        "  print(\"The predicted features of the image are - \\n\")\n",
        "  if ((predictdf['Class1.1']>predictdf['Class1.2']) & (predictdf['Class1.1']>predictdf['Class1.3'])).any():\n",
        "    s1='The Galaxy Is Smooth'\n",
        "    features.append(s1)\n",
        "    class7(predictdf)\n",
        "  elif ((predictdf['Class1.2']>predictdf['Class1.1']) & (predictdf['Class1.2']>predictdf['Class1.3'])).any():\n",
        "    s2='The Galaxy Has Features/Disk'\n",
        "    features.append(s2)\n",
        "    class2(predictdf)\n",
        "  elif ((predictdf['Class1.3']>predictdf['Class1.1']) & (predictdf['Class1.3']>predictdf['Class1.2'])).any():\n",
        "    s3='The Image Is Of A Star/Artifact'\n",
        "    features.append(s3)"
      ],
      "execution_count": 7,
      "outputs": []
    },
    {
      "cell_type": "code",
      "metadata": {
        "colab": {
          "base_uri": "https://localhost:8080/"
        },
        "id": "bzCAhwiInNEa",
        "outputId": "9fcb9d3c-cfcd-43bf-be0a-0b50d8fb7535"
      },
      "source": [
        "def ConvLayers(layers, model, filters):\n",
        "  for i in range(layers):\n",
        "    model.add(ZeroPadding2D((1,1)))\n",
        "    model.add(Convolution2D(filters, 3,3,activation='relu'))\n",
        "  model.add(MaxPooling2D((2,2),strides=(1,1),padding=\"same\"))\n",
        "def FCLayers(model):\n",
        "  model.add(Dense(4096, activation='relu'))\n",
        "  model.add(Dropout(0.5))\n",
        "def VGG16_arc():\n",
        "  model=Sequential()\n",
        "  ConvLayers(2,model,64)\n",
        "  ConvLayers(2,model,128)\n",
        "  ConvLayers(3,model,256)\n",
        "  ConvLayers(3,model,512)\n",
        "  ConvLayers(3,model,512)\n",
        "  model.add(Flatten())\n",
        "  FCLayers(model)\n",
        "  FCLayers(model)\n",
        "  model.add(Dense(37,activation='sigmoid'))\n",
        "  #model.add(Dense(3,activation='softmax'))\n",
        "  return model\n",
        "\n",
        "\n",
        "#Model compilation\n",
        "optimizer = Adam(lr=0.001, decay=5e-4)\n",
        "model = VGG16_arc()\n",
        "model.compile(loss='mean_squared_error', optimizer=optimizer, metrics=['accuracy'])\n",
        "\n",
        "model.build(input_shape=(None,224,224,3))\n",
        "\n",
        "model.load_weights('/content/gdrive/MyDrive/thirdrunweights.hdf5')"
      ],
      "execution_count": 8,
      "outputs": [
        {
          "output_type": "stream",
          "text": [
            "/usr/local/lib/python3.7/dist-packages/tensorflow/python/keras/optimizer_v2/optimizer_v2.py:375: UserWarning: The `lr` argument is deprecated, use `learning_rate` instead.\n",
            "  \"The `lr` argument is deprecated, use `learning_rate` instead.\")\n"
          ],
          "name": "stderr"
        }
      ]
    },
    {
      "cell_type": "code",
      "metadata": {
        "id": "-j9EtA2YXFZz"
      },
      "source": [
        ""
      ],
      "execution_count": 8,
      "outputs": []
    },
    {
      "cell_type": "code",
      "metadata": {
        "colab": {
          "base_uri": "https://localhost:8080/"
        },
        "id": "vIE8s0FllYKf",
        "outputId": "fa2f3e33-697b-4720-dab7-02c6fc676dae"
      },
      "source": [
        "app=Flask(__name__,template_folder=\"/content/gdrive/MyDrive/Colab_Notebooks/app/templates\")\n",
        "run_with_ngrok(app)\n",
        "@app.route(\"/\")\n",
        "def home():\n",
        "\treturn render_template(\"index.html\")\n",
        "@app.route(\"/upload\", methods=[\"GET\",\"POST\"])\n",
        "def upload():\n",
        "  img = request.files['file']\n",
        "  ird = img.read()\n",
        "  finalimage=preprocessing(img)\n",
        "  predictarray=prediction(finalimage)\n",
        "  predictdf = pd.DataFrame(data = predictarray,columns = classes)\n",
        "  global features\n",
        "  features=[]\n",
        "  getfeatures(predictdf)\n",
        "  im = Image.open(img)\n",
        "  data = io.BytesIO()\n",
        "  im.save(data, \"JPEG\")\n",
        "  encoded_img_data = base64.b64encode(data.getvalue())\n",
        "  return render_template(\"pred.html\",value=encoded_img_data.decode('utf-8'),length=len(features),output=features)\n",
        "if __name__ == \"__main__\":\n",
        "\tapp.run()"
      ],
      "execution_count": 14,
      "outputs": [
        {
          "output_type": "stream",
          "text": [
            " * Serving Flask app \"__main__\" (lazy loading)\n",
            " * Environment: production\n",
            "\u001b[31m   WARNING: This is a development server. Do not use it in a production deployment.\u001b[0m\n",
            "\u001b[2m   Use a production WSGI server instead.\u001b[0m\n",
            " * Debug mode: off\n"
          ],
          "name": "stdout"
        },
        {
          "output_type": "stream",
          "text": [
            " * Running on http://127.0.0.1:5000/ (Press CTRL+C to quit)\n"
          ],
          "name": "stderr"
        },
        {
          "output_type": "stream",
          "text": [
            " * Running on http://3918862569e2.ngrok.io\n",
            " * Traffic stats available on http://127.0.0.1:4040\n"
          ],
          "name": "stdout"
        },
        {
          "output_type": "stream",
          "text": [
            "127.0.0.1 - - [10/Jun/2021 07:44:35] \"\u001b[37mGET / HTTP/1.1\u001b[0m\" 200 -\n",
            "127.0.0.1 - - [10/Jun/2021 07:44:36] \"\u001b[33mGET /css/styles.css?v=1.0 HTTP/1.1\u001b[0m\" 404 -\n",
            "127.0.0.1 - - [10/Jun/2021 07:44:36] \"\u001b[33mGET /js/scripts.js HTTP/1.1\u001b[0m\" 404 -\n",
            "127.0.0.1 - - [10/Jun/2021 07:44:36] \"\u001b[33mGET /favicon.ico HTTP/1.1\u001b[0m\" 404 -\n",
            "127.0.0.1 - - [10/Jun/2021 07:44:41] \"\u001b[37mGET / HTTP/1.1\u001b[0m\" 200 -\n",
            "127.0.0.1 - - [10/Jun/2021 07:44:44] \"\u001b[33mGET /css/styles.css?v=1.0 HTTP/1.1\u001b[0m\" 404 -\n",
            "127.0.0.1 - - [10/Jun/2021 07:44:44] \"\u001b[33mGET /js/scripts.js HTTP/1.1\u001b[0m\" 404 -\n",
            "127.0.0.1 - - [10/Jun/2021 07:45:27] \"\u001b[37mPOST /upload HTTP/1.1\u001b[0m\" 200 -\n"
          ],
          "name": "stderr"
        },
        {
          "output_type": "stream",
          "text": [
            "The predicted features of the image are - \n",
            "\n"
          ],
          "name": "stdout"
        },
        {
          "output_type": "stream",
          "text": [
            "127.0.0.1 - - [10/Jun/2021 07:45:28] \"\u001b[33mGET /css/styles.css?v=1.0 HTTP/1.1\u001b[0m\" 404 -\n",
            "127.0.0.1 - - [10/Jun/2021 07:45:28] \"\u001b[33mGET /js/scripts.js HTTP/1.1\u001b[0m\" 404 -\n",
            "127.0.0.1 - - [10/Jun/2021 07:45:29] \"\u001b[31m\u001b[1mGET /upload HTTP/1.1\u001b[0m\" 400 -\n",
            "127.0.0.1 - - [10/Jun/2021 07:48:12] \"\u001b[37mPOST /upload HTTP/1.1\u001b[0m\" 200 -\n"
          ],
          "name": "stderr"
        },
        {
          "output_type": "stream",
          "text": [
            "The predicted features of the image are - \n",
            "\n"
          ],
          "name": "stdout"
        },
        {
          "output_type": "stream",
          "text": [
            "127.0.0.1 - - [10/Jun/2021 07:48:12] \"\u001b[33mGET /css/styles.css?v=1.0 HTTP/1.1\u001b[0m\" 404 -\n",
            "127.0.0.1 - - [10/Jun/2021 07:48:12] \"\u001b[33mGET /js/scripts.js HTTP/1.1\u001b[0m\" 404 -\n"
          ],
          "name": "stderr"
        }
      ]
    },
    {
      "cell_type": "code",
      "metadata": {
        "id": "gO7O49dlsqEk",
        "colab": {
          "base_uri": "https://localhost:8080/"
        },
        "outputId": "022ca00c-4861-4dc9-c1c6-c23b5b6438ed"
      },
      "source": [
        "pip install gunicorn"
      ],
      "execution_count": 15,
      "outputs": [
        {
          "output_type": "stream",
          "text": [
            "Collecting gunicorn\n",
            "\u001b[?25l  Downloading https://files.pythonhosted.org/packages/e4/dd/5b190393e6066286773a67dfcc2f9492058e9b57c4867a95f1ba5caf0a83/gunicorn-20.1.0-py3-none-any.whl (79kB)\n",
            "\r\u001b[K     |████▏                           | 10kB 16.6MB/s eta 0:00:01\r\u001b[K     |████████▎                       | 20kB 8.1MB/s eta 0:00:01\r\u001b[K     |████████████▍                   | 30kB 5.2MB/s eta 0:00:01\r\u001b[K     |████████████████▌               | 40kB 4.8MB/s eta 0:00:01\r\u001b[K     |████████████████████▋           | 51kB 2.9MB/s eta 0:00:01\r\u001b[K     |████████████████████████▊       | 61kB 3.4MB/s eta 0:00:01\r\u001b[K     |████████████████████████████▉   | 71kB 3.5MB/s eta 0:00:01\r\u001b[K     |████████████████████████████████| 81kB 2.8MB/s \n",
            "\u001b[?25hRequirement already satisfied: setuptools>=3.0 in /usr/local/lib/python3.7/dist-packages (from gunicorn) (57.0.0)\n",
            "Installing collected packages: gunicorn\n",
            "Successfully installed gunicorn-20.1.0\n"
          ],
          "name": "stdout"
        }
      ]
    },
    {
      "cell_type": "code",
      "metadata": {
        "id": "jlkRTQMgsDOZ"
      },
      "source": [
        "pip freeze > requirements.txt"
      ],
      "execution_count": 18,
      "outputs": []
    },
    {
      "cell_type": "code",
      "metadata": {
        "colab": {
          "base_uri": "https://localhost:8080/"
        },
        "id": "Se3gdfELsH31",
        "outputId": "5d65a2ce-b5d4-4e4f-8739-71f7a1c85ce6"
      },
      "source": [
        "pip install --upgrade pip"
      ],
      "execution_count": 19,
      "outputs": [
        {
          "output_type": "stream",
          "text": [
            "Collecting pip\n",
            "\u001b[?25l  Downloading https://files.pythonhosted.org/packages/cd/82/04e9aaf603fdbaecb4323b9e723f13c92c245f6ab2902195c53987848c78/pip-21.1.2-py3-none-any.whl (1.5MB)\n",
            "\u001b[K     |████████████████████████████████| 1.6MB 2.9MB/s \n",
            "\u001b[?25hInstalling collected packages: pip\n",
            "  Found existing installation: pip 19.3.1\n",
            "    Uninstalling pip-19.3.1:\n",
            "      Successfully uninstalled pip-19.3.1\n",
            "Successfully installed pip-21.1.2\n"
          ],
          "name": "stdout"
        }
      ]
    },
    {
      "cell_type": "code",
      "metadata": {
        "colab": {
          "base_uri": "https://localhost:8080/"
        },
        "id": "-VuiFlLZAKtd",
        "outputId": "5f9d9663-4b06-4372-927b-3ab774a45e72"
      },
      "source": [
        "pip install skbuild"
      ],
      "execution_count": 22,
      "outputs": [
        {
          "output_type": "stream",
          "text": [
            "\u001b[31mERROR: Could not find a version that satisfies the requirement skbuild (from versions: none)\u001b[0m\n",
            "\u001b[31mERROR: No matching distribution found for skbuild\u001b[0m\n"
          ],
          "name": "stdout"
        }
      ]
    },
    {
      "cell_type": "code",
      "metadata": {
        "id": "SfUwTUl3AQ47"
      },
      "source": [
        ""
      ],
      "execution_count": null,
      "outputs": []
    }
  ]
}