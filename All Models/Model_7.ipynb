{
  "nbformat": 4,
  "nbformat_minor": 0,
  "metadata": {
    "colab": {
      "name": "Model_7.ipynb",
      "provenance": [],
      "collapsed_sections": [],
      "machine_shape": "hm",
      "include_colab_link": true
    },
    "kernelspec": {
      "display_name": "Python 3",
      "name": "python3"
    },
    "language_info": {
      "name": "python"
    },
    "accelerator": "GPU"
  },
  "cells": [
    {
      "cell_type": "markdown",
      "metadata": {
        "id": "view-in-github",
        "colab_type": "text"
      },
      "source": [
        "<a href=\"https://colab.research.google.com/github/AishwaryaKaranth/final-year-project/blob/master/All%20Models/Model_7.ipynb\" target=\"_parent\"><img src=\"https://colab.research.google.com/assets/colab-badge.svg\" alt=\"Open In Colab\"/></a>"
      ]
    },
    {
      "cell_type": "code",
      "metadata": {
        "colab": {
          "base_uri": "https://localhost:8080/"
        },
        "id": "3zn0KG0cdZtU",
        "outputId": "4710d1b3-2213-4391-aa56-9b9e85535f6a"
      },
      "source": [
        "from google.colab import drive\n",
        "drive.mount('/content/drive')"
      ],
      "execution_count": null,
      "outputs": [
        {
          "output_type": "stream",
          "text": [
            "Mounted at /content/drive\n"
          ],
          "name": "stdout"
        }
      ]
    },
    {
      "cell_type": "code",
      "metadata": {
        "id": "r_1sMCsPasi5"
      },
      "source": [
        "!unzip -o '/content/drive/MyDrive/he1 (1).zip'"
      ],
      "execution_count": null,
      "outputs": []
    },
    {
      "cell_type": "markdown",
      "metadata": {
        "id": "OAyl8KH64Jrx"
      },
      "source": [
        "# Libraries"
      ]
    },
    {
      "cell_type": "code",
      "metadata": {
        "id": "QD8t6-1-nAxB"
      },
      "source": [
        "import keras\n",
        "from keras.models import Sequential, Model\n",
        "from keras.layers.core import Flatten, Dense, Dropout, Lambda, Reshape\n",
        "from keras.callbacks import EarlyStopping\n",
        "from keras.layers import Input\n",
        "from keras_preprocessing.image import ImageDataGenerator\n",
        "from keras.models import load_model\n",
        "from keras.layers.convolutional import Convolution2D, MaxPooling2D, ZeroPadding2D\n",
        "from keras.layers import Conv2D, MaxPooling2D, Activation\n",
        "from keras.optimizers import RMSprop,Adam,schedules\n",
        "from keras.applications.vgg16 import VGG16, preprocess_input\n",
        "from keras.preprocessing.image import load_img,img_to_array\n",
        "from keras.models import Model\n",
        "import matplotlib.pyplot as plt\n",
        "import numpy as np\n",
        "import pandas as pd\n",
        "import cv2\n",
        "import os\n",
        "import matplotlib.pyplot as plt\n",
        "%matplotlib inline\n",
        "from sklearn.model_selection import train_test_split"
      ],
      "execution_count": null,
      "outputs": []
    },
    {
      "cell_type": "markdown",
      "metadata": {
        "id": "1BpVba904VkY"
      },
      "source": [
        "# Model architecture"
      ]
    },
    {
      "cell_type": "code",
      "metadata": {
        "id": "FfPWOwAHpCPM"
      },
      "source": [
        "def ConvLayers(layers, model, filters):\n",
        "    for i in range(layers):\n",
        "        model.add(ZeroPadding2D((1,1)))\n",
        "        model.add(Convolution2D(filters, 3,3,activation='relu'))\n",
        "    model.add(MaxPooling2D((2,2),strides=(1,1),padding=\"same\"))"
      ],
      "execution_count": null,
      "outputs": []
    },
    {
      "cell_type": "code",
      "metadata": {
        "id": "-KcY1Rb8pFog"
      },
      "source": [
        "def FCLayers(model):\n",
        "    model.add(Dense(4096, activation='relu'))\n",
        "    model.add(Dropout(0.5))"
      ],
      "execution_count": null,
      "outputs": []
    },
    {
      "cell_type": "code",
      "metadata": {
        "id": "emrBHKoEpGiG"
      },
      "source": [
        "def VGG16_arc():\n",
        "    model=Sequential()\n",
        "    ConvLayers(2,model,64)\n",
        "    ConvLayers(2,model,128)\n",
        "    ConvLayers(3,model,256)\n",
        "    ConvLayers(3,model,512)\n",
        "    ConvLayers(3,model,512)\n",
        "    model.add(Flatten())\n",
        "    FCLayers(model)\n",
        "    FCLayers(model)\n",
        "    model.add(Dense(37,activation='sigmoid'))\n",
        "    #model.add(Dense(3,activation='softmax'))\n",
        "    return model"
      ],
      "execution_count": null,
      "outputs": []
    },
    {
      "cell_type": "code",
      "metadata": {
        "id": "_xP3OxbPpJuQ"
      },
      "source": [
        "#Model compilation\n",
        "# optimizer = RMSprop(lr=1e-4)\n",
        "# scheduler=schedules.ExponentialDecay(initial_learning_rate=1e-2,decay_rate=4e-3,decay_steps=1000)\n",
        "optimizer=Adam(learning_rate=3e-4,decay=1e-4)\n",
        "model = VGG16_arc()\n",
        "model.compile(loss='mean_squared_error', optimizer=optimizer, metrics=['accuracy']) "
      ],
      "execution_count": null,
      "outputs": []
    },
    {
      "cell_type": "code",
      "metadata": {
        "id": "fLx6jkdcpMN9"
      },
      "source": [
        "shuf=pd.read_csv('/content/drive/MyDrive/shuffled.csv')\n",
        "shuf.head()\n",
        "cols=shuf.columns[1:]"
      ],
      "execution_count": null,
      "outputs": []
    },
    {
      "cell_type": "code",
      "metadata": {
        "id": "j1Qq3_imKJva"
      },
      "source": [
        ""
      ],
      "execution_count": null,
      "outputs": []
    },
    {
      "cell_type": "code",
      "metadata": {
        "colab": {
          "base_uri": "https://localhost:8080/"
        },
        "id": "t0MEC1tv0-v3",
        "outputId": "99cf439d-d88d-4eeb-a2ff-e6b2eb730661"
      },
      "source": [
        "shuf['GalaxyID']=shuf['GalaxyID']+'.jpg'\n",
        "shuf['GalaxyID'].head()"
      ],
      "execution_count": null,
      "outputs": [
        {
          "output_type": "execute_result",
          "data": {
            "text/plain": [
              "0    821834resized2rotated_md_he.jpg\n",
              "1    218133resized2rotated_md_he.jpg\n",
              "2    183671resized1rotated_md_he.jpg\n",
              "3    953008resized4rotated_md_he.jpg\n",
              "4    327819resized2rotated_md_he.jpg\n",
              "Name: GalaxyID, dtype: object"
            ]
          },
          "metadata": {
            "tags": []
          },
          "execution_count": 233
        }
      ]
    },
    {
      "cell_type": "code",
      "metadata": {
        "id": "r1gokXD_jdYV"
      },
      "source": [
        "f=cols.values.tolist()"
      ],
      "execution_count": null,
      "outputs": []
    },
    {
      "cell_type": "markdown",
      "metadata": {
        "id": "Nq2gr4A04Zac"
      },
      "source": [
        "# Generator Function"
      ]
    },
    {
      "cell_type": "code",
      "metadata": {
        "colab": {
          "base_uri": "https://localhost:8080/"
        },
        "id": "qqh58HYbTJjX",
        "outputId": "8ab0f477-8646-41fc-96f2-e93af201d4bf"
      },
      "source": [
        "gen=ImageDataGenerator(validation_split=0.2)\n",
        "train_gen=gen.flow_from_dataframe(directory='/content/he1',\n",
        "                                  target_size=(224,224),\n",
        "                                  dataframe=shuf,\n",
        "                                  x_col='GalaxyID',\n",
        "                                  y_col=f,\n",
        "                                  subset='training',\n",
        "                                  batch_size=64,\n",
        "                                  seed=42,\n",
        "                                  class_mode='raw',\n",
        "                                  shuffle=True)\n",
        "\n",
        "valid_gen=gen.flow_from_dataframe(directory='/content/he1',\n",
        "                                  target_size=(224,224),\n",
        "                                  dataframe=shuf,\n",
        "                                  x_col='GalaxyID',\n",
        "                                  y_col=f,\n",
        "                                  subset='validation',\n",
        "                                  batch_size=64,\n",
        "                                  seed=42,\n",
        "                                  class_mode='raw',\n",
        "                                  shuffle=True)\n"
      ],
      "execution_count": null,
      "outputs": [
        {
          "output_type": "stream",
          "text": [
            "Found 197050 validated image filenames.\n",
            "Found 49262 validated image filenames.\n"
          ],
          "name": "stdout"
        }
      ]
    },
    {
      "cell_type": "code",
      "metadata": {
        "id": "Mtj-RRFdpYXh"
      },
      "source": [
        "batch_size=64\n",
        "steps=train_gen.n//batch_size\n",
        "val_steps=valid_gen.n//batch_size"
      ],
      "execution_count": null,
      "outputs": []
    },
    {
      "cell_type": "code",
      "metadata": {
        "colab": {
          "base_uri": "https://localhost:8080/"
        },
        "id": "GhRxF1yVpZyM",
        "outputId": "11dc20c0-1898-4d0e-fca7-68c5b3fb15ed"
      },
      "source": [
        "checkpoint_filepath = 'end_12he.hdf5'\n",
        "cp_callback =keras.callbacks.ModelCheckpoint(\n",
        "    filepath=checkpoint_filepath,\n",
        "    save_weights_only=True,\n",
        "    monitor='val_accuracy',\n",
        "    mode='max',\n",
        "    save_freq='epoch',\n",
        "    save_best_only=True)\n",
        "\n",
        "# model.fit(train_gen,epochs=10,verbose=1,steps_per_epoch=steps,validation_data=valid_gen,validation_steps=val_steps)\n",
        "model.fit(train_gen,epochs=10,verbose=1,batch_size=None,steps_per_epoch=steps,callbacks=[cp_callback],validation_data=valid_gen,validation_steps=val_steps)"
      ],
      "execution_count": null,
      "outputs": [
        {
          "output_type": "stream",
          "text": [
            "Epoch 1/10\n",
            "3078/3078 [==============================] - 392s 127ms/step - loss: 0.0282 - accuracy: 0.6040 - val_loss: 0.0162 - val_accuracy: 0.6805\n",
            "Epoch 2/10\n",
            "3078/3078 [==============================] - 395s 128ms/step - loss: 0.0159 - accuracy: 0.6737 - val_loss: 0.0146 - val_accuracy: 0.6963\n",
            "Epoch 3/10\n",
            "3078/3078 [==============================] - 392s 127ms/step - loss: 0.0146 - accuracy: 0.6930 - val_loss: 0.0132 - val_accuracy: 0.7277\n",
            "Epoch 4/10\n",
            "3078/3078 [==============================] - 380s 123ms/step - loss: 0.0129 - accuracy: 0.7289 - val_loss: 0.0131 - val_accuracy: 0.7331\n",
            "Epoch 5/10\n",
            "3078/3078 [==============================] - 381s 124ms/step - loss: 0.0120 - accuracy: 0.7431 - val_loss: 0.0121 - val_accuracy: 0.7447\n",
            "Epoch 6/10\n",
            "3078/3078 [==============================] - 391s 127ms/step - loss: 0.0114 - accuracy: 0.7528 - val_loss: 0.0115 - val_accuracy: 0.7500\n",
            "Epoch 7/10\n",
            "3078/3078 [==============================] - 386s 126ms/step - loss: 0.0110 - accuracy: 0.7585 - val_loss: 0.0114 - val_accuracy: 0.7498\n",
            "Epoch 8/10\n",
            "3078/3078 [==============================] - 388s 126ms/step - loss: 0.0106 - accuracy: 0.7644 - val_loss: 0.0113 - val_accuracy: 0.7517\n",
            "Epoch 9/10\n",
            "3078/3078 [==============================] - 385s 125ms/step - loss: 0.0104 - accuracy: 0.7672 - val_loss: 0.0112 - val_accuracy: 0.7593\n",
            "Epoch 10/10\n",
            "3078/3078 [==============================] - 387s 126ms/step - loss: 0.0101 - accuracy: 0.7715 - val_loss: 0.0111 - val_accuracy: 0.7594\n"
          ],
          "name": "stdout"
        },
        {
          "output_type": "execute_result",
          "data": {
            "text/plain": [
              "<tensorflow.python.keras.callbacks.History at 0x7f3b82d5e850>"
            ]
          },
          "metadata": {
            "tags": []
          },
          "execution_count": 237
        }
      ]
    },
    {
      "cell_type": "code",
      "metadata": {
        "id": "44LsR2E8HiO1"
      },
      "source": [
        "model.save('final_best.hdf5')"
      ],
      "execution_count": null,
      "outputs": []
    },
    {
      "cell_type": "code",
      "metadata": {
        "id": "-tH3nDzaxgoN"
      },
      "source": [
        "key=model.history.history.keys()\n",
        "values=model.history.history"
      ],
      "execution_count": null,
      "outputs": []
    },
    {
      "cell_type": "code",
      "metadata": {
        "id": "hOTXRQIQ4Y58",
        "colab": {
          "base_uri": "https://localhost:8080/"
        },
        "outputId": "e4df13af-7afb-49fe-c7ee-bcbfe0c163d6"
      },
      "source": [
        "key"
      ],
      "execution_count": null,
      "outputs": [
        {
          "output_type": "execute_result",
          "data": {
            "text/plain": [
              "dict_keys(['loss', 'accuracy', 'val_loss', 'val_accuracy'])"
            ]
          },
          "metadata": {
            "tags": []
          },
          "execution_count": 250
        }
      ]
    },
    {
      "cell_type": "code",
      "metadata": {
        "id": "1Odr8vHv2kZk",
        "colab": {
          "base_uri": "https://localhost:8080/",
          "height": 296
        },
        "outputId": "b5b2688a-c3ac-4946-8b25-d110d10f3638"
      },
      "source": [
        "plt.plot(values['accuracy'])\n",
        "plt.plot(values['val_accuracy'])\n",
        "plt.xlabel('epoch')\n",
        "plt.ylabel('accuracies')\n",
        "plt.legend(['train', 'test'], loc='upper left')"
      ],
      "execution_count": null,
      "outputs": [
        {
          "output_type": "execute_result",
          "data": {
            "text/plain": [
              "<matplotlib.legend.Legend at 0x7f3b85144bd0>"
            ]
          },
          "metadata": {
            "tags": []
          },
          "execution_count": 251
        },
        {
          "output_type": "display_data",
          "data": {
            "image/png": "[encoded data removed]",
            "text/plain": [
              "<Figure size 432x288 with 1 Axes>"
            ]
          },
          "metadata": {
            "tags": [],
            "needs_background": "light"
          }
        }
      ]
    },
    {
      "cell_type": "code",
      "metadata": {
        "id": "0YtGj_2x4XCw",
        "colab": {
          "base_uri": "https://localhost:8080/",
          "height": 296
        },
        "outputId": "82d43080-2be0-4492-aafd-388504037a3c"
      },
      "source": [
        "plt.plot(values['loss'])\n",
        "plt.plot(values['val_loss'])\n",
        "plt.xlabel('epoch')\n",
        "plt.ylabel('losses')\n",
        "plt.legend(['train', 'test'], loc='upper left')"
      ],
      "execution_count": null,
      "outputs": [
        {
          "output_type": "execute_result",
          "data": {
            "text/plain": [
              "<matplotlib.legend.Legend at 0x7f3ae52e0d50>"
            ]
          },
          "metadata": {
            "tags": []
          },
          "execution_count": 252
        },
        {
          "output_type": "display_data",
          "data": {
            "image/png": "[encoded data removed]",
            "text/plain": [
              "<Figure size 432x288 with 1 Axes>"
            ]
          },
          "metadata": {
            "tags": [],
            "needs_background": "light"
          }
        }
      ]
    },
    {
      "cell_type": "code",
      "metadata": {
        "colab": {
          "base_uri": "https://localhost:8080/"
        },
        "id": "RsCBQSc_vlzk",
        "outputId": "571eae1f-c73c-436f-eade-7175efb0937e"
      },
      "source": [
        "import keras.backend as K\n",
        "K.eval(model.optimizer.decay)"
      ],
      "execution_count": null,
      "outputs": [
        {
          "output_type": "execute_result",
          "data": {
            "text/plain": [
              "1e-04"
            ]
          },
          "metadata": {
            "tags": []
          },
          "execution_count": 243
        }
      ]
    },
    {
      "cell_type": "code",
      "metadata": {
        "colab": {
          "base_uri": "https://localhost:8080/"
        },
        "id": "Y-RvHSFZn9cE",
        "outputId": "e5bf0c64-58b6-48fd-cbc3-2b9c6fdce0fb"
      },
      "source": [
        "K.eval(model.optimizer.lr)"
      ],
      "execution_count": null,
      "outputs": [
        {
          "output_type": "execute_result",
          "data": {
            "text/plain": [
              "0.0003"
            ]
          },
          "metadata": {
            "tags": []
          },
          "execution_count": 245
        }
      ]
    },
    {
      "cell_type": "code",
      "metadata": {
        "colab": {
          "base_uri": "https://localhost:8080/"
        },
        "id": "ZCHH0jFkoBcT",
        "outputId": "73c06a18-9698-4655-8ad2-5273e9d5b3cb"
      },
      "source": [
        "K.eval(model.optimizer)"
      ],
      "execution_count": null,
      "outputs": [
        {
          "output_type": "execute_result",
          "data": {
            "text/plain": [
              "<tensorflow.python.keras.optimizer_v2.adam.Adam at 0x7f3afa1e2690>"
            ]
          },
          "metadata": {
            "tags": []
          },
          "execution_count": 246
        }
      ]
    },
    {
      "cell_type": "markdown",
      "metadata": {
        "id": "3fK6UMgKzNwn"
      },
      "source": [
        "# Loading saved model\n"
      ]
    },
    {
      "cell_type": "code",
      "metadata": {
        "id": "HvJzbpse8R7u"
      },
      "source": [
        "model.build(input_shape=(None,224,224,3))"
      ],
      "execution_count": null,
      "outputs": []
    },
    {
      "cell_type": "code",
      "metadata": {
        "colab": {
          "base_uri": "https://localhost:8080/"
        },
        "id": "MxEPy7ic8e0R",
        "outputId": "cc68ed5b-21a6-400d-8311-3a0052619d89"
      },
      "source": [
        "model.evaluate(valid_gen)"
      ],
      "execution_count": null,
      "outputs": [
        {
          "output_type": "stream",
          "text": [
            "770/770 [==============================] - 76s 99ms/step - loss: 0.0111 - accuracy: 0.7593\n"
          ],
          "name": "stdout"
        },
        {
          "output_type": "execute_result",
          "data": {
            "text/plain": [
              "[0.011129741556942463, 0.7592667937278748]"
            ]
          },
          "metadata": {
            "tags": []
          },
          "execution_count": 247
        }
      ]
    }
  ]
}