{
  "nbformat": 4,
  "nbformat_minor": 0,
  "metadata": {
    "colab": {
      "name": "Untitled21.ipynb",
      "provenance": []
    },
    "kernelspec": {
      "display_name": "Python 3",
      "name": "python3"
    },
    "language_info": {
      "name": "python"
    }
  },
  "cells": [
    {
      "cell_type": "code",
      "metadata": {
        "colab": {
          "base_uri": "https://localhost:8080/"
        },
        "id": "iDOeu8qjwtAT",
        "outputId": "ad6463bd-080e-4fb7-b7c8-9fdd8c917730"
      },
      "source": [
        "\n",
        "!pip install flask-ngrok\n"
      ],
      "execution_count": 1,
      "outputs": [
        {
          "output_type": "stream",
          "text": [
            "Requirement already satisfied: flask-ngrok in /usr/local/lib/python3.7/dist-packages (0.0.25)\n",
            "Requirement already satisfied: requests in /usr/local/lib/python3.7/dist-packages (from flask-ngrok) (2.23.0)\n",
            "Requirement already satisfied: Flask>=0.8 in /usr/local/lib/python3.7/dist-packages (from flask-ngrok) (1.1.4)\n",
            "Requirement already satisfied: chardet<4,>=3.0.2 in /usr/local/lib/python3.7/dist-packages (from requests->flask-ngrok) (3.0.4)\n",
            "Requirement already satisfied: idna<3,>=2.5 in /usr/local/lib/python3.7/dist-packages (from requests->flask-ngrok) (2.10)\n",
            "Requirement already satisfied: urllib3!=1.25.0,!=1.25.1,<1.26,>=1.21.1 in /usr/local/lib/python3.7/dist-packages (from requests->flask-ngrok) (1.24.3)\n",
            "Requirement already satisfied: certifi>=2017.4.17 in /usr/local/lib/python3.7/dist-packages (from requests->flask-ngrok) (2020.12.5)\n",
            "Requirement already satisfied: click<8.0,>=5.1 in /usr/local/lib/python3.7/dist-packages (from Flask>=0.8->flask-ngrok) (7.1.2)\n",
            "Requirement already satisfied: itsdangerous<2.0,>=0.24 in /usr/local/lib/python3.7/dist-packages (from Flask>=0.8->flask-ngrok) (1.1.0)\n",
            "Requirement already satisfied: Jinja2<3.0,>=2.10.1 in /usr/local/lib/python3.7/dist-packages (from Flask>=0.8->flask-ngrok) (2.11.3)\n",
            "Requirement already satisfied: Werkzeug<2.0,>=0.15 in /usr/local/lib/python3.7/dist-packages (from Flask>=0.8->flask-ngrok) (1.0.1)\n",
            "Requirement already satisfied: MarkupSafe>=0.23 in /usr/local/lib/python3.7/dist-packages (from Jinja2<3.0,>=2.10.1->Flask>=0.8->flask-ngrok) (2.0.1)\n"
          ],
          "name": "stdout"
        }
      ]
    },
    {
      "cell_type": "code",
      "metadata": {
        "id": "rXWVRfj8wLNA"
      },
      "source": [
        "# run_with_ngrok('/content/drive/MyDrive/final trial 2/app.py')"
      ],
      "execution_count": 2,
      "outputs": []
    },
    {
      "cell_type": "code",
      "metadata": {
        "id": "7SMB2fQv0Zup"
      },
      "source": [
        "from flask import Flask,url_for,render_template,request,redirect\n",
        "from PIL import Image,ImageFilter\n",
        "import io\n",
        "import base64\n",
        "import os\n",
        "from flask_ngrok import run_with_ngrok"
      ],
      "execution_count": 3,
      "outputs": []
    },
    {
      "cell_type": "code",
      "metadata": {
        "id": "ancl7SEzzcY1"
      },
      "source": [
        "# app = Flask(__name__, template_folder='/content/drive/MyDrive/final trial 2/templates')\n",
        "# run_with_ngrok(app) "
      ],
      "execution_count": null,
      "outputs": []
    },
    {
      "cell_type": "code",
      "metadata": {
        "id": "l_ZwZ44g-qew"
      },
      "source": [
        "from flask import Flask,url_for,render_template,request,redirect\n",
        "from PIL import Image,ImageFilter\n",
        "from werkzeug.utils import secure_filename\n",
        "import numpy as np\n",
        "import pandas as pd\n",
        "import cv2\n",
        "from keras.preprocessing.image import load_img\n",
        "from keras.preprocessing.image import img_to_array\n",
        "from keras.models import Sequential, Model\n",
        "from keras.layers.core import Flatten, Dense, Dropout, Lambda, Reshape\n",
        "from keras.layers import Input\n",
        "from keras.layers.convolutional import Convolution2D, MaxPooling2D, ZeroPadding2D\n",
        "from keras.layers import Conv2D, MaxPooling2D, Activation\n",
        "import keras.optimizers\n",
        "from keras.optimizers import Adam\n",
        "output=[]\n",
        "classes = ['Class1.1', 'Class1.2', 'Class1.3', 'Class2.1', 'Class2.2', 'Class3.1','Class3.2', 'Class4.1', 'Class4.2', 'Class5.1', 'Class5.2', 'Class5.3','Class5.4', 'Class6.1', 'Class6.2', 'Class7.1', 'Class7.2', 'Class7.3','Class8.1', 'Class8.2', 'Class8.3', 'Class8.4', 'Class8.5', 'Class8.6', 'Class8.7', 'Class9.1', 'Class9.2', 'Class9.3', 'Class10.1', 'Class10.2', 'Class10.3', 'Class11.1', 'Class11.2', 'Class11.3', 'Class11.4', 'Class11.5', 'Class11.6']    \n",
        "def class7(predictdf):\n",
        "    global output\n",
        "    if ((predictdf['Class7.1']>predictdf['Class7.2']) & (predictdf['Class7.1']>predictdf['Class7.3'])).any():\n",
        "        print('The Galaxy Is Completely Round')\n",
        "        output.append('The Galaxy Is Completely Round\\n')\n",
        "    elif ((predictdf['Class7.2']>predictdf['Class7.1']) & (predictdf['Class7.2']>predictdf['Class7.3'])).any():\n",
        "        print('The Galaxy Is Neither Completely Round Nor Cigar Shaped (In Between)')\n",
        "        output.append('The Galaxy Is Neither Completely Round Nor Cigar Shaped (In Between)\\n')\n",
        "    elif ((predictdf['Class7.3']>predictdf['Class7.1']) & (predictdf['Class7.3']>predictdf['Class7.2'])).any():\n",
        "        print('The Galaxy Is Cigar Shaped')\n",
        "        output.append('The Galaxy Is Cigar Shaped\\n')\n",
        "    class6(predictdf)\n",
        "\n",
        "def class6(predictdf):\n",
        "    global output\n",
        "    if (predictdf['Class6.1']>predictdf['Class6.2']).any():\n",
        "        class8(predictdf)\n",
        "    elif (predictdf['Class6.2']>predictdf['Class6.1']).any():\n",
        "        print('The Galaxy Has No Odd Feature')\n",
        "        output.append('The Galaxy Has No Odd Feature\\n')\n",
        "def class8(predictdf):\n",
        "    global output\n",
        "    if ((predictdf['Class8.1']>predictdf['Class8.2']) & (predictdf['Class8.1']>predictdf['Class8.3']) & (predictdf['Class8.1']>predictdf['Class8.4']) & (predictdf['Class8.1']>predictdf['Class8.5']) & (predictdf['Class8.1']>predictdf['Class8.6']) & (predictdf['Class8.1']>predictdf['Class8.7'])).any():\n",
        "        print('Odd Feature - Ring')\n",
        "        output.append('Odd Feature - Ring\\n')\n",
        "    elif ((predictdf['Class8.2']>predictdf['Class8.1']) & (predictdf['Class8.2']>predictdf['Class8.3']) & (predictdf['Class8.2']>predictdf['Class8.4']) & (predictdf['Class8.2']>predictdf['Class8.5']) & (predictdf['Class8.2']>predictdf['Class8.6']) & (predictdf['Class8.2']>predictdf['Class8.7'])).any():\n",
        "        print('Odd Feature - Lens Or Arc')\n",
        "        output.append('Odd Feature - Lens Or Arc\\n')\n",
        "    elif ((predictdf['Class8.3']>predictdf['Class8.1']) & (predictdf['Class8.3']>predictdf['Class8.2']) & (predictdf['Class8.3']>predictdf['Class8.4']) & (predictdf['Class8.3']>predictdf['Class8.5']) & (predictdf['Class8.3']>predictdf['Class8.6']) & (predictdf['Class8.3']>predictdf['Class8.7'])).any():\n",
        "        print('Odd Feature - Disturbed')\n",
        "        output.append('Odd Feature - Disturbed\\n')\n",
        "    elif ((predictdf['Class8.4']>predictdf['Class8.1']) & (predictdf['Class8.4']>predictdf['Class8.2']) & (predictdf['Class8.4']>predictdf['Class8.3']) & (predictdf['Class8.4']>predictdf['Class8.5']) & (predictdf['Class8.4']>predictdf['Class8.6']) & (predictdf['Class8.4']>predictdf['Class8.7'])).any():\n",
        "        print('Odd Feature - Irregular')\n",
        "        output.append('Odd Feature - Irregular\\n')\n",
        "    elif ((predictdf['Class8.5']>predictdf['Class8.1']) & (predictdf['Class8.5']>predictdf['Class8.2']) & (predictdf['Class8.5']>predictdf['Class8.3']) & (predictdf['Class8.5']>predictdf['Class8.4']) & (predictdf['Class8.5']>predictdf['Class8.6']) & (predictdf['Class8.5']>predictdf['Class8.7'])).any():\n",
        "        print('Odd Feature - Other')\n",
        "        output.append('Odd Feature - Other\\n')\n",
        "    elif ((predictdf['Class8.6']>predictdf['Class8.1']) & (predictdf['Class8.6']>predictdf['Class8.2']) & (predictdf['Class8.6']>predictdf['Class8.3']) & (predictdf['Class8.6']>predictdf['Class8.4']) & (predictdf['Class8.6']>predictdf['Class8.5']) & (predictdf['Class8.6']>predictdf['Class8.7'])).any():\n",
        "        print('Odd Feature - Merger')\n",
        "        output.append('Odd Feature - Merger\\n')\n",
        "    elif ((predictdf['Class8.7']>predictdf['Class8.1']) & (predictdf['Class8.7']>predictdf['Class8.2']) & (predictdf['Class8.7']>predictdf['Class8.3']) & (predictdf['Class8.7']>predictdf['Class8.4']) & (predictdf['Class8.7']>predictdf['Class8.5']) & (predictdf['Class8.7']>predictdf['Class8.6'])).any():\n",
        "        print('Odd Feature - Dust Lane')\n",
        "        output.append('Odd Feature - Dust Lane\\n')\n",
        "\n",
        "def class2(predictdf):\n",
        "    global output\n",
        "    if (predictdf['Class2.1']>predictdf['Class2.2']).any():\n",
        "        print('The Disk Can Be Viewed Edge-on')\n",
        "        output.append('The Disk Can Be Viewed Edge-on\\n')\n",
        "        class9(predictdf)\n",
        "    elif (predictdf['Class2.2']>predictdf['Class2.1']).any():\n",
        "        print('The Disk Cannot Be Viewed Edge-on')\n",
        "        output.append('The Disk Cannot Be Viewed Edge-on\\n')\n",
        "        class3(predictdf)\n",
        "\n",
        "def class9(predictdf):\n",
        "    global output\n",
        "    if ((predictdf['Class9.1']>predictdf['Class9.2']) & (predictdf['Class9.1']>predictdf['Class9.3'])).any():\n",
        "        print('The Galaxy Has A Rounded Bulge At Its Centre')\n",
        "        output.append('The Galaxy Has A Rounded Bulge At Its Centre\\n')\n",
        "    elif ((predictdf['Class9.2']>predictdf['Class9.1']) & (predictdf['Class9.2']>predictdf['Class9.3'])).any():\n",
        "        print('The Galaxy Has A Boxy Bulge At Its Centre')\n",
        "        output.append('The Galaxy Has A Boxy Bulge At Its Centre\\n')\n",
        "    elif ((predictdf['Class9.3']>predictdf['Class9.1']) & (predictdf['Class9.3']>predictdf['Class9.2'])).any():\n",
        "        print('The Galaxy Has No Bulge At Its Centre ')\n",
        "        output.append('The Galaxy Has No Bulge At Its Centre \\n')\n",
        "    class6(predictdf)\n",
        "  \n",
        "def class3(predictdf):\n",
        "    global output\n",
        "    if (predictdf['Class3.1']>predictdf['Class3.2']).any():\n",
        "        print('There Is A Sign Of A Bar Feature Through The Centre Of The Galaxy')\n",
        "        output.append('There Is A Sign Of A Bar Feature Through The Centre Of The Galaxy\\n')\n",
        "    elif (predictdf['Class3.2']>predictdf['Class3.1']).any():\n",
        "        print('There Is No Sign Of A Bar Feature Through The Centre Of The Galaxy')\n",
        "        output.append('There Is No Sign Of A Bar Feature Through The Centre Of The Galaxy\\n')\n",
        "    class4(predictdf)\n",
        "  \n",
        "def class4(predictdf):\n",
        "    global output\n",
        "    if (predictdf['Class4.1']>predictdf['Class4.2']).any():\n",
        "        print('There Is A Sign Of A Spiral Arm Pattern')\n",
        "        output.append('There Is A Sign Of A Spiral Arm Pattern\\n')\n",
        "        class10(predictdf)\n",
        "    elif (predictdf['Class4.2']>predictdf['Class4.1']).any():\n",
        "        print('There Is No Sign Of A Spiral Arm Pattern')\n",
        "        output.append('There Is No Sign Of A Spiral Arm Pattern\\n')\n",
        "        class5(predictdf)\n",
        "\n",
        "def class10(predictdf):\n",
        "    global output\n",
        "    if ((predictdf['Class10.1']>predictdf['Class10.2']) & (predictdf['Class10.1']>predictdf['Class10.3'])).any():\n",
        "        print('The Spiral Arms Appear To Be Tightly Wound')\n",
        "        output.append('The Spiral Arms Appear To Be Tightly Wound\\n')\n",
        "    elif ((predictdf['Class10.2']>predictdf['Class10.1']) & (predictdf['Class10.2']>predictdf['Class10.3'])).any():\n",
        "        print('The Spiral Arms Appear To Be Neither Tightly Nor Loosely Wound (Medium)')\n",
        "        output.append(('The Spiral Arms Appear To Be Neither Tightly Nor Loosely Wound (Medium)'))\n",
        "    elif ((predictdf['Class10.3']>predictdf['Class10.1']) & (predictdf['Class10.3']>predictdf['Class10.2'])).any():\n",
        "        print('The Spiral Arms Appear To Be Loosely Wound')\n",
        "        output.append('The Spiral Arms Appear To Be Loosely Wound\\n')\n",
        "    class11(predictdf)                               \n",
        "\n",
        "def class5(predictdf):\n",
        "    global output\n",
        "    if ((predictdf['Class5.1']>predictdf['Class5.2']) & (predictdf['Class5.1']>predictdf['Class5.3']) & (predictdf['Class5.1']>predictdf['Class5.4'])).any():\n",
        "        print('The Galaxy Has No Central Bulge')\n",
        "        output.append('The Galaxy Has No Central Bulge\\n')\n",
        "    elif ((predictdf['Class5.2']>predictdf['Class5.1']) & (predictdf['Class5.2']>predictdf['Class5.3']) & (predictdf['Class5.2']>predictdf['Class5.4'])).any():\n",
        "        print('The Galaxy Has A Central Bulge That Is Just Noticeable')\n",
        "        output.append('The Galaxy Has A Central Bulge That Is Just Noticeable\\n')\n",
        "    elif ((predictdf['Class5.3']>predictdf['Class5.1']) & (predictdf['Class5.3']>predictdf['Class5.2']) & (predictdf['Class5.3']>predictdf['Class5.4'])).any():\n",
        "        print('The Galaxy Has An Obvious Central Bulge')\n",
        "        output.append('The Galaxy Has An Obvious Central Bulge\\n')\n",
        "    elif ((predictdf['Class5.4']>predictdf['Class5.1']) & (predictdf['Class5.4']>predictdf['Class5.2']) & (predictdf['Class5.4']>predictdf['Class5.3'])).any():\n",
        "        print('The Galaxy Has A Dominant Central Bulge')\n",
        "        output.append('The Galaxy Has A Dominant Central Bulge\\n')\n",
        "    class6(predictdf)\n",
        "def class11(predictdf):\n",
        "    global output\n",
        "    if ((predictdf['Class11.1']>predictdf['Class11.2']) & (predictdf['Class11.1']>predictdf['Class11.3']) & (predictdf['Class11.1']>predictdf['Class11.4']) & (predictdf['Class11.1']>predictdf['Class11.5']) & (predictdf['Class11.1']>predictdf['Class11.6'])).any():\n",
        "        print('The Galaxy Has 1 Spiral Arm')\n",
        "        output.append('The Galaxy Has 1 Spiral Arm\\n')\n",
        "    elif ((predictdf['Class11.2']>predictdf['Class11.1']) & (predictdf['Class11.2']>predictdf['Class11.3']) & (predictdf['Class11.2']>predictdf['Class11.4']) & (predictdf['Class11.2']>predictdf['Class11.5']) & (predictdf['Class11.2']>predictdf['Class11.6'])).any():\n",
        "        print('The Galaxy Has 2 Spiral Arms')\n",
        "        output.append('The Galaxy Has 2 Spiral Arms\\n')\n",
        "    elif ((predictdf['Class11.3']>predictdf['Class11.1']) & (predictdf['Class11.3']>predictdf['Class11.2']) & (predictdf['Class11.3']>predictdf['Class11.4']) & (predictdf['Class11.3']>predictdf['Class11.5']) & (predictdf['Class11.3']>predictdf['Class11.6'])).any():\n",
        "        print('The Galaxy Has 3 Spiral Arms')\n",
        "        output.append('The Galaxy Has 3 Spiral Arms\\n')\n",
        "    elif ((predictdf['Class11.4']>predictdf['Class11.1']) & (predictdf['Class11.4']>predictdf['Class11.2']) & (predictdf['Class11.4']>predictdf['Class11.3']) & (predictdf['Class11.4']>predictdf['Class11.5']) & (predictdf['Class11.4']>predictdf['Class11.6'])).any():\n",
        "        print('The Galaxy Has 4 Spiral Arms')\n",
        "        output.append('The Galaxy Has 4 Spiral Arms\\n')\n",
        "    elif ((predictdf['Class11.5']>predictdf['Class11.1']) & (predictdf['Class11.5']>predictdf['Class11.2']) & (predictdf['Class11.5']>predictdf['Class11.3']) & (predictdf['Class11.5']>predictdf['Class11.4']) & (predictdf['Class11.5']>predictdf['Class11.6'])).any():\n",
        "        print('The Galaxy Has More Than 4 Spiral Arms')\n",
        "        output.append('The Galaxy Has More Than 4 Spiral Arms\\n')\n",
        "    elif ((predictdf['Class11.6']>predictdf['Class11.1']) & (predictdf['Class11.6']>predictdf['Class11.2']) & (predictdf['Class11.6']>predictdf['Class11.3']) & (predictdf['Class11.6']>predictdf['Class11.4']) & (predictdf['Class11.6']>predictdf['Class11.5'])).any():\n",
        "        print('The Number Of Spiral Arms That The Galaxy Has Is Indeterminable')\n",
        "        output.append('The Number Of Spiral Arms That The Galaxy Has Is Indeterminable\\n')\n",
        "\n",
        "def getfeatures(predictdf):\n",
        "    global output\n",
        "    output=[]\n",
        "    print(\"The predicted features of the image are - \\n\")\n",
        "    if ((predictdf['Class1.1']>predictdf['Class1.2']) & (predictdf['Class1.1']>predictdf['Class1.3'])).any():\n",
        "        print('The Galaxy Is Smooth')\n",
        "        output.append('The Galaxy Is Smooth\\n')\n",
        "        class7(predictdf)\n",
        "    elif ((predictdf['Class1.2']>predictdf['Class1.1']) & (predictdf['Class1.2']>predictdf['Class1.3'])).any():\n",
        "        print('The Galaxy Has Features/Disk')\n",
        "        output.append('The Galaxy Has Features/Disk\\n')\n",
        "        class2(predictdf)\n",
        "    elif ((predictdf['Class1.3']>predictdf['Class1.1']) & (predictdf['Class1.3']>predictdf['Class1.2'])).any():\n",
        "        print('The Image Is Of A Star/Artifact')\n",
        "        output.append('The Image Is Of A Star/Artifact\\n')\n",
        "    return output\n",
        "def preprocessing(imagepath):\n",
        "    # img=Image.open(imagepath)\n",
        "    img=imagepath\n",
        "    resized=img.resize((224,224))\n",
        "    medfil=resized.filter(ImageFilter.MedianFilter(size = 3)) \n",
        "    open_cv_image = np.array(medfil) \n",
        "    # Convert RGB to BGR \n",
        "    open_cv_image = open_cv_image[:, :, ::-1].copy() \n",
        "    ycb=cv2.cvtColor(open_cv_image,cv2.COLOR_BGR2LAB) # Converting RGB to LAB colorscale\n",
        "    imgs=cv2.split(ycb)  # Splitting Channels of LAB Colorscale.\n",
        "    clahe=cv2.createCLAHE(clipLimit=2.0,tileGridSize=(3,3)) # Creating CLAHE(Clip limit:sets threshhold for contrast limiting.)\n",
        "    # tilegridesize:used for subimages for applying clahe.\n",
        "    imgs[0]= clahe.apply(imgs[0]) # Applying Clahe on luminescence channel\n",
        "    labimg=cv2.merge(imgs)   # Merging channels of LAB.\n",
        "    labimg=cv2.cvtColor(labimg,cv2.COLOR_LAB2BGR) # Converting back LAB to RGB color scale in BGR format\n",
        "    RGBimage = labimg[...,::-1] #BGR to RGB\n",
        "    return RGBimage\n",
        "def ConvLayers(layers, model, filters):\n",
        "    for i in range(layers):\n",
        "        model.add(ZeroPadding2D((1,1)))\n",
        "        model.add(Convolution2D(filters, 3,3,activation='relu'))\n",
        "    model.add(MaxPooling2D((2,2),strides=(1,1),padding=\"same\"))\n",
        "def FCLayers(model):\n",
        "    model.add(Dense(4096, activation='relu'))\n",
        "    model.add(Dropout(0.5))\n",
        "def VGG16_arc():\n",
        "    model=Sequential()\n",
        "    ConvLayers(2,model,64)\n",
        "    ConvLayers(2,model,128)\n",
        "    ConvLayers(3,model,256)\n",
        "    ConvLayers(3,model,512)\n",
        "    ConvLayers(3,model,512)\n",
        "    model.add(Flatten())\n",
        "    FCLayers(model)\n",
        "    FCLayers(model)\n",
        "    model.add(Dense(37,activation='sigmoid'))\n",
        "    return model\n",
        "\n",
        "#Model compilation\n",
        "# optimizer = Adam(learning_rate=0.001, decay=5e-4)\n",
        "# model = VGG16_arc()\n",
        "# model.compile(loss='mean_squared_error', optimizer=optimizer, metrics=['accuracy'])\n",
        "# model.build(input_shape=(None,224,224,3))\n",
        "# model.load_weights('./ffdf_trial.hdf5')\n",
        "\n",
        "def prediction(imag):\n",
        "    image=preprocessing(imag)\n",
        "    img_array = img_to_array(image)\n",
        "    img_batch = np.expand_dims(img_array, axis=0)\n",
        "    optimizer = Adam(learning_rate=0.001, decay=5e-4)\n",
        "    model = VGG16_arc()\n",
        "    model.compile(loss='mean_squared_error', optimizer=optimizer, metrics=['accuracy'])\n",
        "    model.build(input_shape=(None,224,224,3))\n",
        "    model.load_weights('/content/drive/MyDrive/final trial 2/thirdrunweights.hdf5')\n",
        "    predictarray=model.predict(img_batch)\n",
        "    print(predictarray)\n",
        "    return predictarray\n",
        "\n"
      ],
      "execution_count": 4,
      "outputs": []
    },
    {
      "cell_type": "code",
      "metadata": {
        "colab": {
          "base_uri": "https://localhost:8080/"
        },
        "id": "rWPsipD50U6m",
        "outputId": "c7126a94-8a3f-4450-9389-bd6a83fec509"
      },
      "source": [
        "# @app.route('/')\n",
        "# def home():\n",
        "#   return render_template('index.html')\n",
        "\n",
        "from flask import Flask,url_for,render_template,request,redirect\n",
        "from PIL import Image,ImageFilter\n",
        "import io\n",
        "import base64\n",
        "import os\n",
        "# from '/content/drive/MyDrive/final trial 2/pred.py' import *\n",
        "output=[]\n",
        "app = Flask(__name__, template_folder='/content/drive/MyDrive/final trial 2/templates')\n",
        "run_with_ngrok(app) \n",
        "@app.route('/')\n",
        "def home():\n",
        "    return render_template('index.html',error=\"\")\n",
        "@app.route('/upload',methods=['GET','POST'])\n",
        "# the upload function is called when the browser requests fior it.\n",
        "def upload():\n",
        "    # storing the submitted file object\n",
        "    u_file=request.files['file']\n",
        "    #accessing the file through the files attribute of the request\n",
        "# for file in request.files.getlist('file') .....allows to acccess multiple files uploaded\n",
        "    \n",
        "    if(u_file.filename==''):\n",
        "        return render_template('index.html',error=\"Please upload a file\")        \n",
        "    else:\n",
        "        imf=u_file.read()\n",
        "        pillo=Image.open(u_file)\n",
        "        predictarray=prediction(pillo)\n",
        "        predictdf = pd.DataFrame(data = predictarray,columns = classes)\n",
        "        global output\n",
        "        output=[]\n",
        "        output=getfeatures(predictdf)\n",
        "        im = Image.open(u_file)\n",
        "        data = io.BytesIO()\n",
        "        im.save(data, \"JPEG\")\n",
        "        encoded_img_data = base64.b64encode(data.getvalue())\n",
        "        return render_template('display.html',value=encoded_img_data.decode('utf-8'),length=len(output) ,output=output)\n",
        "if __name__==\"__main__\":\n",
        "    # app.run(debug=True,port=int(os.environ.get('PORT', 8080)))\n",
        "    app.run()"
      ],
      "execution_count": null,
      "outputs": [
        {
          "output_type": "stream",
          "text": [
            " * Serving Flask app \"__main__\" (lazy loading)\n",
            " * Environment: production\n",
            "\u001b[31m   WARNING: This is a development server. Do not use it in a production deployment.\u001b[0m\n",
            "\u001b[2m   Use a production WSGI server instead.\u001b[0m\n",
            " * Debug mode: off\n"
          ],
          "name": "stdout"
        },
        {
          "output_type": "stream",
          "text": [
            " * Running on http://127.0.0.1:5000/ (Press CTRL+C to quit)\n"
          ],
          "name": "stderr"
        },
        {
          "output_type": "stream",
          "text": [
            " * Running on http://7d2be6e9c11f.ngrok.io\n",
            " * Traffic stats available on http://127.0.0.1:4040\n"
          ],
          "name": "stdout"
        },
        {
          "output_type": "stream",
          "text": [
            "127.0.0.1 - - [09/Jun/2021 05:01:49] \"\u001b[37mGET / HTTP/1.1\u001b[0m\" 200 -\n",
            "127.0.0.1 - - [09/Jun/2021 05:01:50] \"\u001b[33mGET /static/css/main.css HTTP/1.1\u001b[0m\" 404 -\n",
            "127.0.0.1 - - [09/Jun/2021 05:01:50] \"\u001b[33mGET /favicon.ico HTTP/1.1\u001b[0m\" 404 -\n",
            "127.0.0.1 - - [09/Jun/2021 05:02:05] \"\u001b[37mPOST /upload HTTP/1.1\u001b[0m\" 200 -\n"
          ],
          "name": "stderr"
        },
        {
          "output_type": "stream",
          "text": [
            "[[0.03795257 0.9527427  0.00858632 0.03564438 0.9163983  0.50563437\n",
            "  0.4268256  0.79868305 0.11747786 0.02814516 0.35045004 0.4727595\n",
            "  0.09177288 0.44823387 0.55108374 0.00446638 0.02471423 0.00175256\n",
            "  0.12139153 0.02137622 0.08015054 0.07452732 0.08545363 0.10655552\n",
            "  0.00158519 0.02785262 0.00258669 0.00363609 0.12649804 0.32335088\n",
            "  0.40107176 0.04848784 0.65950674 0.03214255 0.00702751 0.0027923\n",
            "  0.06193605]]\n",
            "The predicted features of the image are - \n",
            "\n",
            "The Galaxy Has Features/Disk\n",
            "The Disk Cannot Be Viewed Edge-on\n",
            "There Is A Sign Of A Bar Feature Through The Centre Of The Galaxy\n",
            "There Is A Sign Of A Spiral Arm Pattern\n",
            "The Spiral Arms Appear To Be Loosely Wound\n",
            "The Galaxy Has 2 Spiral Arms\n"
          ],
          "name": "stdout"
        }
      ]
    },
    {
      "cell_type": "code",
      "metadata": {
        "colab": {
          "base_uri": "https://localhost:8080/"
        },
        "id": "mqyUH6Z-0n4F",
        "outputId": "d607da01-1b11-401a-8ee1-cadb86fa6b42"
      },
      "source": [
        "# app.run()"
      ],
      "execution_count": null,
      "outputs": [
        {
          "output_type": "stream",
          "text": [
            " * Serving Flask app \"__main__\" (lazy loading)\n",
            " * Environment: production\n",
            "\u001b[31m   WARNING: This is a development server. Do not use it in a production deployment.\u001b[0m\n",
            "\u001b[2m   Use a production WSGI server instead.\u001b[0m\n",
            " * Debug mode: off\n"
          ],
          "name": "stdout"
        },
        {
          "output_type": "stream",
          "text": [
            " * Running on http://127.0.0.1:5000/ (Press CTRL+C to quit)\n"
          ],
          "name": "stderr"
        },
        {
          "output_type": "stream",
          "text": [
            " * Running on http://ec9323a84615.ngrok.io\n",
            " * Traffic stats available on http://127.0.0.1:4040\n"
          ],
          "name": "stdout"
        },
        {
          "output_type": "stream",
          "text": [
            "127.0.0.1 - - [09/Jun/2021 04:10:30] \"\u001b[37mGET / HTTP/1.1\u001b[0m\" 200 -\n",
            "127.0.0.1 - - [09/Jun/2021 04:10:31] \"\u001b[33mGET /static/css/main.css HTTP/1.1\u001b[0m\" 404 -\n",
            "127.0.0.1 - - [09/Jun/2021 04:10:31] \"\u001b[33mGET /favicon.ico HTTP/1.1\u001b[0m\" 404 -\n"
          ],
          "name": "stderr"
        }
      ]
    },
    {
      "cell_type": "code",
      "metadata": {
        "id": "nL74v9mg07kl"
      },
      "source": [
        ""
      ],
      "execution_count": null,
      "outputs": []
    }
  ]
}